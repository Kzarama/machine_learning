{
  "nbformat": 4,
  "nbformat_minor": 0,
  "metadata": {
    "colab": {
      "name": "AlgoritmoGenetico.ipynb",
      "provenance": [],
      "collapsed_sections": []
    },
    "kernelspec": {
      "name": "python3",
      "display_name": "Python 3"
    }
  },
  "cells": [
    {
      "cell_type": "code",
      "metadata": {
        "id": "CAY1GRncnQop",
        "colab_type": "code",
        "colab": {}
      },
      "source": [
        "import random"
      ],
      "execution_count": 0,
      "outputs": []
    },
    {
      "cell_type": "code",
      "metadata": {
        "id": "UfgoTsFrnYsv",
        "colab_type": "code",
        "colab": {}
      },
      "source": [
        "#modelo optimo\n",
        "modelo = [1,1,1,1,1,1,1,1,1,1]\n",
        "#longitud del material genetico del individuo\n",
        "largo = 10\n",
        "#poblacion\n",
        "num = 10\n",
        "#numero de individuos seleccionados para la combinacion\n",
        "pressure = 3\n",
        "#Chance de mutacion del individuo\n",
        "mutation_chance = 0.2"
      ],
      "execution_count": 0,
      "outputs": []
    },
    {
      "cell_type": "code",
      "metadata": {
        "id": "n3H8-Yg4omKN",
        "colab_type": "code",
        "outputId": "ac46b75f-84f2-48a3-86ad-f7534d19d52b",
        "colab": {
          "base_uri": "https://localhost:8080/",
          "height": 67
        }
      },
      "source": [
        "print(\"\\n\\Modelo: %s\\n\" %(modelo))"
      ],
      "execution_count": 0,
      "outputs": [
        {
          "output_type": "stream",
          "text": [
            "\n",
            "\\Modelo: [1, 1, 1, 1, 1, 1, 1, 1, 1, 1]\n",
            "\n"
          ],
          "name": "stdout"
        }
      ]
    },
    {
      "cell_type": "code",
      "metadata": {
        "id": "HlXt_zkSo0v5",
        "colab_type": "code",
        "colab": {}
      },
      "source": [
        "#crear individuo\n",
        "def individual(min, max):\n",
        "  return[random.randint(min, max) for i in range(largo)]"
      ],
      "execution_count": 0,
      "outputs": []
    },
    {
      "cell_type": "code",
      "metadata": {
        "id": "L8jugKe6pK-0",
        "colab_type": "code",
        "colab": {}
      },
      "source": [
        "#crear poblacion\n",
        "def crear_poblacion():\n",
        "  return[individual(1, 9) for i in range(num)]"
      ],
      "execution_count": 0,
      "outputs": []
    },
    {
      "cell_type": "code",
      "metadata": {
        "id": "g_-2tdmspeyx",
        "colab_type": "code",
        "colab": {}
      },
      "source": [
        "#seleccionar individuos mas aptos\n",
        "def calcular_fitness(individual):\n",
        "  fitness = 0\n",
        "  for i in range(len(individual)):\n",
        "    if individual[i] == modelo[i]:\n",
        "      fitness += 1\n",
        "  return fitness"
      ],
      "execution_count": 0,
      "outputs": []
    },
    {
      "cell_type": "code",
      "metadata": {
        "id": "bk77WrT4q5XP",
        "colab_type": "code",
        "colab": {}
      },
      "source": [
        "#definir la reproduccion\n",
        "def selection_and_reproduction(population):\n",
        "  puntuados = [(calcular_fitness(i), i) for i in population]\n",
        "  puntuados = [i[1] for i in sorted(puntuados)]\n",
        "  population = puntuados\n",
        "  selected = puntuados[(len(puntuados)-pressure):]\n",
        "  \n",
        "  for i in range(len(population)-pressure):\n",
        "    punto = random.randint(1, largo-1)\n",
        "    padre = random.sample(selected, 2)\n",
        "    \n",
        "    population[i][:punto] = padre[0][:punto]\n",
        "    population[i][punto:] = padre[1][punto:]\n",
        "  return population"
      ],
      "execution_count": 0,
      "outputs": []
    },
    {
      "cell_type": "code",
      "metadata": {
        "id": "wNKKvoVZsadm",
        "colab_type": "code",
        "colab": {}
      },
      "source": [
        "def mutation(population):\n",
        "  for i in range(len(population)-pressure):\n",
        "    if random.random() <= mutation_chance:\n",
        "      punto = random.randint(0, largo-1)\n",
        "      nuevo_valor = random.randint(1, 9)\n",
        "\n",
        "      while nuevo_valor == population[i][punto]:\n",
        "        nuevo_valor = random.randint(1, 9)\n",
        "      population[i][punto] = nuevo_valor\n",
        "    return population"
      ],
      "execution_count": 0,
      "outputs": []
    },
    {
      "cell_type": "code",
      "metadata": {
        "id": "tsl-S9DzuRGa",
        "colab_type": "code",
        "outputId": "a366f646-394c-41c8-b656-d35ddd648951",
        "colab": {
          "base_uri": "https://localhost:8080/",
          "height": 171
        }
      },
      "source": [
        "population = crear_poblacion()\n",
        "print('Poblacion inicial:\\n%s' %(population))\n",
        "for i in range(100):\n",
        "  population = selection_and_reproduction(population)\n",
        "  population = mutation(population)\n",
        "\n",
        "print('\\nPoblacion final: \\n%s'%(population))\n",
        "print('\\n\\n')"
      ],
      "execution_count": 0,
      "outputs": [
        {
          "output_type": "stream",
          "text": [
            "Poblacion inicial:\n",
            "[[4, 7, 9, 3, 3, 3, 4, 3, 6, 9], [8, 2, 8, 2, 7, 6, 1, 6, 2, 9], [5, 1, 3, 2, 3, 2, 7, 2, 7, 6], [5, 6, 5, 7, 4, 4, 4, 9, 1, 7], [7, 5, 6, 4, 1, 3, 3, 6, 5, 6], [7, 8, 1, 8, 9, 2, 9, 1, 8, 6], [8, 9, 8, 4, 7, 1, 7, 6, 1, 6], [3, 9, 8, 7, 5, 8, 5, 5, 1, 2], [5, 9, 9, 5, 3, 5, 2, 2, 5, 6], [7, 2, 6, 5, 8, 3, 4, 7, 8, 1]]\n",
            "\n",
            "Poblacion final: \n",
            "[[9, 8, 1, 8, 9, 9, 9, 1, 1, 1], [9, 8, 1, 8, 9, 9, 9, 1, 1, 1], [9, 8, 1, 8, 9, 9, 9, 1, 1, 1], [9, 8, 1, 8, 9, 9, 9, 1, 1, 1], [9, 8, 1, 8, 9, 9, 9, 1, 1, 1], [9, 8, 1, 8, 9, 9, 9, 1, 1, 1], [9, 8, 1, 8, 9, 9, 9, 1, 1, 1], [9, 8, 1, 8, 9, 9, 9, 1, 1, 1], [9, 8, 1, 8, 9, 9, 9, 1, 1, 1], [9, 8, 1, 8, 9, 9, 9, 1, 1, 1]]\n",
            "\n",
            "\n",
            "\n"
          ],
          "name": "stdout"
        }
      ]
    }
  ]
}