{
 "nbformat": 4,
 "nbformat_minor": 2,
 "metadata": {
  "language_info": {
   "name": "python",
   "codemirror_mode": {
    "name": "ipython",
    "version": 3
   },
   "version": "3.7.4-final"
  },
  "orig_nbformat": 2,
  "file_extension": ".py",
  "mimetype": "text/x-python",
  "name": "python",
  "npconvert_exporter": "python",
  "pygments_lexer": "ipython3",
  "version": 3,
  "kernelspec": {
   "name": "python37464bitbaseconda382dd9c8a6244264a9107353e8a52713",
   "display_name": "Python 3.7.4 64-bit ('base': conda)"
  }
 },
 "cells": [
  {
   "cell_type": "code",
   "execution_count": 20,
   "metadata": {},
   "outputs": [],
   "source": [
    "import numpy as np\n",
    "import pandas as pd\n",
    "import matplotlib.pyplot as plt \n",
    "%matplotlib inline\n",
    "from sklearn.model_selection import train_test_split\n",
    "from sklearn.preprocessing import StandardScaler\n",
    "from sklearn.linear_model import Lasso\n",
    "#pipelines for transforms\n",
    "from sklearn.pipeline import make_pipeline\n",
    "from sklearn.preprocessing import PolynomialFeatures"
   ]
  },
  {
   "cell_type": "code",
   "execution_count": 8,
   "metadata": {},
   "outputs": [
    {
     "output_type": "execute_result",
     "data": {
      "text/plain": "array([3.34335170e+07, 2.00224902e+03, 2.11794254e+00, 1.08373070e+02,\n       1.01768073e+04, 4.15540909e+07, 6.45714750e+00, 4.85791863e+07])"
     },
     "metadata": {},
     "execution_count": 8
    }
   ],
   "source": [
    "x = pd.read_csv('x.csv')\n",
    "y = x['worldwide_gross']\n",
    "x = x.drop('worldwide_gross', axis=1)\n",
    "x_train, x_test, y_train, y_test = train_test_split(x, y)\n",
    "scaler = StandardScaler()\n",
    "scaler.fit(x_train)\n",
    "scaler.mean_"
   ]
  },
  {
   "cell_type": "code",
   "execution_count": 9,
   "metadata": {},
   "outputs": [
    {
     "output_type": "execute_result",
     "data": {
      "text/plain": "array([4.14946504e+07, 1.20097082e+01, 6.73857976e-01, 2.25312355e+01,\n       1.64207919e+04, 2.31446338e+08, 1.05824799e+00, 6.54528112e+07])"
     },
     "metadata": {},
     "execution_count": 9
    }
   ],
   "source": [
    "scaler.scale_"
   ]
  },
  {
   "cell_type": "code",
   "execution_count": 10,
   "metadata": {},
   "outputs": [
    {
     "output_type": "execute_result",
     "data": {
      "text/plain": "array([[-0.27554195, -0.77012863, -0.39762465, ..., -0.07800552,\n        -2.41639722, -0.57878303],\n       [ 4.25516256,  0.64539286,  0.34437147, ...,  0.68459026,\n         0.22948544,  0.86536464],\n       [-0.68523332,  0.14579704, -0.39762465, ..., -0.15793765,\n         0.41847705, -0.60795664],\n       ...,\n       [ 0.03775145, -0.0207349 ,  0.34437147, ..., -0.02831797,\n        -1.1879517 , -0.27915351],\n       [-0.08274602,  0.72865883,  0.34437147, ..., -0.04992125,\n         0.32398125, -0.73398843],\n       [-0.51653687, -0.60359669, -0.39762465, ..., -0.1233724 ,\n         0.22948544, -0.42000669]])"
     },
     "metadata": {},
     "execution_count": 10
    }
   ],
   "source": [
    "scaler.transform(x_train)"
   ]
  },
  {
   "cell_type": "code",
   "execution_count": 14,
   "metadata": {},
   "outputs": [
    {
     "output_type": "execute_result",
     "data": {
      "text/plain": "Lasso(alpha=1.0, copy_X=True, fit_intercept=True, max_iter=1000,\n      normalize=False, positive=False, precompute=False, random_state=None,\n      selection='cyclic', tol=0.0001, warm_start=False)"
     },
     "metadata": {},
     "execution_count": 14
    }
   ],
   "source": [
    "x_train_scaled, x_test_scaled = (scaler.transform(x_train), scaler.transform(x_test))\n",
    "\n",
    "model = Lasso()\n",
    "model_scaled = Lasso()\n",
    "\n",
    "model.fit(x_train, y_train)\n",
    "model_scaled.fit(x_train_scaled, y_train)"
   ]
  },
  {
   "cell_type": "code",
   "execution_count": 15,
   "metadata": {},
   "outputs": [
    {
     "output_type": "stream",
     "name": "stdout",
     "text": "0.8332155295449043\n0.8332155298205985\n"
    }
   ],
   "source": [
    "print(model.score(x_test, y_test))\n",
    "print(model_scaled.score(x_test_scaled, y_test))"
   ]
  },
  {
   "cell_type": "markdown",
   "metadata": {},
   "source": [
    "#simplificar las transformaciones con transformaciones"
   ]
  },
  {
   "cell_type": "code",
   "execution_count": 18,
   "metadata": {},
   "outputs": [
    {
     "output_type": "execute_result",
     "data": {
      "text/plain": "0.8332155298205985"
     },
     "metadata": {},
     "execution_count": 18
    }
   ],
   "source": [
    "model_scaled = make_pipeline(StandardScaler(), Lasso())\n",
    "model_scaled.fit(x_train, y_train)\n",
    "model_scaled.score(x_test, y_test)"
   ]
  },
  {
   "cell_type": "code",
   "execution_count": 22,
   "metadata": {},
   "outputs": [
    {
     "output_type": "execute_result",
     "data": {
      "text/plain": "array([[ 1.,  0.,  1.,  0.,  0.,  1.],\n       [ 1.,  2.,  3.,  4.,  6.,  9.],\n       [ 1.,  4.,  5., 16., 20., 25.]])"
     },
     "metadata": {},
     "execution_count": 22
    }
   ],
   "source": [
    "a = np.arange(6).reshape(3, 2)\n",
    "\n",
    "transformer = PolynomialFeatures(2)\n",
    "transformer.fit_transform(a)"
   ]
  },
  {
   "cell_type": "code",
   "execution_count": 24,
   "metadata": {},
   "outputs": [
    {
     "output_type": "execute_result",
     "data": {
      "text/plain": "(4104, 45)"
     },
     "metadata": {},
     "execution_count": 24
    }
   ],
   "source": [
    "transformer = PolynomialFeatures(2)\n",
    "transformer.fit_transform(x).shape"
   ]
  },
  {
   "cell_type": "code",
   "execution_count": 25,
   "metadata": {},
   "outputs": [
    {
     "output_type": "execute_result",
     "data": {
      "text/plain": "0.8483387612214206"
     },
     "metadata": {},
     "execution_count": 25
    }
   ],
   "source": [
    "model_poly = make_pipeline(PolynomialFeatures(2), Lasso())\n",
    "model_poly.fit(x_train, y_train)\n",
    "model_poly.score(x_test, y_test)"
   ]
  },
  {
   "cell_type": "code",
   "execution_count": null,
   "metadata": {},
   "outputs": [],
   "source": []
  }
 ]
}