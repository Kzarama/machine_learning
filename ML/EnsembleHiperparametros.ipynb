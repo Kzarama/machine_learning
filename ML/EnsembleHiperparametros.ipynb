{
 "cells": [
  {
   "cell_type": "code",
   "execution_count": 1,
   "metadata": {},
   "outputs": [],
   "source": [
    "import warnings\n",
    "warnings.simplefilter('ignore')"
   ]
  },
  {
   "cell_type": "code",
   "execution_count": 2,
   "metadata": {},
   "outputs": [],
   "source": [
    "%matplotlib inline\n",
    "import numpy as np \n",
    "import pandas as pd \n",
    "import matplotlib.pyplot as plt \n",
    "from sklearn.model_selection import train_test_split\n",
    "# importar el arbol de desicion \n",
    "from sklearn.tree import DecisionTreeRegressor\n",
    "# visualizar el arbol de desiciones\n",
    "import graphviz\n",
    "# exportar grafo a graphviz\n",
    "from sklearn.tree import export_graphviz"
   ]
  },
  {
   "cell_type": "markdown",
   "metadata": {},
   "source": [
    "# Ensemble\n",
    "---\n",
    "ensemble = utilizan submodelos y hacen la prediccions"
   ]
  },
  {
   "cell_type": "markdown",
   "metadata": {},
   "source": [
    "## Decision tree"
   ]
  },
  {
   "cell_type": "code",
   "execution_count": 3,
   "metadata": {},
   "outputs": [
    {
     "output_type": "execute_result",
     "data": {
      "text/plain": "'digraph Tree {\\nnode [shape=box] ;\\n0 [label=\"opening_gross <= 41613376.0\\\\nmse = 4.491994363696598e+16\\\\nsamples = 1665\\\\nvalue = 141540319.054\"] ;\\n1 [label=\"opening_gross <= 22074047.0\\\\nmse = 1.33338221931278e+16\\\\nsamples = 1506\\\\nvalue = 92999937.199\"] ;\\n0 -> 1 [labeldistance=2.5, labelangle=45, headlabel=\"True\"] ;\\n2 [label=\"mse = 4923666241203536.0\\\\nsamples = 1257\\\\nvalue = 64781848.271\"] ;\\n1 -> 2 ;\\n3 [label=\"mse = 3.1478131019987544e+16\\\\nsamples = 249\\\\nvalue = 235450289.735\"] ;\\n1 -> 3 ;\\n4 [label=\"opening_gross <= 70351576.0\\\\nmse = 1.103981187159362e+17\\\\nsamples = 159\\\\nvalue = 601300162.289\"] ;\\n0 -> 4 [labeldistance=2.5, labelangle=-45, headlabel=\"False\"] ;\\n5 [label=\"mse = 4.067538845924499e+16\\\\nsamples = 92\\\\nvalue = 440868287.554\"] ;\\n4 -> 5 ;\\n6 [label=\"mse = 1.2226485798747635e+17\\\\nsamples = 67\\\\nvalue = 821594676.851\"] ;\\n4 -> 6 ;\\n}'"
     },
     "metadata": {},
     "execution_count": 3
    }
   ],
   "source": [
    "model = DecisionTreeRegressor(max_depth=2)\n",
    "\n",
    "x = pd.read_csv('x_opening.csv')\n",
    "y = x['worldwide_gross']\n",
    "x = x.drop('worldwide_gross', axis=1)\n",
    "\n",
    "x_train, x_test, y_train, y_test = train_test_split(x, y, random_state = 1)\n",
    "model.fit(x_train, y_train)\n",
    "\n",
    "treedot = export_graphviz(model, out_file=None, feature_names=x.columns)\n",
    "treedot"
   ]
  },
  {
   "cell_type": "code",
   "execution_count": 4,
   "metadata": {},
   "outputs": [],
   "source": [
    "# graphviz.Source(treedot)"
   ]
  },
  {
   "cell_type": "markdown",
   "metadata": {},
   "source": [
    "## Random forest\n",
    "usa decision tree  \n",
    "baging (bootstrap agregation) = de dos datasets sacar dos datasets de igual tamaño, los datos se pueden repetir entre cada dataset y selecciona features diferentes, para sacar diferentes tree y formar un forest"
   ]
  },
  {
   "cell_type": "code",
   "execution_count": 5,
   "metadata": {},
   "outputs": [],
   "source": [
    "# importar random forest\n",
    "from sklearn.ensemble import RandomForestRegressor\n",
    "from sklearn.model_selection import cross_validate"
   ]
  },
  {
   "cell_type": "code",
   "execution_count": 6,
   "metadata": {},
   "outputs": [],
   "source": [
    "# parametro = cantidad de arboles\n",
    "forest = RandomForestRegressor(200)\n",
    "results = cross_validate(forest, x, y, cv=5, return_train_score=True, scoring='r2')"
   ]
  },
  {
   "cell_type": "code",
   "execution_count": 7,
   "metadata": {},
   "outputs": [
    {
     "output_type": "stream",
     "name": "stdout",
     "text": "0.9660687089704039\n0.5203122587293918\n"
    }
   ],
   "source": [
    "train_scores = results['train_score']\n",
    "test_scores = results['test_score']\n",
    "print(np.mean(train_scores))\n",
    "print(np.mean(test_scores))\n",
    "# si el train y el test son diferentes, hay overfiting y hay que cambiar features o modelo"
   ]
  },
  {
   "cell_type": "markdown",
   "metadata": {},
   "source": [
    "## Gradient boosted trees\n",
    "boosting = ensambla modelos de aprendizaje debil"
   ]
  },
  {
   "cell_type": "code",
   "execution_count": 8,
   "metadata": {},
   "outputs": [],
   "source": [
    "# importar gradient boosted regresor \n",
    "from sklearn.ensemble import GradientBoostingRegressor"
   ]
  },
  {
   "cell_type": "code",
   "execution_count": 9,
   "metadata": {},
   "outputs": [
    {
     "output_type": "stream",
     "name": "stdout",
     "text": "0.9652012837595254\n0.5163705838716179\n"
    }
   ],
   "source": [
    "ensemble = GradientBoostingRegressor()\n",
    "results = cross_validate(forest, x, y, cv=5, return_train_score=True, scoring='r2')\n",
    "\n",
    "train_scores = results['train_score']\n",
    "test_scores = results['test_score']\n",
    "print(np.mean(train_scores))\n",
    "print(np.mean(test_scores))\n",
    "# si el train y el test son diferentes, hay overfiting y hay que cambiar features o modelo"
   ]
  },
  {
   "cell_type": "markdown",
   "metadata": {},
   "source": [
    "## Optimizacion de hiperparametros\n",
    "grid = busqueda exhaustiva  \n",
    "grid seach = metodo automatico de seleccion de features, buscando la mejor combinacion de features para el modelo  \n",
    "grid search con cross validation = mide los parametros de forma automatica   \n",
    "Devalidacion = tomar el dataset train, separarlo en una parte pequeña para medir scores mientras se hace el modelo y asi poder tener el modelo de test libre para medir scores finales"
   ]
  },
  {
   "cell_type": "code",
   "execution_count": 17,
   "metadata": {},
   "outputs": [],
   "source": [
    "from sklearn.model_selection import train_test_split\n",
    "# importar grid search con cross validation\n",
    "from sklearn.model_selection import GridSearchCV"
   ]
  },
  {
   "cell_type": "code",
   "execution_count": 14,
   "metadata": {},
   "outputs": [
    {
     "output_type": "execute_result",
     "data": {
      "text/plain": "[20,\n 40,\n 60,\n 80,\n 100,\n 120,\n 140,\n 160,\n 180,\n 200,\n 220,\n 240,\n 260,\n 280,\n 300,\n 320,\n 340,\n 360,\n 380,\n 400,\n 420,\n 440,\n 460,\n 480,\n 500]"
     },
     "metadata": {},
     "execution_count": 14
    }
   ],
   "source": [
    "x_train, x_test, y_train, y_test = train_test_split(x, y, random_state = 1)\n",
    "\n",
    "# parametro = numero de modelos de aprendizaje debil para entrenar el modelo\n",
    "param_test1 = {'n_estimators': range(20, 501, 20)}\n",
    "list(param_test1['n_estimators'])"
   ]
  },
  {
   "cell_type": "code",
   "execution_count": 15,
   "metadata": {},
   "outputs": [],
   "source": [
    "estimador = GradientBoostingRegressor(learning_rate=0.1, min_samples_split=500, min_samples_leaf=50, max_depth=8, max_features='sqrt', subsample=0.8, random_state=10)"
   ]
  },
  {
   "cell_type": "code",
   "execution_count": 18,
   "metadata": {},
   "outputs": [],
   "source": [
    "gsearch1 = GridSearchCV(estimador, param_grid=param_test1, scoring='r2', cv=5)"
   ]
  },
  {
   "cell_type": "code",
   "execution_count": 19,
   "metadata": {},
   "outputs": [
    {
     "output_type": "execute_result",
     "data": {
      "text/plain": "GridSearchCV(cv=5, error_score=nan,\n             estimator=GradientBoostingRegressor(alpha=0.9, ccp_alpha=0.0,\n                                                 criterion='friedman_mse',\n                                                 init=None, learning_rate=0.1,\n                                                 loss='ls', max_depth=8,\n                                                 max_features='sqrt',\n                                                 max_leaf_nodes=None,\n                                                 min_impurity_decrease=0.0,\n                                                 min_impurity_split=None,\n                                                 min_samples_leaf=50,\n                                                 min_samples_split=500,\n                                                 min_weight_fraction_leaf=0.0,\n                                                 n_estimators=100,\n                                                 n_iter_no_change=None,\n                                                 presort='deprecated',\n                                                 random_state=10, subsample=0.8,\n                                                 tol=0.0001,\n                                                 validation_fraction=0.1,\n                                                 verbose=0, warm_start=False),\n             iid='deprecated', n_jobs=None,\n             param_grid={'n_estimators': range(20, 501, 20)},\n             pre_dispatch='2*n_jobs', refit=True, return_train_score=False,\n             scoring='r2', verbose=0)"
     },
     "metadata": {},
     "execution_count": 19
    }
   ],
   "source": [
    "gsearch1.fit(x_train, y_train)"
   ]
  },
  {
   "cell_type": "code",
   "execution_count": 25,
   "metadata": {},
   "outputs": [
    {
     "output_type": "execute_result",
     "data": {
      "text/plain": "[(0.6553377167287445, 0.05763723230388878, {'n_estimators': 20}),\n (0.7194707183052496, 0.06255974658122894, {'n_estimators': 40}),\n (0.7347239263041044, 0.06359927761595936, {'n_estimators': 60}),\n (0.7389339055742862, 0.062364772765764416, {'n_estimators': 80}),\n (0.7420485206288181, 0.06271425977283825, {'n_estimators': 100}),\n (0.7459322395926498, 0.06235500960463639, {'n_estimators': 120}),\n (0.7495406754127887, 0.06335029572288611, {'n_estimators': 140}),\n (0.7508197586274827, 0.06304688375599073, {'n_estimators': 160}),\n (0.7525654539309128, 0.0634404813604329, {'n_estimators': 180}),\n (0.753490598609423, 0.06446653281824145, {'n_estimators': 200}),\n (0.7545692717605135, 0.06341510679393178, {'n_estimators': 220}),\n (0.7553059694284988, 0.06488882352873111, {'n_estimators': 240}),\n (0.755171486028867, 0.06572082397934954, {'n_estimators': 260}),\n (0.753885223323653, 0.06495415209551623, {'n_estimators': 280}),\n (0.7546023133872947, 0.06568746888772702, {'n_estimators': 300}),\n (0.7525006377287122, 0.0654495456973139, {'n_estimators': 320}),\n (0.7535008557269884, 0.0649188129747002, {'n_estimators': 340}),\n (0.7535434090365254, 0.06623192691710862, {'n_estimators': 360}),\n (0.7525857555097668, 0.06541616339851505, {'n_estimators': 380}),\n (0.7525421267829179, 0.06469005322729837, {'n_estimators': 400}),\n (0.7518559183604502, 0.06477375027095922, {'n_estimators': 420}),\n (0.7520536268889677, 0.06507746391795398, {'n_estimators': 440}),\n (0.7515656981040524, 0.06449293371445738, {'n_estimators': 460}),\n (0.7505061566762354, 0.06351607202433791, {'n_estimators': 480}),\n (0.7509608699452639, 0.06327329177832872, {'n_estimators': 500})]"
     },
     "metadata": {},
     "execution_count": 25
    }
   ],
   "source": [
    "lista_parametros = list(zip(gsearch1.cv_results_['mean_test_score'], gsearch1.cv_results_['std_test_score'], gsearch1.cv_results_['params']))\n",
    "lista_parametros"
   ]
  },
  {
   "cell_type": "code",
   "execution_count": 27,
   "metadata": {},
   "outputs": [
    {
     "output_type": "execute_result",
     "data": {
      "text/plain": "(0.7553059694284988, 0.06488882352873111, {'n_estimators': 240})"
     },
     "metadata": {},
     "execution_count": 27
    }
   ],
   "source": [
    "# imprimir mejor parametro\n",
    "max(lista_parametros)"
   ]
  },
  {
   "cell_type": "code",
   "execution_count": 33,
   "metadata": {},
   "outputs": [],
   "source": [
    "# obtener mejor estimador automaticamente gsearch1.best_estimator_\n",
    "final_results = cross_validate(gsearch1.best_estimator_,  x_train, y_train, return_train_score=True)"
   ]
  },
  {
   "cell_type": "code",
   "execution_count": 34,
   "metadata": {},
   "outputs": [
    {
     "output_type": "stream",
     "name": "stdout",
     "text": "0.8286608694466742\n0.7553059694284988\n"
    }
   ],
   "source": [
    "train_scores = final_results['train_score']\n",
    "test_scores = final_results['test_score']\n",
    "print(np.mean(train_scores))\n",
    "print(np.mean(test_scores))\n",
    "# si el train y el test son diferentes, hay overfiting y hay que cambiar features o modelo"
   ]
  },
  {
   "cell_type": "code",
   "execution_count": 35,
   "metadata": {},
   "outputs": [],
   "source": [
    "estimator = GradientBoostingRegressor(learning_rate=0.1, min_samples_split=500, min_samples_leaf=50, max_depth=8, max_features='sqrt', subsample=0.8, random_state=10, n_estimators=240)"
   ]
  },
  {
   "cell_type": "code",
   "execution_count": 36,
   "metadata": {},
   "outputs": [
    {
     "output_type": "execute_result",
     "data": {
      "text/plain": "GradientBoostingRegressor(alpha=0.9, ccp_alpha=0.0, criterion='friedman_mse',\n                          init=None, learning_rate=0.1, loss='ls', max_depth=8,\n                          max_features='sqrt', max_leaf_nodes=None,\n                          min_impurity_decrease=0.0, min_impurity_split=None,\n                          min_samples_leaf=50, min_samples_split=500,\n                          min_weight_fraction_leaf=0.0, n_estimators=240,\n                          n_iter_no_change=None, presort='deprecated',\n                          random_state=10, subsample=0.8, tol=0.0001,\n                          validation_fraction=0.1, verbose=0, warm_start=False)"
     },
     "metadata": {},
     "execution_count": 36
    }
   ],
   "source": [
    "estimator.fit(x_train, y_train)"
   ]
  },
  {
   "cell_type": "code",
   "execution_count": 37,
   "metadata": {},
   "outputs": [
    {
     "output_type": "execute_result",
     "data": {
      "text/plain": "0.8092888852563106"
     },
     "metadata": {},
     "execution_count": 37
    }
   ],
   "source": [
    "estimator.score(x_test, y_test)"
   ]
  }
 ],
 "metadata": {
  "language_info": {
   "codemirror_mode": {
    "name": "ipython",
    "version": 3
   },
   "file_extension": ".py",
   "mimetype": "text/x-python",
   "name": "python",
   "nbconvert_exporter": "python",
   "pygments_lexer": "ipython3",
   "version": "3.8.2-final"
  },
  "orig_nbformat": 2,
  "kernelspec": {
   "name": "python38264bit1d67d5b1f518494cb47f4b8e40a42d7b",
   "display_name": "Python 3.8.2 64-bit"
  }
 },
 "nbformat": 4,
 "nbformat_minor": 2
}