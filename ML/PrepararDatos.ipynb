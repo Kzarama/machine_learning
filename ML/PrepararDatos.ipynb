{
 "nbformat": 4,
 "nbformat_minor": 2,
 "metadata": {
  "language_info": {
   "name": "python",
   "codemirror_mode": {
    "name": "ipython",
    "version": 3
   },
   "version": "3.7.4-final"
  },
  "orig_nbformat": 2,
  "file_extension": ".py",
  "mimetype": "text/x-python",
  "name": "python",
  "npconvert_exporter": "python",
  "pygments_lexer": "ipython3",
  "version": 3,
  "kernelspec": {
   "name": "python37464bitbaseconda382dd9c8a6244264a9107353e8a52713",
   "display_name": "Python 3.7.4 64-bit ('base': conda)"
  }
 },
 "cells": [
  {
   "cell_type": "code",
   "execution_count": 1,
   "metadata": {},
   "outputs": [],
   "source": [
    "import numpy as np\n",
    "import pandas as pd\n",
    "import matplotlib.pyplot as plt\n",
    "#permite mostrar varios graficos en un notebook\n",
    "%matplotlib inline\n",
    "import seaborn as sb\n",
    "#preprocessing para llenar los datos vacios\n",
    "from sklearn.impute import SimpleImputer"
   ]
  },
  {
   "cell_type": "code",
   "execution_count": 2,
   "metadata": {},
   "outputs": [
    {
     "output_type": "execute_result",
     "data": {
      "text/plain": "(5043, 19)"
     },
     "metadata": {},
     "execution_count": 2
    }
   ],
   "source": [
    "movies = pd.read_csv('peliculas.csv', encoding='utf-8')\n",
    "movies.shape"
   ]
  },
  {
   "cell_type": "code",
   "execution_count": 3,
   "metadata": {},
   "outputs": [
    {
     "output_type": "execute_result",
     "data": {
      "text/plain": "movie_title                          Pirates of the Caribbean: At World's End \ntitle_year                                                                2007\ncolor                                                                    Color\naspect_ratio                                                              2.35\nduration                                                                   169\nlanguage                                                               English\ncountry                                                                    USA\nduration.1                                                                 169\ngenres                                                Action|Adventure|Fantasy\ncontent_rating                                                           PG-13\nplot_keywords                goddess|marriage ceremony|marriage proposal|pi...\ndirector_name                                                   Gore Verbinski\nactor_1_name                                                       Johnny Depp\nactor_2_name                                                     Orlando Bloom\nactor_3_name                                                    Jack Davenport\ncast_total_facebook_likes                                                48350\nbudget                                                                   3e+08\nimdb_score                                                                 7.1\ngross                                                              3.09404e+08\nName: 1, dtype: object"
     },
     "metadata": {},
     "execution_count": 3
    }
   ],
   "source": [
    "movies.loc[1, :]"
   ]
  },
  {
   "cell_type": "code",
   "execution_count": 4,
   "metadata": {},
   "outputs": [
    {
     "output_type": "stream",
     "name": "stdout",
     "text": "<class 'pandas.core.frame.DataFrame'>\nRangeIndex: 5043 entries, 0 to 5042\nData columns (total 19 columns):\nmovie_title                  5043 non-null object\ntitle_year                   4935 non-null float64\ncolor                        5024 non-null object\naspect_ratio                 4714 non-null float64\nduration                     5028 non-null float64\nlanguage                     5031 non-null object\ncountry                      5038 non-null object\nduration.1                   5028 non-null float64\ngenres                       5043 non-null object\ncontent_rating               4740 non-null object\nplot_keywords                4890 non-null object\ndirector_name                4939 non-null object\nactor_1_name                 5036 non-null object\nactor_2_name                 5030 non-null object\nactor_3_name                 5020 non-null object\ncast_total_facebook_likes    5043 non-null int64\nbudget                       4551 non-null float64\nimdb_score                   5043 non-null float64\ngross                        4159 non-null float64\ndtypes: float64(7), int64(1), object(11)\nmemory usage: 748.7+ KB\n"
    }
   ],
   "source": [
    "movies.info()"
   ]
  },
  {
   "cell_type": "code",
   "execution_count": 5,
   "metadata": {},
   "outputs": [
    {
     "output_type": "execute_result",
     "data": {
      "text/plain": "movie_title                   object\ntitle_year                   float64\ncolor                         object\naspect_ratio                 float64\nduration                     float64\nlanguage                      object\ncountry                       object\nduration.1                   float64\ngenres                        object\ncontent_rating                object\nplot_keywords                 object\ndirector_name                 object\nactor_1_name                  object\nactor_2_name                  object\nactor_3_name                  object\ncast_total_facebook_likes      int64\nbudget                       float64\nimdb_score                   float64\ngross                        float64\ndtype: object"
     },
     "metadata": {},
     "execution_count": 5
    }
   ],
   "source": [
    "movies.dtypes"
   ]
  },
  {
   "cell_type": "code",
   "execution_count": 6,
   "metadata": {},
   "outputs": [
    {
     "output_type": "execute_result",
     "data": {
      "text/plain": "movie_title                  False\ntitle_year                    True\ncolor                        False\naspect_ratio                  True\nduration                      True\nlanguage                     False\ncountry                      False\nduration.1                    True\ngenres                       False\ncontent_rating               False\nplot_keywords                False\ndirector_name                False\nactor_1_name                 False\nactor_2_name                 False\nactor_3_name                 False\ncast_total_facebook_likes    False\nbudget                        True\nimdb_score                    True\ngross                         True\ndtype: bool"
     },
     "metadata": {},
     "execution_count": 6
    }
   ],
   "source": [
    "(movies.dtypes == float) | (movies.dtypes == int)"
   ]
  },
  {
   "cell_type": "code",
   "execution_count": 7,
   "metadata": {},
   "outputs": [
    {
     "output_type": "execute_result",
     "data": {
      "text/plain": "['title_year',\n 'aspect_ratio',\n 'duration',\n 'duration.1',\n 'cast_total_facebook_likes',\n 'budget',\n 'imdb_score',\n 'gross']"
     },
     "metadata": {},
     "execution_count": 7
    }
   ],
   "source": [
    "num = (movies.dtypes == float) | (movies.dtypes == int)\n",
    "num['cast_total_facebook_likes'] = True\n",
    "num_cols = [c for c in num.index if num[c]]\n",
    "num_cols"
   ]
  },
  {
   "cell_type": "code",
   "execution_count": 8,
   "metadata": {},
   "outputs": [
    {
     "output_type": "execute_result",
     "data": {
      "text/plain": "['movie_title',\n 'color',\n 'language',\n 'country',\n 'genres',\n 'content_rating',\n 'plot_keywords',\n 'director_name',\n 'actor_1_name',\n 'actor_2_name',\n 'actor_3_name']"
     },
     "metadata": {},
     "execution_count": 8
    }
   ],
   "source": [
    "obj = (movies.dtypes == object)\n",
    "obj_cols = [c for c in obj.index if obj[c]]\n",
    "obj_cols"
   ]
  },
  {
   "cell_type": "code",
   "execution_count": 9,
   "metadata": {},
   "outputs": [
    {
     "output_type": "execute_result",
     "data": {
      "text/plain": "        title_year  aspect_ratio     duration   duration.1  \\\ncount  4935.000000   4714.000000  5028.000000  5028.000000   \nmean   2002.470517      2.220403   107.201074   107.201074   \nstd      12.474599      1.385113    25.197441    25.197441   \nmin    1916.000000      1.180000     7.000000     7.000000   \n25%    1999.000000      1.850000    93.000000    93.000000   \n50%    2005.000000      2.350000   103.000000   103.000000   \n75%    2011.000000      2.350000   118.000000   118.000000   \nmax    2016.000000     16.000000   511.000000   511.000000   \n\n       cast_total_facebook_likes        budget   imdb_score         gross  \ncount                5043.000000  4.551000e+03  5043.000000  4.159000e+03  \nmean                 9699.063851  3.975262e+07     6.442138  4.846841e+07  \nstd                 18163.799124  2.061149e+08     1.125116  6.845299e+07  \nmin                     0.000000  2.180000e+02     1.600000  1.620000e+02  \n25%                  1411.000000  6.000000e+06     5.800000  5.340988e+06  \n50%                  3090.000000  2.000000e+07     6.600000  2.551750e+07  \n75%                 13756.500000  4.500000e+07     7.200000  6.230944e+07  \nmax                656730.000000  1.221550e+10     9.500000  7.605058e+08  ",
      "text/html": "<div>\n<style scoped>\n    .dataframe tbody tr th:only-of-type {\n        vertical-align: middle;\n    }\n\n    .dataframe tbody tr th {\n        vertical-align: top;\n    }\n\n    .dataframe thead th {\n        text-align: right;\n    }\n</style>\n<table border=\"1\" class=\"dataframe\">\n  <thead>\n    <tr style=\"text-align: right;\">\n      <th></th>\n      <th>title_year</th>\n      <th>aspect_ratio</th>\n      <th>duration</th>\n      <th>duration.1</th>\n      <th>cast_total_facebook_likes</th>\n      <th>budget</th>\n      <th>imdb_score</th>\n      <th>gross</th>\n    </tr>\n  </thead>\n  <tbody>\n    <tr>\n      <td>count</td>\n      <td>4935.000000</td>\n      <td>4714.000000</td>\n      <td>5028.000000</td>\n      <td>5028.000000</td>\n      <td>5043.000000</td>\n      <td>4.551000e+03</td>\n      <td>5043.000000</td>\n      <td>4.159000e+03</td>\n    </tr>\n    <tr>\n      <td>mean</td>\n      <td>2002.470517</td>\n      <td>2.220403</td>\n      <td>107.201074</td>\n      <td>107.201074</td>\n      <td>9699.063851</td>\n      <td>3.975262e+07</td>\n      <td>6.442138</td>\n      <td>4.846841e+07</td>\n    </tr>\n    <tr>\n      <td>std</td>\n      <td>12.474599</td>\n      <td>1.385113</td>\n      <td>25.197441</td>\n      <td>25.197441</td>\n      <td>18163.799124</td>\n      <td>2.061149e+08</td>\n      <td>1.125116</td>\n      <td>6.845299e+07</td>\n    </tr>\n    <tr>\n      <td>min</td>\n      <td>1916.000000</td>\n      <td>1.180000</td>\n      <td>7.000000</td>\n      <td>7.000000</td>\n      <td>0.000000</td>\n      <td>2.180000e+02</td>\n      <td>1.600000</td>\n      <td>1.620000e+02</td>\n    </tr>\n    <tr>\n      <td>25%</td>\n      <td>1999.000000</td>\n      <td>1.850000</td>\n      <td>93.000000</td>\n      <td>93.000000</td>\n      <td>1411.000000</td>\n      <td>6.000000e+06</td>\n      <td>5.800000</td>\n      <td>5.340988e+06</td>\n    </tr>\n    <tr>\n      <td>50%</td>\n      <td>2005.000000</td>\n      <td>2.350000</td>\n      <td>103.000000</td>\n      <td>103.000000</td>\n      <td>3090.000000</td>\n      <td>2.000000e+07</td>\n      <td>6.600000</td>\n      <td>2.551750e+07</td>\n    </tr>\n    <tr>\n      <td>75%</td>\n      <td>2011.000000</td>\n      <td>2.350000</td>\n      <td>118.000000</td>\n      <td>118.000000</td>\n      <td>13756.500000</td>\n      <td>4.500000e+07</td>\n      <td>7.200000</td>\n      <td>6.230944e+07</td>\n    </tr>\n    <tr>\n      <td>max</td>\n      <td>2016.000000</td>\n      <td>16.000000</td>\n      <td>511.000000</td>\n      <td>511.000000</td>\n      <td>656730.000000</td>\n      <td>1.221550e+10</td>\n      <td>9.500000</td>\n      <td>7.605058e+08</td>\n    </tr>\n  </tbody>\n</table>\n</div>"
     },
     "metadata": {},
     "execution_count": 9
    }
   ],
   "source": [
    "movies_num = movies[num_cols]\n",
    "movies_num.describe()"
   ]
  },
  {
   "cell_type": "code",
   "execution_count": 10,
   "metadata": {},
   "outputs": [
    {
     "output_type": "execute_result",
     "data": {
      "text/plain": "<matplotlib.axes._subplots.AxesSubplot at 0x2e220c96988>"
     },
     "metadata": {},
     "execution_count": 10
    },
    {
     "output_type": "display_data",
     "data": {
      "text/plain": "<Figure size 432x288 with 1 Axes>",
      "image/svg+xml": "<?xml version=\"1.0\" encoding=\"utf-8\" standalone=\"no\"?>\r\n<!DOCTYPE svg PUBLIC \"-//W3C//DTD SVG 1.1//EN\"\r\n  \"http://www.w3.org/Graphics/SVG/1.1/DTD/svg11.dtd\">\r\n<!-- Created with matplotlib (https://matplotlib.org/) -->\r\n<svg height=\"250.966785pt\" version=\"1.1\" viewBox=\"0 0 381.65 250.966785\" width=\"381.65pt\" xmlns=\"http://www.w3.org/2000/svg\" xmlns:xlink=\"http://www.w3.org/1999/xlink\">\r\n <defs>\r\n  <style type=\"text/css\">\r\n*{stroke-linecap:butt;stroke-linejoin:round;}\r\n  </style>\r\n </defs>\r\n <g id=\"figure_1\">\r\n  <g id=\"patch_1\">\r\n   <path d=\"M -0 250.966785 \r\nL 381.65 250.966785 \r\nL 381.65 0 \r\nL -0 0 \r\nz\r\n\" style=\"fill:none;\"/>\r\n  </g>\r\n  <g id=\"axes_1\">\r\n   <g id=\"patch_2\">\r\n    <path d=\"M 39.65 227.08866 \r\nL 374.45 227.08866 \r\nL 374.45 9.64866 \r\nL 39.65 9.64866 \r\nz\r\n\" style=\"fill:#ffffff;\"/>\r\n   </g>\r\n   <g id=\"patch_3\">\r\n    <path clip-path=\"url(#p0af6af713c)\" d=\"M 54.868182 227.08866 \r\nL 85.304545 227.08866 \r\nL 85.304545 221.326275 \r\nL 54.868182 221.326275 \r\nz\r\n\" style=\"fill:#1f77b4;\"/>\r\n   </g>\r\n   <g id=\"patch_4\">\r\n    <path clip-path=\"url(#p0af6af713c)\" d=\"M 85.304545 227.08866 \r\nL 115.740909 227.08866 \r\nL 115.740909 20.002945 \r\nL 85.304545 20.002945 \r\nz\r\n\" style=\"fill:#1f77b4;\"/>\r\n   </g>\r\n   <g id=\"patch_5\">\r\n    <path clip-path=\"url(#p0af6af713c)\" d=\"M 115.740909 227.08866 \r\nL 146.177273 227.08866 \r\nL 146.177273 88.071119 \r\nL 115.740909 88.071119 \r\nz\r\n\" style=\"fill:#1f77b4;\"/>\r\n   </g>\r\n   <g id=\"patch_6\">\r\n    <path clip-path=\"url(#p0af6af713c)\" d=\"M 146.177273 227.08866 \r\nL 176.613636 227.08866 \r\nL 176.613636 218.877261 \r\nL 146.177273 218.877261 \r\nz\r\n\" style=\"fill:#1f77b4;\"/>\r\n   </g>\r\n   <g id=\"patch_7\">\r\n    <path clip-path=\"url(#p0af6af713c)\" d=\"M 176.613636 227.08866 \r\nL 207.05 227.08866 \r\nL 207.05 225.792123 \r\nL 176.613636 225.792123 \r\nz\r\n\" style=\"fill:#1f77b4;\"/>\r\n   </g>\r\n   <g id=\"patch_8\">\r\n    <path clip-path=\"url(#p0af6af713c)\" d=\"M 207.05 227.08866 \r\nL 237.486364 227.08866 \r\nL 237.486364 226.584451 \r\nL 207.05 226.584451 \r\nz\r\n\" style=\"fill:#1f77b4;\"/>\r\n   </g>\r\n   <g id=\"patch_9\">\r\n    <path clip-path=\"url(#p0af6af713c)\" d=\"M 237.486364 227.08866 \r\nL 267.922727 227.08866 \r\nL 267.922727 226.87257 \r\nL 237.486364 226.87257 \r\nz\r\n\" style=\"fill:#1f77b4;\"/>\r\n   </g>\r\n   <g id=\"patch_10\">\r\n    <path clip-path=\"url(#p0af6af713c)\" d=\"M 267.922727 227.08866 \r\nL 298.359091 227.08866 \r\nL 298.359091 227.08866 \r\nL 267.922727 227.08866 \r\nz\r\n\" style=\"fill:#1f77b4;\"/>\r\n   </g>\r\n   <g id=\"patch_11\">\r\n    <path clip-path=\"url(#p0af6af713c)\" d=\"M 298.359091 227.08866 \r\nL 328.795455 227.08866 \r\nL 328.795455 227.08866 \r\nL 298.359091 227.08866 \r\nz\r\n\" style=\"fill:#1f77b4;\"/>\r\n   </g>\r\n   <g id=\"patch_12\">\r\n    <path clip-path=\"url(#p0af6af713c)\" d=\"M 328.795455 227.08866 \r\nL 359.231818 227.08866 \r\nL 359.231818 227.01663 \r\nL 328.795455 227.01663 \r\nz\r\n\" style=\"fill:#1f77b4;\"/>\r\n   </g>\r\n   <g id=\"matplotlib.axis_1\">\r\n    <g id=\"xtick_1\">\r\n     <g id=\"line2d_1\">\r\n      <path clip-path=\"url(#p0af6af713c)\" d=\"M 50.640909 227.08866 \r\nL 50.640909 9.64866 \r\n\" style=\"fill:none;stroke:#b0b0b0;stroke-linecap:square;stroke-width:0.8;\"/>\r\n     </g>\r\n     <g id=\"line2d_2\">\r\n      <defs>\r\n       <path d=\"M 0 0 \r\nL 0 3.5 \r\n\" id=\"m1e76afe81c\" style=\"stroke:#000000;stroke-width:0.8;\"/>\r\n      </defs>\r\n      <g>\r\n       <use style=\"stroke:#000000;stroke-width:0.8;\" x=\"50.640909\" xlink:href=\"#m1e76afe81c\" y=\"227.08866\"/>\r\n      </g>\r\n     </g>\r\n     <g id=\"text_1\">\r\n      <!-- 0 -->\r\n      <defs>\r\n       <path d=\"M 31.78125 66.40625 \r\nQ 24.171875 66.40625 20.328125 58.90625 \r\nQ 16.5 51.421875 16.5 36.375 \r\nQ 16.5 21.390625 20.328125 13.890625 \r\nQ 24.171875 6.390625 31.78125 6.390625 \r\nQ 39.453125 6.390625 43.28125 13.890625 \r\nQ 47.125 21.390625 47.125 36.375 \r\nQ 47.125 51.421875 43.28125 58.90625 \r\nQ 39.453125 66.40625 31.78125 66.40625 \r\nz\r\nM 31.78125 74.21875 \r\nQ 44.046875 74.21875 50.515625 64.515625 \r\nQ 56.984375 54.828125 56.984375 36.375 \r\nQ 56.984375 17.96875 50.515625 8.265625 \r\nQ 44.046875 -1.421875 31.78125 -1.421875 \r\nQ 19.53125 -1.421875 13.0625 8.265625 \r\nQ 6.59375 17.96875 6.59375 36.375 \r\nQ 6.59375 54.828125 13.0625 64.515625 \r\nQ 19.53125 74.21875 31.78125 74.21875 \r\nz\r\n\" id=\"DejaVuSans-48\"/>\r\n      </defs>\r\n      <g transform=\"translate(47.459659 241.687097)scale(0.1 -0.1)\">\r\n       <use xlink:href=\"#DejaVuSans-48\"/>\r\n      </g>\r\n     </g>\r\n    </g>\r\n    <g id=\"xtick_2\">\r\n     <g id=\"line2d_3\">\r\n      <path clip-path=\"url(#p0af6af713c)\" d=\"M 111.030519 227.08866 \r\nL 111.030519 9.64866 \r\n\" style=\"fill:none;stroke:#b0b0b0;stroke-linecap:square;stroke-width:0.8;\"/>\r\n     </g>\r\n     <g id=\"line2d_4\">\r\n      <g>\r\n       <use style=\"stroke:#000000;stroke-width:0.8;\" x=\"111.030519\" xlink:href=\"#m1e76afe81c\" y=\"227.08866\"/>\r\n      </g>\r\n     </g>\r\n     <g id=\"text_2\">\r\n      <!-- 100 -->\r\n      <defs>\r\n       <path d=\"M 12.40625 8.296875 \r\nL 28.515625 8.296875 \r\nL 28.515625 63.921875 \r\nL 10.984375 60.40625 \r\nL 10.984375 69.390625 \r\nL 28.421875 72.90625 \r\nL 38.28125 72.90625 \r\nL 38.28125 8.296875 \r\nL 54.390625 8.296875 \r\nL 54.390625 0 \r\nL 12.40625 0 \r\nz\r\n\" id=\"DejaVuSans-49\"/>\r\n      </defs>\r\n      <g transform=\"translate(101.486769 241.687097)scale(0.1 -0.1)\">\r\n       <use xlink:href=\"#DejaVuSans-49\"/>\r\n       <use x=\"63.623047\" xlink:href=\"#DejaVuSans-48\"/>\r\n       <use x=\"127.246094\" xlink:href=\"#DejaVuSans-48\"/>\r\n      </g>\r\n     </g>\r\n    </g>\r\n    <g id=\"xtick_3\">\r\n     <g id=\"line2d_5\">\r\n      <path clip-path=\"url(#p0af6af713c)\" d=\"M 171.42013 227.08866 \r\nL 171.42013 9.64866 \r\n\" style=\"fill:none;stroke:#b0b0b0;stroke-linecap:square;stroke-width:0.8;\"/>\r\n     </g>\r\n     <g id=\"line2d_6\">\r\n      <g>\r\n       <use style=\"stroke:#000000;stroke-width:0.8;\" x=\"171.42013\" xlink:href=\"#m1e76afe81c\" y=\"227.08866\"/>\r\n      </g>\r\n     </g>\r\n     <g id=\"text_3\">\r\n      <!-- 200 -->\r\n      <defs>\r\n       <path d=\"M 19.1875 8.296875 \r\nL 53.609375 8.296875 \r\nL 53.609375 0 \r\nL 7.328125 0 \r\nL 7.328125 8.296875 \r\nQ 12.9375 14.109375 22.625 23.890625 \r\nQ 32.328125 33.6875 34.8125 36.53125 \r\nQ 39.546875 41.84375 41.421875 45.53125 \r\nQ 43.3125 49.21875 43.3125 52.78125 \r\nQ 43.3125 58.59375 39.234375 62.25 \r\nQ 35.15625 65.921875 28.609375 65.921875 \r\nQ 23.96875 65.921875 18.8125 64.3125 \r\nQ 13.671875 62.703125 7.8125 59.421875 \r\nL 7.8125 69.390625 \r\nQ 13.765625 71.78125 18.9375 73 \r\nQ 24.125 74.21875 28.421875 74.21875 \r\nQ 39.75 74.21875 46.484375 68.546875 \r\nQ 53.21875 62.890625 53.21875 53.421875 \r\nQ 53.21875 48.921875 51.53125 44.890625 \r\nQ 49.859375 40.875 45.40625 35.40625 \r\nQ 44.1875 33.984375 37.640625 27.21875 \r\nQ 31.109375 20.453125 19.1875 8.296875 \r\nz\r\n\" id=\"DejaVuSans-50\"/>\r\n      </defs>\r\n      <g transform=\"translate(161.87638 241.687097)scale(0.1 -0.1)\">\r\n       <use xlink:href=\"#DejaVuSans-50\"/>\r\n       <use x=\"63.623047\" xlink:href=\"#DejaVuSans-48\"/>\r\n       <use x=\"127.246094\" xlink:href=\"#DejaVuSans-48\"/>\r\n      </g>\r\n     </g>\r\n    </g>\r\n    <g id=\"xtick_4\">\r\n     <g id=\"line2d_7\">\r\n      <path clip-path=\"url(#p0af6af713c)\" d=\"M 231.80974 227.08866 \r\nL 231.80974 9.64866 \r\n\" style=\"fill:none;stroke:#b0b0b0;stroke-linecap:square;stroke-width:0.8;\"/>\r\n     </g>\r\n     <g id=\"line2d_8\">\r\n      <g>\r\n       <use style=\"stroke:#000000;stroke-width:0.8;\" x=\"231.80974\" xlink:href=\"#m1e76afe81c\" y=\"227.08866\"/>\r\n      </g>\r\n     </g>\r\n     <g id=\"text_4\">\r\n      <!-- 300 -->\r\n      <defs>\r\n       <path d=\"M 40.578125 39.3125 \r\nQ 47.65625 37.796875 51.625 33 \r\nQ 55.609375 28.21875 55.609375 21.1875 \r\nQ 55.609375 10.40625 48.1875 4.484375 \r\nQ 40.765625 -1.421875 27.09375 -1.421875 \r\nQ 22.515625 -1.421875 17.65625 -0.515625 \r\nQ 12.796875 0.390625 7.625 2.203125 \r\nL 7.625 11.71875 \r\nQ 11.71875 9.328125 16.59375 8.109375 \r\nQ 21.484375 6.890625 26.8125 6.890625 \r\nQ 36.078125 6.890625 40.9375 10.546875 \r\nQ 45.796875 14.203125 45.796875 21.1875 \r\nQ 45.796875 27.640625 41.28125 31.265625 \r\nQ 36.765625 34.90625 28.71875 34.90625 \r\nL 20.21875 34.90625 \r\nL 20.21875 43.015625 \r\nL 29.109375 43.015625 \r\nQ 36.375 43.015625 40.234375 45.921875 \r\nQ 44.09375 48.828125 44.09375 54.296875 \r\nQ 44.09375 59.90625 40.109375 62.90625 \r\nQ 36.140625 65.921875 28.71875 65.921875 \r\nQ 24.65625 65.921875 20.015625 65.03125 \r\nQ 15.375 64.15625 9.8125 62.3125 \r\nL 9.8125 71.09375 \r\nQ 15.4375 72.65625 20.34375 73.4375 \r\nQ 25.25 74.21875 29.59375 74.21875 \r\nQ 40.828125 74.21875 47.359375 69.109375 \r\nQ 53.90625 64.015625 53.90625 55.328125 \r\nQ 53.90625 49.265625 50.4375 45.09375 \r\nQ 46.96875 40.921875 40.578125 39.3125 \r\nz\r\n\" id=\"DejaVuSans-51\"/>\r\n      </defs>\r\n      <g transform=\"translate(222.26599 241.687097)scale(0.1 -0.1)\">\r\n       <use xlink:href=\"#DejaVuSans-51\"/>\r\n       <use x=\"63.623047\" xlink:href=\"#DejaVuSans-48\"/>\r\n       <use x=\"127.246094\" xlink:href=\"#DejaVuSans-48\"/>\r\n      </g>\r\n     </g>\r\n    </g>\r\n    <g id=\"xtick_5\">\r\n     <g id=\"line2d_9\">\r\n      <path clip-path=\"url(#p0af6af713c)\" d=\"M 292.199351 227.08866 \r\nL 292.199351 9.64866 \r\n\" style=\"fill:none;stroke:#b0b0b0;stroke-linecap:square;stroke-width:0.8;\"/>\r\n     </g>\r\n     <g id=\"line2d_10\">\r\n      <g>\r\n       <use style=\"stroke:#000000;stroke-width:0.8;\" x=\"292.199351\" xlink:href=\"#m1e76afe81c\" y=\"227.08866\"/>\r\n      </g>\r\n     </g>\r\n     <g id=\"text_5\">\r\n      <!-- 400 -->\r\n      <defs>\r\n       <path d=\"M 37.796875 64.3125 \r\nL 12.890625 25.390625 \r\nL 37.796875 25.390625 \r\nz\r\nM 35.203125 72.90625 \r\nL 47.609375 72.90625 \r\nL 47.609375 25.390625 \r\nL 58.015625 25.390625 \r\nL 58.015625 17.1875 \r\nL 47.609375 17.1875 \r\nL 47.609375 0 \r\nL 37.796875 0 \r\nL 37.796875 17.1875 \r\nL 4.890625 17.1875 \r\nL 4.890625 26.703125 \r\nz\r\n\" id=\"DejaVuSans-52\"/>\r\n      </defs>\r\n      <g transform=\"translate(282.655601 241.687097)scale(0.1 -0.1)\">\r\n       <use xlink:href=\"#DejaVuSans-52\"/>\r\n       <use x=\"63.623047\" xlink:href=\"#DejaVuSans-48\"/>\r\n       <use x=\"127.246094\" xlink:href=\"#DejaVuSans-48\"/>\r\n      </g>\r\n     </g>\r\n    </g>\r\n    <g id=\"xtick_6\">\r\n     <g id=\"line2d_11\">\r\n      <path clip-path=\"url(#p0af6af713c)\" d=\"M 352.588961 227.08866 \r\nL 352.588961 9.64866 \r\n\" style=\"fill:none;stroke:#b0b0b0;stroke-linecap:square;stroke-width:0.8;\"/>\r\n     </g>\r\n     <g id=\"line2d_12\">\r\n      <g>\r\n       <use style=\"stroke:#000000;stroke-width:0.8;\" x=\"352.588961\" xlink:href=\"#m1e76afe81c\" y=\"227.08866\"/>\r\n      </g>\r\n     </g>\r\n     <g id=\"text_6\">\r\n      <!-- 500 -->\r\n      <defs>\r\n       <path d=\"M 10.796875 72.90625 \r\nL 49.515625 72.90625 \r\nL 49.515625 64.59375 \r\nL 19.828125 64.59375 \r\nL 19.828125 46.734375 \r\nQ 21.96875 47.46875 24.109375 47.828125 \r\nQ 26.265625 48.1875 28.421875 48.1875 \r\nQ 40.625 48.1875 47.75 41.5 \r\nQ 54.890625 34.8125 54.890625 23.390625 \r\nQ 54.890625 11.625 47.5625 5.09375 \r\nQ 40.234375 -1.421875 26.90625 -1.421875 \r\nQ 22.3125 -1.421875 17.546875 -0.640625 \r\nQ 12.796875 0.140625 7.71875 1.703125 \r\nL 7.71875 11.625 \r\nQ 12.109375 9.234375 16.796875 8.0625 \r\nQ 21.484375 6.890625 26.703125 6.890625 \r\nQ 35.15625 6.890625 40.078125 11.328125 \r\nQ 45.015625 15.765625 45.015625 23.390625 \r\nQ 45.015625 31 40.078125 35.4375 \r\nQ 35.15625 39.890625 26.703125 39.890625 \r\nQ 22.75 39.890625 18.8125 39.015625 \r\nQ 14.890625 38.140625 10.796875 36.28125 \r\nz\r\n\" id=\"DejaVuSans-53\"/>\r\n      </defs>\r\n      <g transform=\"translate(343.045211 241.687097)scale(0.1 -0.1)\">\r\n       <use xlink:href=\"#DejaVuSans-53\"/>\r\n       <use x=\"63.623047\" xlink:href=\"#DejaVuSans-48\"/>\r\n       <use x=\"127.246094\" xlink:href=\"#DejaVuSans-48\"/>\r\n      </g>\r\n     </g>\r\n    </g>\r\n   </g>\r\n   <g id=\"matplotlib.axis_2\">\r\n    <g id=\"ytick_1\">\r\n     <g id=\"line2d_13\">\r\n      <path clip-path=\"url(#p0af6af713c)\" d=\"M 39.65 227.08866 \r\nL 374.45 227.08866 \r\n\" style=\"fill:none;stroke:#b0b0b0;stroke-linecap:square;stroke-width:0.8;\"/>\r\n     </g>\r\n     <g id=\"line2d_14\">\r\n      <defs>\r\n       <path d=\"M 0 0 \r\nL -3.5 0 \r\n\" id=\"m01aa77c326\" style=\"stroke:#000000;stroke-width:0.8;\"/>\r\n      </defs>\r\n      <g>\r\n       <use style=\"stroke:#000000;stroke-width:0.8;\" x=\"39.65\" xlink:href=\"#m01aa77c326\" y=\"227.08866\"/>\r\n      </g>\r\n     </g>\r\n     <g id=\"text_7\">\r\n      <!-- 0 -->\r\n      <g transform=\"translate(26.2875 230.887878)scale(0.1 -0.1)\">\r\n       <use xlink:href=\"#DejaVuSans-48\"/>\r\n      </g>\r\n     </g>\r\n    </g>\r\n    <g id=\"ytick_2\">\r\n     <g id=\"line2d_15\">\r\n      <path clip-path=\"url(#p0af6af713c)\" d=\"M 39.65 191.073753 \r\nL 374.45 191.073753 \r\n\" style=\"fill:none;stroke:#b0b0b0;stroke-linecap:square;stroke-width:0.8;\"/>\r\n     </g>\r\n     <g id=\"line2d_16\">\r\n      <g>\r\n       <use style=\"stroke:#000000;stroke-width:0.8;\" x=\"39.65\" xlink:href=\"#m01aa77c326\" y=\"191.073753\"/>\r\n      </g>\r\n     </g>\r\n     <g id=\"text_8\">\r\n      <!-- 500 -->\r\n      <g transform=\"translate(13.5625 194.872972)scale(0.1 -0.1)\">\r\n       <use xlink:href=\"#DejaVuSans-53\"/>\r\n       <use x=\"63.623047\" xlink:href=\"#DejaVuSans-48\"/>\r\n       <use x=\"127.246094\" xlink:href=\"#DejaVuSans-48\"/>\r\n      </g>\r\n     </g>\r\n    </g>\r\n    <g id=\"ytick_3\">\r\n     <g id=\"line2d_17\">\r\n      <path clip-path=\"url(#p0af6af713c)\" d=\"M 39.65 155.058846 \r\nL 374.45 155.058846 \r\n\" style=\"fill:none;stroke:#b0b0b0;stroke-linecap:square;stroke-width:0.8;\"/>\r\n     </g>\r\n     <g id=\"line2d_18\">\r\n      <g>\r\n       <use style=\"stroke:#000000;stroke-width:0.8;\" x=\"39.65\" xlink:href=\"#m01aa77c326\" y=\"155.058846\"/>\r\n      </g>\r\n     </g>\r\n     <g id=\"text_9\">\r\n      <!-- 1000 -->\r\n      <g transform=\"translate(7.2 158.858065)scale(0.1 -0.1)\">\r\n       <use xlink:href=\"#DejaVuSans-49\"/>\r\n       <use x=\"63.623047\" xlink:href=\"#DejaVuSans-48\"/>\r\n       <use x=\"127.246094\" xlink:href=\"#DejaVuSans-48\"/>\r\n       <use x=\"190.869141\" xlink:href=\"#DejaVuSans-48\"/>\r\n      </g>\r\n     </g>\r\n    </g>\r\n    <g id=\"ytick_4\">\r\n     <g id=\"line2d_19\">\r\n      <path clip-path=\"url(#p0af6af713c)\" d=\"M 39.65 119.043939 \r\nL 374.45 119.043939 \r\n\" style=\"fill:none;stroke:#b0b0b0;stroke-linecap:square;stroke-width:0.8;\"/>\r\n     </g>\r\n     <g id=\"line2d_20\">\r\n      <g>\r\n       <use style=\"stroke:#000000;stroke-width:0.8;\" x=\"39.65\" xlink:href=\"#m01aa77c326\" y=\"119.043939\"/>\r\n      </g>\r\n     </g>\r\n     <g id=\"text_10\">\r\n      <!-- 1500 -->\r\n      <g transform=\"translate(7.2 122.843158)scale(0.1 -0.1)\">\r\n       <use xlink:href=\"#DejaVuSans-49\"/>\r\n       <use x=\"63.623047\" xlink:href=\"#DejaVuSans-53\"/>\r\n       <use x=\"127.246094\" xlink:href=\"#DejaVuSans-48\"/>\r\n       <use x=\"190.869141\" xlink:href=\"#DejaVuSans-48\"/>\r\n      </g>\r\n     </g>\r\n    </g>\r\n    <g id=\"ytick_5\">\r\n     <g id=\"line2d_21\">\r\n      <path clip-path=\"url(#p0af6af713c)\" d=\"M 39.65 83.029032 \r\nL 374.45 83.029032 \r\n\" style=\"fill:none;stroke:#b0b0b0;stroke-linecap:square;stroke-width:0.8;\"/>\r\n     </g>\r\n     <g id=\"line2d_22\">\r\n      <g>\r\n       <use style=\"stroke:#000000;stroke-width:0.8;\" x=\"39.65\" xlink:href=\"#m01aa77c326\" y=\"83.029032\"/>\r\n      </g>\r\n     </g>\r\n     <g id=\"text_11\">\r\n      <!-- 2000 -->\r\n      <g transform=\"translate(7.2 86.828251)scale(0.1 -0.1)\">\r\n       <use xlink:href=\"#DejaVuSans-50\"/>\r\n       <use x=\"63.623047\" xlink:href=\"#DejaVuSans-48\"/>\r\n       <use x=\"127.246094\" xlink:href=\"#DejaVuSans-48\"/>\r\n       <use x=\"190.869141\" xlink:href=\"#DejaVuSans-48\"/>\r\n      </g>\r\n     </g>\r\n    </g>\r\n    <g id=\"ytick_6\">\r\n     <g id=\"line2d_23\">\r\n      <path clip-path=\"url(#p0af6af713c)\" d=\"M 39.65 47.014126 \r\nL 374.45 47.014126 \r\n\" style=\"fill:none;stroke:#b0b0b0;stroke-linecap:square;stroke-width:0.8;\"/>\r\n     </g>\r\n     <g id=\"line2d_24\">\r\n      <g>\r\n       <use style=\"stroke:#000000;stroke-width:0.8;\" x=\"39.65\" xlink:href=\"#m01aa77c326\" y=\"47.014126\"/>\r\n      </g>\r\n     </g>\r\n     <g id=\"text_12\">\r\n      <!-- 2500 -->\r\n      <g transform=\"translate(7.2 50.813344)scale(0.1 -0.1)\">\r\n       <use xlink:href=\"#DejaVuSans-50\"/>\r\n       <use x=\"63.623047\" xlink:href=\"#DejaVuSans-53\"/>\r\n       <use x=\"127.246094\" xlink:href=\"#DejaVuSans-48\"/>\r\n       <use x=\"190.869141\" xlink:href=\"#DejaVuSans-48\"/>\r\n      </g>\r\n     </g>\r\n    </g>\r\n    <g id=\"ytick_7\">\r\n     <g id=\"line2d_25\">\r\n      <path clip-path=\"url(#p0af6af713c)\" d=\"M 39.65 10.999219 \r\nL 374.45 10.999219 \r\n\" style=\"fill:none;stroke:#b0b0b0;stroke-linecap:square;stroke-width:0.8;\"/>\r\n     </g>\r\n     <g id=\"line2d_26\">\r\n      <g>\r\n       <use style=\"stroke:#000000;stroke-width:0.8;\" x=\"39.65\" xlink:href=\"#m01aa77c326\" y=\"10.999219\"/>\r\n      </g>\r\n     </g>\r\n     <g id=\"text_13\">\r\n      <!-- 3000 -->\r\n      <g transform=\"translate(7.2 14.798437)scale(0.1 -0.1)\">\r\n       <use xlink:href=\"#DejaVuSans-51\"/>\r\n       <use x=\"63.623047\" xlink:href=\"#DejaVuSans-48\"/>\r\n       <use x=\"127.246094\" xlink:href=\"#DejaVuSans-48\"/>\r\n       <use x=\"190.869141\" xlink:href=\"#DejaVuSans-48\"/>\r\n      </g>\r\n     </g>\r\n    </g>\r\n   </g>\r\n   <g id=\"patch_13\">\r\n    <path d=\"M 39.65 227.08866 \r\nL 39.65 9.64866 \r\n\" style=\"fill:none;stroke:#000000;stroke-linecap:square;stroke-linejoin:miter;stroke-width:0.8;\"/>\r\n   </g>\r\n   <g id=\"patch_14\">\r\n    <path d=\"M 374.45 227.08866 \r\nL 374.45 9.64866 \r\n\" style=\"fill:none;stroke:#000000;stroke-linecap:square;stroke-linejoin:miter;stroke-width:0.8;\"/>\r\n   </g>\r\n   <g id=\"patch_15\">\r\n    <path d=\"M 39.65 227.08866 \r\nL 374.45 227.08866 \r\n\" style=\"fill:none;stroke:#000000;stroke-linecap:square;stroke-linejoin:miter;stroke-width:0.8;\"/>\r\n   </g>\r\n   <g id=\"patch_16\">\r\n    <path d=\"M 39.65 9.64866 \r\nL 374.45 9.64866 \r\n\" style=\"fill:none;stroke:#000000;stroke-linecap:square;stroke-linejoin:miter;stroke-width:0.8;\"/>\r\n   </g>\r\n  </g>\r\n </g>\r\n <defs>\r\n  <clipPath id=\"p0af6af713c\">\r\n   <rect height=\"217.44\" width=\"334.8\" x=\"39.65\" y=\"9.64866\"/>\r\n  </clipPath>\r\n </defs>\r\n</svg>\r\n",
      "image/png": "[encoded data removed]"
     },
     "metadata": {
      "needs_background": "light"
     }
    }
   ],
   "source": [
    "movies_num['duration'].hist()"
   ]
  },
  {
   "cell_type": "code",
   "execution_count": 11,
   "metadata": {},
   "outputs": [
    {
     "output_type": "execute_result",
     "data": {
      "text/plain": "<matplotlib.axes._subplots.AxesSubplot at 0x2e223281948>"
     },
     "metadata": {},
     "execution_count": 11
    },
    {
     "output_type": "display_data",
     "data": {
      "text/plain": "<Figure size 432x288 with 1 Axes>",
      "image/svg+xml": "<?xml version=\"1.0\" encoding=\"utf-8\" standalone=\"no\"?>\r\n<!DOCTYPE svg PUBLIC \"-//W3C//DTD SVG 1.1//EN\"\r\n  \"http://www.w3.org/Graphics/SVG/1.1/DTD/svg11.dtd\">\r\n<!-- Created with matplotlib (https://matplotlib.org/) -->\r\n<svg height=\"261.19625pt\" version=\"1.1\" viewBox=\"0 0 381.65 261.19625\" width=\"381.65pt\" xmlns=\"http://www.w3.org/2000/svg\" xmlns:xlink=\"http://www.w3.org/1999/xlink\">\r\n <defs>\r\n  <style type=\"text/css\">\r\n*{stroke-linecap:butt;stroke-linejoin:round;}\r\n  </style>\r\n </defs>\r\n <g id=\"figure_1\">\r\n  <g id=\"patch_1\">\r\n   <path d=\"M -0 261.19625 \r\nL 381.65 261.19625 \r\nL 381.65 0 \r\nL -0 0 \r\nz\r\n\" style=\"fill:none;\"/>\r\n  </g>\r\n  <g id=\"axes_1\">\r\n   <g id=\"patch_2\">\r\n    <path d=\"M 39.65 224.64 \r\nL 374.45 224.64 \r\nL 374.45 7.2 \r\nL 39.65 7.2 \r\nz\r\n\" style=\"fill:#ffffff;\"/>\r\n   </g>\r\n   <g id=\"patch_3\">\r\n    <path clip-path=\"url(#pcc3f1bd97c)\" d=\"M 54.868182 224.64 \r\nL 85.304545 224.64 \r\nL 85.304545 17.554286 \r\nL 54.868182 17.554286 \r\nz\r\n\" style=\"fill:#1f77b4;\"/>\r\n   </g>\r\n   <g id=\"patch_4\">\r\n    <path clip-path=\"url(#pcc3f1bd97c)\" d=\"M 85.304545 224.64 \r\nL 115.740909 224.64 \r\nL 115.740909 224.548893 \r\nL 85.304545 224.548893 \r\nz\r\n\" style=\"fill:#1f77b4;\"/>\r\n   </g>\r\n   <g id=\"patch_5\">\r\n    <path clip-path=\"url(#pcc3f1bd97c)\" d=\"M 115.740909 224.64 \r\nL 146.177273 224.64 \r\nL 146.177273 224.594447 \r\nL 115.740909 224.594447 \r\nz\r\n\" style=\"fill:#1f77b4;\"/>\r\n   </g>\r\n   <g id=\"patch_6\">\r\n    <path clip-path=\"url(#pcc3f1bd97c)\" d=\"M 146.177273 224.64 \r\nL 176.613636 224.64 \r\nL 176.613636 224.594447 \r\nL 146.177273 224.594447 \r\nz\r\n\" style=\"fill:#1f77b4;\"/>\r\n   </g>\r\n   <g id=\"patch_7\">\r\n    <path clip-path=\"url(#pcc3f1bd97c)\" d=\"M 176.613636 224.64 \r\nL 207.05 224.64 \r\nL 207.05 224.64 \r\nL 176.613636 224.64 \r\nz\r\n\" style=\"fill:#1f77b4;\"/>\r\n   </g>\r\n   <g id=\"patch_8\">\r\n    <path clip-path=\"url(#pcc3f1bd97c)\" d=\"M 207.05 224.64 \r\nL 237.486364 224.64 \r\nL 237.486364 224.64 \r\nL 207.05 224.64 \r\nz\r\n\" style=\"fill:#1f77b4;\"/>\r\n   </g>\r\n   <g id=\"patch_9\">\r\n    <path clip-path=\"url(#pcc3f1bd97c)\" d=\"M 237.486364 224.64 \r\nL 267.922727 224.64 \r\nL 267.922727 224.64 \r\nL 237.486364 224.64 \r\nz\r\n\" style=\"fill:#1f77b4;\"/>\r\n   </g>\r\n   <g id=\"patch_10\">\r\n    <path clip-path=\"url(#pcc3f1bd97c)\" d=\"M 267.922727 224.64 \r\nL 298.359091 224.64 \r\nL 298.359091 224.64 \r\nL 267.922727 224.64 \r\nz\r\n\" style=\"fill:#1f77b4;\"/>\r\n   </g>\r\n   <g id=\"patch_11\">\r\n    <path clip-path=\"url(#pcc3f1bd97c)\" d=\"M 298.359091 224.64 \r\nL 328.795455 224.64 \r\nL 328.795455 224.64 \r\nL 298.359091 224.64 \r\nz\r\n\" style=\"fill:#1f77b4;\"/>\r\n   </g>\r\n   <g id=\"patch_12\">\r\n    <path clip-path=\"url(#pcc3f1bd97c)\" d=\"M 328.795455 224.64 \r\nL 359.231818 224.64 \r\nL 359.231818 224.594447 \r\nL 328.795455 224.594447 \r\nz\r\n\" style=\"fill:#1f77b4;\"/>\r\n   </g>\r\n   <g id=\"matplotlib.axis_1\">\r\n    <g id=\"xtick_1\">\r\n     <g id=\"line2d_1\">\r\n      <path clip-path=\"url(#pcc3f1bd97c)\" d=\"M 54.868176 224.64 \r\nL 54.868176 7.2 \r\n\" style=\"fill:none;stroke:#b0b0b0;stroke-linecap:square;stroke-width:0.8;\"/>\r\n     </g>\r\n     <g id=\"line2d_2\">\r\n      <defs>\r\n       <path d=\"M 0 0 \r\nL 0 3.5 \r\n\" id=\"m95b47a5127\" style=\"stroke:#000000;stroke-width:0.8;\"/>\r\n      </defs>\r\n      <g>\r\n       <use style=\"stroke:#000000;stroke-width:0.8;\" x=\"54.868176\" xlink:href=\"#m95b47a5127\" y=\"224.64\"/>\r\n      </g>\r\n     </g>\r\n     <g id=\"text_1\">\r\n      <!-- 0.0 -->\r\n      <defs>\r\n       <path d=\"M 31.78125 66.40625 \r\nQ 24.171875 66.40625 20.328125 58.90625 \r\nQ 16.5 51.421875 16.5 36.375 \r\nQ 16.5 21.390625 20.328125 13.890625 \r\nQ 24.171875 6.390625 31.78125 6.390625 \r\nQ 39.453125 6.390625 43.28125 13.890625 \r\nQ 47.125 21.390625 47.125 36.375 \r\nQ 47.125 51.421875 43.28125 58.90625 \r\nQ 39.453125 66.40625 31.78125 66.40625 \r\nz\r\nM 31.78125 74.21875 \r\nQ 44.046875 74.21875 50.515625 64.515625 \r\nQ 56.984375 54.828125 56.984375 36.375 \r\nQ 56.984375 17.96875 50.515625 8.265625 \r\nQ 44.046875 -1.421875 31.78125 -1.421875 \r\nQ 19.53125 -1.421875 13.0625 8.265625 \r\nQ 6.59375 17.96875 6.59375 36.375 \r\nQ 6.59375 54.828125 13.0625 64.515625 \r\nQ 19.53125 74.21875 31.78125 74.21875 \r\nz\r\n\" id=\"DejaVuSans-48\"/>\r\n       <path d=\"M 10.6875 12.40625 \r\nL 21 12.40625 \r\nL 21 0 \r\nL 10.6875 0 \r\nz\r\n\" id=\"DejaVuSans-46\"/>\r\n      </defs>\r\n      <g transform=\"translate(46.916614 239.238437)scale(0.1 -0.1)\">\r\n       <use xlink:href=\"#DejaVuSans-48\"/>\r\n       <use x=\"63.623047\" xlink:href=\"#DejaVuSans-46\"/>\r\n       <use x=\"95.410156\" xlink:href=\"#DejaVuSans-48\"/>\r\n      </g>\r\n     </g>\r\n    </g>\r\n    <g id=\"xtick_2\">\r\n     <g id=\"line2d_3\">\r\n      <path clip-path=\"url(#pcc3f1bd97c)\" d=\"M 104.700544 224.64 \r\nL 104.700544 7.2 \r\n\" style=\"fill:none;stroke:#b0b0b0;stroke-linecap:square;stroke-width:0.8;\"/>\r\n     </g>\r\n     <g id=\"line2d_4\">\r\n      <g>\r\n       <use style=\"stroke:#000000;stroke-width:0.8;\" x=\"104.700544\" xlink:href=\"#m95b47a5127\" y=\"224.64\"/>\r\n      </g>\r\n     </g>\r\n     <g id=\"text_2\">\r\n      <!-- 0.2 -->\r\n      <defs>\r\n       <path d=\"M 19.1875 8.296875 \r\nL 53.609375 8.296875 \r\nL 53.609375 0 \r\nL 7.328125 0 \r\nL 7.328125 8.296875 \r\nQ 12.9375 14.109375 22.625 23.890625 \r\nQ 32.328125 33.6875 34.8125 36.53125 \r\nQ 39.546875 41.84375 41.421875 45.53125 \r\nQ 43.3125 49.21875 43.3125 52.78125 \r\nQ 43.3125 58.59375 39.234375 62.25 \r\nQ 35.15625 65.921875 28.609375 65.921875 \r\nQ 23.96875 65.921875 18.8125 64.3125 \r\nQ 13.671875 62.703125 7.8125 59.421875 \r\nL 7.8125 69.390625 \r\nQ 13.765625 71.78125 18.9375 73 \r\nQ 24.125 74.21875 28.421875 74.21875 \r\nQ 39.75 74.21875 46.484375 68.546875 \r\nQ 53.21875 62.890625 53.21875 53.421875 \r\nQ 53.21875 48.921875 51.53125 44.890625 \r\nQ 49.859375 40.875 45.40625 35.40625 \r\nQ 44.1875 33.984375 37.640625 27.21875 \r\nQ 31.109375 20.453125 19.1875 8.296875 \r\nz\r\n\" id=\"DejaVuSans-50\"/>\r\n      </defs>\r\n      <g transform=\"translate(96.748981 239.238437)scale(0.1 -0.1)\">\r\n       <use xlink:href=\"#DejaVuSans-48\"/>\r\n       <use x=\"63.623047\" xlink:href=\"#DejaVuSans-46\"/>\r\n       <use x=\"95.410156\" xlink:href=\"#DejaVuSans-50\"/>\r\n      </g>\r\n     </g>\r\n    </g>\r\n    <g id=\"xtick_3\">\r\n     <g id=\"line2d_5\">\r\n      <path clip-path=\"url(#pcc3f1bd97c)\" d=\"M 154.532911 224.64 \r\nL 154.532911 7.2 \r\n\" style=\"fill:none;stroke:#b0b0b0;stroke-linecap:square;stroke-width:0.8;\"/>\r\n     </g>\r\n     <g id=\"line2d_6\">\r\n      <g>\r\n       <use style=\"stroke:#000000;stroke-width:0.8;\" x=\"154.532911\" xlink:href=\"#m95b47a5127\" y=\"224.64\"/>\r\n      </g>\r\n     </g>\r\n     <g id=\"text_3\">\r\n      <!-- 0.4 -->\r\n      <defs>\r\n       <path d=\"M 37.796875 64.3125 \r\nL 12.890625 25.390625 \r\nL 37.796875 25.390625 \r\nz\r\nM 35.203125 72.90625 \r\nL 47.609375 72.90625 \r\nL 47.609375 25.390625 \r\nL 58.015625 25.390625 \r\nL 58.015625 17.1875 \r\nL 47.609375 17.1875 \r\nL 47.609375 0 \r\nL 37.796875 0 \r\nL 37.796875 17.1875 \r\nL 4.890625 17.1875 \r\nL 4.890625 26.703125 \r\nz\r\n\" id=\"DejaVuSans-52\"/>\r\n      </defs>\r\n      <g transform=\"translate(146.581349 239.238437)scale(0.1 -0.1)\">\r\n       <use xlink:href=\"#DejaVuSans-48\"/>\r\n       <use x=\"63.623047\" xlink:href=\"#DejaVuSans-46\"/>\r\n       <use x=\"95.410156\" xlink:href=\"#DejaVuSans-52\"/>\r\n      </g>\r\n     </g>\r\n    </g>\r\n    <g id=\"xtick_4\">\r\n     <g id=\"line2d_7\">\r\n      <path clip-path=\"url(#pcc3f1bd97c)\" d=\"M 204.365278 224.64 \r\nL 204.365278 7.2 \r\n\" style=\"fill:none;stroke:#b0b0b0;stroke-linecap:square;stroke-width:0.8;\"/>\r\n     </g>\r\n     <g id=\"line2d_8\">\r\n      <g>\r\n       <use style=\"stroke:#000000;stroke-width:0.8;\" x=\"204.365278\" xlink:href=\"#m95b47a5127\" y=\"224.64\"/>\r\n      </g>\r\n     </g>\r\n     <g id=\"text_4\">\r\n      <!-- 0.6 -->\r\n      <defs>\r\n       <path d=\"M 33.015625 40.375 \r\nQ 26.375 40.375 22.484375 35.828125 \r\nQ 18.609375 31.296875 18.609375 23.390625 \r\nQ 18.609375 15.53125 22.484375 10.953125 \r\nQ 26.375 6.390625 33.015625 6.390625 \r\nQ 39.65625 6.390625 43.53125 10.953125 \r\nQ 47.40625 15.53125 47.40625 23.390625 \r\nQ 47.40625 31.296875 43.53125 35.828125 \r\nQ 39.65625 40.375 33.015625 40.375 \r\nz\r\nM 52.59375 71.296875 \r\nL 52.59375 62.3125 \r\nQ 48.875 64.0625 45.09375 64.984375 \r\nQ 41.3125 65.921875 37.59375 65.921875 \r\nQ 27.828125 65.921875 22.671875 59.328125 \r\nQ 17.53125 52.734375 16.796875 39.40625 \r\nQ 19.671875 43.65625 24.015625 45.921875 \r\nQ 28.375 48.1875 33.59375 48.1875 \r\nQ 44.578125 48.1875 50.953125 41.515625 \r\nQ 57.328125 34.859375 57.328125 23.390625 \r\nQ 57.328125 12.15625 50.6875 5.359375 \r\nQ 44.046875 -1.421875 33.015625 -1.421875 \r\nQ 20.359375 -1.421875 13.671875 8.265625 \r\nQ 6.984375 17.96875 6.984375 36.375 \r\nQ 6.984375 53.65625 15.1875 63.9375 \r\nQ 23.390625 74.21875 37.203125 74.21875 \r\nQ 40.921875 74.21875 44.703125 73.484375 \r\nQ 48.484375 72.75 52.59375 71.296875 \r\nz\r\n\" id=\"DejaVuSans-54\"/>\r\n      </defs>\r\n      <g transform=\"translate(196.413716 239.238437)scale(0.1 -0.1)\">\r\n       <use xlink:href=\"#DejaVuSans-48\"/>\r\n       <use x=\"63.623047\" xlink:href=\"#DejaVuSans-46\"/>\r\n       <use x=\"95.410156\" xlink:href=\"#DejaVuSans-54\"/>\r\n      </g>\r\n     </g>\r\n    </g>\r\n    <g id=\"xtick_5\">\r\n     <g id=\"line2d_9\">\r\n      <path clip-path=\"url(#pcc3f1bd97c)\" d=\"M 254.197646 224.64 \r\nL 254.197646 7.2 \r\n\" style=\"fill:none;stroke:#b0b0b0;stroke-linecap:square;stroke-width:0.8;\"/>\r\n     </g>\r\n     <g id=\"line2d_10\">\r\n      <g>\r\n       <use style=\"stroke:#000000;stroke-width:0.8;\" x=\"254.197646\" xlink:href=\"#m95b47a5127\" y=\"224.64\"/>\r\n      </g>\r\n     </g>\r\n     <g id=\"text_5\">\r\n      <!-- 0.8 -->\r\n      <defs>\r\n       <path d=\"M 31.78125 34.625 \r\nQ 24.75 34.625 20.71875 30.859375 \r\nQ 16.703125 27.09375 16.703125 20.515625 \r\nQ 16.703125 13.921875 20.71875 10.15625 \r\nQ 24.75 6.390625 31.78125 6.390625 \r\nQ 38.8125 6.390625 42.859375 10.171875 \r\nQ 46.921875 13.96875 46.921875 20.515625 \r\nQ 46.921875 27.09375 42.890625 30.859375 \r\nQ 38.875 34.625 31.78125 34.625 \r\nz\r\nM 21.921875 38.8125 \r\nQ 15.578125 40.375 12.03125 44.71875 \r\nQ 8.5 49.078125 8.5 55.328125 \r\nQ 8.5 64.0625 14.71875 69.140625 \r\nQ 20.953125 74.21875 31.78125 74.21875 \r\nQ 42.671875 74.21875 48.875 69.140625 \r\nQ 55.078125 64.0625 55.078125 55.328125 \r\nQ 55.078125 49.078125 51.53125 44.71875 \r\nQ 48 40.375 41.703125 38.8125 \r\nQ 48.828125 37.15625 52.796875 32.3125 \r\nQ 56.78125 27.484375 56.78125 20.515625 \r\nQ 56.78125 9.90625 50.3125 4.234375 \r\nQ 43.84375 -1.421875 31.78125 -1.421875 \r\nQ 19.734375 -1.421875 13.25 4.234375 \r\nQ 6.78125 9.90625 6.78125 20.515625 \r\nQ 6.78125 27.484375 10.78125 32.3125 \r\nQ 14.796875 37.15625 21.921875 38.8125 \r\nz\r\nM 18.3125 54.390625 \r\nQ 18.3125 48.734375 21.84375 45.5625 \r\nQ 25.390625 42.390625 31.78125 42.390625 \r\nQ 38.140625 42.390625 41.71875 45.5625 \r\nQ 45.3125 48.734375 45.3125 54.390625 \r\nQ 45.3125 60.0625 41.71875 63.234375 \r\nQ 38.140625 66.40625 31.78125 66.40625 \r\nQ 25.390625 66.40625 21.84375 63.234375 \r\nQ 18.3125 60.0625 18.3125 54.390625 \r\nz\r\n\" id=\"DejaVuSans-56\"/>\r\n      </defs>\r\n      <g transform=\"translate(246.246083 239.238437)scale(0.1 -0.1)\">\r\n       <use xlink:href=\"#DejaVuSans-48\"/>\r\n       <use x=\"63.623047\" xlink:href=\"#DejaVuSans-46\"/>\r\n       <use x=\"95.410156\" xlink:href=\"#DejaVuSans-56\"/>\r\n      </g>\r\n     </g>\r\n    </g>\r\n    <g id=\"xtick_6\">\r\n     <g id=\"line2d_11\">\r\n      <path clip-path=\"url(#pcc3f1bd97c)\" d=\"M 304.030013 224.64 \r\nL 304.030013 7.2 \r\n\" style=\"fill:none;stroke:#b0b0b0;stroke-linecap:square;stroke-width:0.8;\"/>\r\n     </g>\r\n     <g id=\"line2d_12\">\r\n      <g>\r\n       <use style=\"stroke:#000000;stroke-width:0.8;\" x=\"304.030013\" xlink:href=\"#m95b47a5127\" y=\"224.64\"/>\r\n      </g>\r\n     </g>\r\n     <g id=\"text_6\">\r\n      <!-- 1.0 -->\r\n      <defs>\r\n       <path d=\"M 12.40625 8.296875 \r\nL 28.515625 8.296875 \r\nL 28.515625 63.921875 \r\nL 10.984375 60.40625 \r\nL 10.984375 69.390625 \r\nL 28.421875 72.90625 \r\nL 38.28125 72.90625 \r\nL 38.28125 8.296875 \r\nL 54.390625 8.296875 \r\nL 54.390625 0 \r\nL 12.40625 0 \r\nz\r\n\" id=\"DejaVuSans-49\"/>\r\n      </defs>\r\n      <g transform=\"translate(296.078451 239.238437)scale(0.1 -0.1)\">\r\n       <use xlink:href=\"#DejaVuSans-49\"/>\r\n       <use x=\"63.623047\" xlink:href=\"#DejaVuSans-46\"/>\r\n       <use x=\"95.410156\" xlink:href=\"#DejaVuSans-48\"/>\r\n      </g>\r\n     </g>\r\n    </g>\r\n    <g id=\"xtick_7\">\r\n     <g id=\"line2d_13\">\r\n      <path clip-path=\"url(#pcc3f1bd97c)\" d=\"M 353.862381 224.64 \r\nL 353.862381 7.2 \r\n\" style=\"fill:none;stroke:#b0b0b0;stroke-linecap:square;stroke-width:0.8;\"/>\r\n     </g>\r\n     <g id=\"line2d_14\">\r\n      <g>\r\n       <use style=\"stroke:#000000;stroke-width:0.8;\" x=\"353.862381\" xlink:href=\"#m95b47a5127\" y=\"224.64\"/>\r\n      </g>\r\n     </g>\r\n     <g id=\"text_7\">\r\n      <!-- 1.2 -->\r\n      <g transform=\"translate(345.910818 239.238437)scale(0.1 -0.1)\">\r\n       <use xlink:href=\"#DejaVuSans-49\"/>\r\n       <use x=\"63.623047\" xlink:href=\"#DejaVuSans-46\"/>\r\n       <use x=\"95.410156\" xlink:href=\"#DejaVuSans-50\"/>\r\n      </g>\r\n     </g>\r\n    </g>\r\n    <g id=\"text_8\">\r\n     <!-- 1e10 -->\r\n     <defs>\r\n      <path d=\"M 56.203125 29.59375 \r\nL 56.203125 25.203125 \r\nL 14.890625 25.203125 \r\nQ 15.484375 15.921875 20.484375 11.0625 \r\nQ 25.484375 6.203125 34.421875 6.203125 \r\nQ 39.59375 6.203125 44.453125 7.46875 \r\nQ 49.3125 8.734375 54.109375 11.28125 \r\nL 54.109375 2.78125 \r\nQ 49.265625 0.734375 44.1875 -0.34375 \r\nQ 39.109375 -1.421875 33.890625 -1.421875 \r\nQ 20.796875 -1.421875 13.15625 6.1875 \r\nQ 5.515625 13.8125 5.515625 26.8125 \r\nQ 5.515625 40.234375 12.765625 48.109375 \r\nQ 20.015625 56 32.328125 56 \r\nQ 43.359375 56 49.78125 48.890625 \r\nQ 56.203125 41.796875 56.203125 29.59375 \r\nz\r\nM 47.21875 32.234375 \r\nQ 47.125 39.59375 43.09375 43.984375 \r\nQ 39.0625 48.390625 32.421875 48.390625 \r\nQ 24.90625 48.390625 20.390625 44.140625 \r\nQ 15.875 39.890625 15.1875 32.171875 \r\nz\r\n\" id=\"DejaVuSans-101\"/>\r\n     </defs>\r\n     <g transform=\"translate(349.209375 251.916562)scale(0.1 -0.1)\">\r\n      <use xlink:href=\"#DejaVuSans-49\"/>\r\n      <use x=\"63.623047\" xlink:href=\"#DejaVuSans-101\"/>\r\n      <use x=\"125.146484\" xlink:href=\"#DejaVuSans-49\"/>\r\n      <use x=\"188.769531\" xlink:href=\"#DejaVuSans-48\"/>\r\n     </g>\r\n    </g>\r\n   </g>\r\n   <g id=\"matplotlib.axis_2\">\r\n    <g id=\"ytick_1\">\r\n     <g id=\"line2d_15\">\r\n      <path clip-path=\"url(#pcc3f1bd97c)\" d=\"M 39.65 224.64 \r\nL 374.45 224.64 \r\n\" style=\"fill:none;stroke:#b0b0b0;stroke-linecap:square;stroke-width:0.8;\"/>\r\n     </g>\r\n     <g id=\"line2d_16\">\r\n      <defs>\r\n       <path d=\"M 0 0 \r\nL -3.5 0 \r\n\" id=\"m0e58425fee\" style=\"stroke:#000000;stroke-width:0.8;\"/>\r\n      </defs>\r\n      <g>\r\n       <use style=\"stroke:#000000;stroke-width:0.8;\" x=\"39.65\" xlink:href=\"#m0e58425fee\" y=\"224.64\"/>\r\n      </g>\r\n     </g>\r\n     <g id=\"text_9\">\r\n      <!-- 0 -->\r\n      <g transform=\"translate(26.2875 228.439219)scale(0.1 -0.1)\">\r\n       <use xlink:href=\"#DejaVuSans-48\"/>\r\n      </g>\r\n     </g>\r\n    </g>\r\n    <g id=\"ytick_2\">\r\n     <g id=\"line2d_17\">\r\n      <path clip-path=\"url(#pcc3f1bd97c)\" d=\"M 39.65 179.086609 \r\nL 374.45 179.086609 \r\n\" style=\"fill:none;stroke:#b0b0b0;stroke-linecap:square;stroke-width:0.8;\"/>\r\n     </g>\r\n     <g id=\"line2d_18\">\r\n      <g>\r\n       <use style=\"stroke:#000000;stroke-width:0.8;\" x=\"39.65\" xlink:href=\"#m0e58425fee\" y=\"179.086609\"/>\r\n      </g>\r\n     </g>\r\n     <g id=\"text_10\">\r\n      <!-- 1000 -->\r\n      <g transform=\"translate(7.2 182.885828)scale(0.1 -0.1)\">\r\n       <use xlink:href=\"#DejaVuSans-49\"/>\r\n       <use x=\"63.623047\" xlink:href=\"#DejaVuSans-48\"/>\r\n       <use x=\"127.246094\" xlink:href=\"#DejaVuSans-48\"/>\r\n       <use x=\"190.869141\" xlink:href=\"#DejaVuSans-48\"/>\r\n      </g>\r\n     </g>\r\n    </g>\r\n    <g id=\"ytick_3\">\r\n     <g id=\"line2d_19\">\r\n      <path clip-path=\"url(#pcc3f1bd97c)\" d=\"M 39.65 133.533219 \r\nL 374.45 133.533219 \r\n\" style=\"fill:none;stroke:#b0b0b0;stroke-linecap:square;stroke-width:0.8;\"/>\r\n     </g>\r\n     <g id=\"line2d_20\">\r\n      <g>\r\n       <use style=\"stroke:#000000;stroke-width:0.8;\" x=\"39.65\" xlink:href=\"#m0e58425fee\" y=\"133.533219\"/>\r\n      </g>\r\n     </g>\r\n     <g id=\"text_11\">\r\n      <!-- 2000 -->\r\n      <g transform=\"translate(7.2 137.332437)scale(0.1 -0.1)\">\r\n       <use xlink:href=\"#DejaVuSans-50\"/>\r\n       <use x=\"63.623047\" xlink:href=\"#DejaVuSans-48\"/>\r\n       <use x=\"127.246094\" xlink:href=\"#DejaVuSans-48\"/>\r\n       <use x=\"190.869141\" xlink:href=\"#DejaVuSans-48\"/>\r\n      </g>\r\n     </g>\r\n    </g>\r\n    <g id=\"ytick_4\">\r\n     <g id=\"line2d_21\">\r\n      <path clip-path=\"url(#pcc3f1bd97c)\" d=\"M 39.65 87.979828 \r\nL 374.45 87.979828 \r\n\" style=\"fill:none;stroke:#b0b0b0;stroke-linecap:square;stroke-width:0.8;\"/>\r\n     </g>\r\n     <g id=\"line2d_22\">\r\n      <g>\r\n       <use style=\"stroke:#000000;stroke-width:0.8;\" x=\"39.65\" xlink:href=\"#m0e58425fee\" y=\"87.979828\"/>\r\n      </g>\r\n     </g>\r\n     <g id=\"text_12\">\r\n      <!-- 3000 -->\r\n      <defs>\r\n       <path d=\"M 40.578125 39.3125 \r\nQ 47.65625 37.796875 51.625 33 \r\nQ 55.609375 28.21875 55.609375 21.1875 \r\nQ 55.609375 10.40625 48.1875 4.484375 \r\nQ 40.765625 -1.421875 27.09375 -1.421875 \r\nQ 22.515625 -1.421875 17.65625 -0.515625 \r\nQ 12.796875 0.390625 7.625 2.203125 \r\nL 7.625 11.71875 \r\nQ 11.71875 9.328125 16.59375 8.109375 \r\nQ 21.484375 6.890625 26.8125 6.890625 \r\nQ 36.078125 6.890625 40.9375 10.546875 \r\nQ 45.796875 14.203125 45.796875 21.1875 \r\nQ 45.796875 27.640625 41.28125 31.265625 \r\nQ 36.765625 34.90625 28.71875 34.90625 \r\nL 20.21875 34.90625 \r\nL 20.21875 43.015625 \r\nL 29.109375 43.015625 \r\nQ 36.375 43.015625 40.234375 45.921875 \r\nQ 44.09375 48.828125 44.09375 54.296875 \r\nQ 44.09375 59.90625 40.109375 62.90625 \r\nQ 36.140625 65.921875 28.71875 65.921875 \r\nQ 24.65625 65.921875 20.015625 65.03125 \r\nQ 15.375 64.15625 9.8125 62.3125 \r\nL 9.8125 71.09375 \r\nQ 15.4375 72.65625 20.34375 73.4375 \r\nQ 25.25 74.21875 29.59375 74.21875 \r\nQ 40.828125 74.21875 47.359375 69.109375 \r\nQ 53.90625 64.015625 53.90625 55.328125 \r\nQ 53.90625 49.265625 50.4375 45.09375 \r\nQ 46.96875 40.921875 40.578125 39.3125 \r\nz\r\n\" id=\"DejaVuSans-51\"/>\r\n      </defs>\r\n      <g transform=\"translate(7.2 91.779047)scale(0.1 -0.1)\">\r\n       <use xlink:href=\"#DejaVuSans-51\"/>\r\n       <use x=\"63.623047\" xlink:href=\"#DejaVuSans-48\"/>\r\n       <use x=\"127.246094\" xlink:href=\"#DejaVuSans-48\"/>\r\n       <use x=\"190.869141\" xlink:href=\"#DejaVuSans-48\"/>\r\n      </g>\r\n     </g>\r\n    </g>\r\n    <g id=\"ytick_5\">\r\n     <g id=\"line2d_23\">\r\n      <path clip-path=\"url(#pcc3f1bd97c)\" d=\"M 39.65 42.426437 \r\nL 374.45 42.426437 \r\n\" style=\"fill:none;stroke:#b0b0b0;stroke-linecap:square;stroke-width:0.8;\"/>\r\n     </g>\r\n     <g id=\"line2d_24\">\r\n      <g>\r\n       <use style=\"stroke:#000000;stroke-width:0.8;\" x=\"39.65\" xlink:href=\"#m0e58425fee\" y=\"42.426437\"/>\r\n      </g>\r\n     </g>\r\n     <g id=\"text_13\">\r\n      <!-- 4000 -->\r\n      <g transform=\"translate(7.2 46.225656)scale(0.1 -0.1)\">\r\n       <use xlink:href=\"#DejaVuSans-52\"/>\r\n       <use x=\"63.623047\" xlink:href=\"#DejaVuSans-48\"/>\r\n       <use x=\"127.246094\" xlink:href=\"#DejaVuSans-48\"/>\r\n       <use x=\"190.869141\" xlink:href=\"#DejaVuSans-48\"/>\r\n      </g>\r\n     </g>\r\n    </g>\r\n   </g>\r\n   <g id=\"patch_13\">\r\n    <path d=\"M 39.65 224.64 \r\nL 39.65 7.2 \r\n\" style=\"fill:none;stroke:#000000;stroke-linecap:square;stroke-linejoin:miter;stroke-width:0.8;\"/>\r\n   </g>\r\n   <g id=\"patch_14\">\r\n    <path d=\"M 374.45 224.64 \r\nL 374.45 7.2 \r\n\" style=\"fill:none;stroke:#000000;stroke-linecap:square;stroke-linejoin:miter;stroke-width:0.8;\"/>\r\n   </g>\r\n   <g id=\"patch_15\">\r\n    <path d=\"M 39.65 224.64 \r\nL 374.45 224.64 \r\n\" style=\"fill:none;stroke:#000000;stroke-linecap:square;stroke-linejoin:miter;stroke-width:0.8;\"/>\r\n   </g>\r\n   <g id=\"patch_16\">\r\n    <path d=\"M 39.65 7.2 \r\nL 374.45 7.2 \r\n\" style=\"fill:none;stroke:#000000;stroke-linecap:square;stroke-linejoin:miter;stroke-width:0.8;\"/>\r\n   </g>\r\n  </g>\r\n </g>\r\n <defs>\r\n  <clipPath id=\"pcc3f1bd97c\">\r\n   <rect height=\"217.44\" width=\"334.8\" x=\"39.65\" y=\"7.2\"/>\r\n  </clipPath>\r\n </defs>\r\n</svg>\r\n",
      "image/png": "[encoded data removed]"
     },
     "metadata": {
      "needs_background": "light"
     }
    }
   ],
   "source": [
    "movies_num['budget'].hist()"
   ]
  },
  {
   "cell_type": "code",
   "execution_count": 12,
   "metadata": {},
   "outputs": [
    {
     "output_type": "execute_result",
     "data": {
      "text/plain": "             movie_title  title_year  color  aspect_ratio  duration  \\\n2323  Princess Mononoke       1997.0  Color          1.85     134.0   \n2334           Steamboy       2004.0  Color          1.85     103.0   \n2988           The Host       2006.0  Color          1.85     110.0   \n3005           Fateless       2005.0  Color          2.35     134.0   \n3423              Akira       1988.0  Color          1.85     124.0   \n3859     Lady Vengeance       2005.0  Color          2.35     112.0   \n\n       language      country  duration.1  \\\n2323   Japanese        Japan       134.0   \n2334   Japanese        Japan       103.0   \n2988     Korean  South Korea       110.0   \n3005  Hungarian      Hungary       134.0   \n3423   Japanese        Japan       124.0   \n3859     Korean  South Korea       112.0   \n\n                                                 genres content_rating  \\\n2323                        Adventure|Animation|Fantasy          PG-13   \n2334  Action|Adventure|Animation|Family|Sci-Fi|Thriller          PG-13   \n2988                         Comedy|Drama|Horror|Sci-Fi              R   \n3005                                  Drama|Romance|War              R   \n3423                            Action|Animation|Sci-Fi              R   \n3859                                        Crime|Drama              R   \n\n                                          plot_keywords    director_name  \\\n2323      anime|cult film|forest|princess|studio ghibli   Hayao Miyazaki   \n2334               19th century|ball|boy|inventor|steam  Katsuhiro Ôtomo   \n2988             daughter|han river|monster|river|seoul     Joon-ho Bong   \n3005                   bus|death|gay slur|hatred|jewish     Lajos Koltai   \n3423  based on manga|biker gang|gifted child|post th...  Katsuhiro Ôtomo   \n3859  cake|christian|lesbian sex|oral sex|pregnant s...   Chan-wook Park   \n\n          actor_1_name        actor_2_name    actor_3_name  \\\n2323     Minnie Driver  Jada Pinkett Smith    Billy Crudup   \n2334  William Hootkins  Robin Atkin Downes  Rosalind Ayres   \n2988         Doona Bae        Kang-ho Song      Ah-sung Ko   \n3005      Marcell Nagy     Péter Fancsikai   Bálint Péntek   \n3423      Mitsuo Iwata       Takeshi Kusao    Tesshô Genda   \n3859      Min-sik Choi        Yeong-ae Lee  Hye-jeong Kang   \n\n      cast_total_facebook_likes        budget  imdb_score      gross  \n2323                       2710  2.400000e+09         8.4  2298191.0  \n2334                        991  2.127520e+09         6.9   410388.0  \n2988                       1173  1.221550e+10         7.0  2201412.0  \n3005                         11  2.500000e+09         7.1   195888.0  \n3423                         28  1.100000e+09         8.1   439162.0  \n3859                        907  4.200000e+09         7.7   211667.0  ",
      "text/html": "<div>\n<style scoped>\n    .dataframe tbody tr th:only-of-type {\n        vertical-align: middle;\n    }\n\n    .dataframe tbody tr th {\n        vertical-align: top;\n    }\n\n    .dataframe thead th {\n        text-align: right;\n    }\n</style>\n<table border=\"1\" class=\"dataframe\">\n  <thead>\n    <tr style=\"text-align: right;\">\n      <th></th>\n      <th>movie_title</th>\n      <th>title_year</th>\n      <th>color</th>\n      <th>aspect_ratio</th>\n      <th>duration</th>\n      <th>language</th>\n      <th>country</th>\n      <th>duration.1</th>\n      <th>genres</th>\n      <th>content_rating</th>\n      <th>plot_keywords</th>\n      <th>director_name</th>\n      <th>actor_1_name</th>\n      <th>actor_2_name</th>\n      <th>actor_3_name</th>\n      <th>cast_total_facebook_likes</th>\n      <th>budget</th>\n      <th>imdb_score</th>\n      <th>gross</th>\n    </tr>\n  </thead>\n  <tbody>\n    <tr>\n      <td>2323</td>\n      <td>Princess Mononoke</td>\n      <td>1997.0</td>\n      <td>Color</td>\n      <td>1.85</td>\n      <td>134.0</td>\n      <td>Japanese</td>\n      <td>Japan</td>\n      <td>134.0</td>\n      <td>Adventure|Animation|Fantasy</td>\n      <td>PG-13</td>\n      <td>anime|cult film|forest|princess|studio ghibli</td>\n      <td>Hayao Miyazaki</td>\n      <td>Minnie Driver</td>\n      <td>Jada Pinkett Smith</td>\n      <td>Billy Crudup</td>\n      <td>2710</td>\n      <td>2.400000e+09</td>\n      <td>8.4</td>\n      <td>2298191.0</td>\n    </tr>\n    <tr>\n      <td>2334</td>\n      <td>Steamboy</td>\n      <td>2004.0</td>\n      <td>Color</td>\n      <td>1.85</td>\n      <td>103.0</td>\n      <td>Japanese</td>\n      <td>Japan</td>\n      <td>103.0</td>\n      <td>Action|Adventure|Animation|Family|Sci-Fi|Thriller</td>\n      <td>PG-13</td>\n      <td>19th century|ball|boy|inventor|steam</td>\n      <td>Katsuhiro Ôtomo</td>\n      <td>William Hootkins</td>\n      <td>Robin Atkin Downes</td>\n      <td>Rosalind Ayres</td>\n      <td>991</td>\n      <td>2.127520e+09</td>\n      <td>6.9</td>\n      <td>410388.0</td>\n    </tr>\n    <tr>\n      <td>2988</td>\n      <td>The Host</td>\n      <td>2006.0</td>\n      <td>Color</td>\n      <td>1.85</td>\n      <td>110.0</td>\n      <td>Korean</td>\n      <td>South Korea</td>\n      <td>110.0</td>\n      <td>Comedy|Drama|Horror|Sci-Fi</td>\n      <td>R</td>\n      <td>daughter|han river|monster|river|seoul</td>\n      <td>Joon-ho Bong</td>\n      <td>Doona Bae</td>\n      <td>Kang-ho Song</td>\n      <td>Ah-sung Ko</td>\n      <td>1173</td>\n      <td>1.221550e+10</td>\n      <td>7.0</td>\n      <td>2201412.0</td>\n    </tr>\n    <tr>\n      <td>3005</td>\n      <td>Fateless</td>\n      <td>2005.0</td>\n      <td>Color</td>\n      <td>2.35</td>\n      <td>134.0</td>\n      <td>Hungarian</td>\n      <td>Hungary</td>\n      <td>134.0</td>\n      <td>Drama|Romance|War</td>\n      <td>R</td>\n      <td>bus|death|gay slur|hatred|jewish</td>\n      <td>Lajos Koltai</td>\n      <td>Marcell Nagy</td>\n      <td>Péter Fancsikai</td>\n      <td>Bálint Péntek</td>\n      <td>11</td>\n      <td>2.500000e+09</td>\n      <td>7.1</td>\n      <td>195888.0</td>\n    </tr>\n    <tr>\n      <td>3423</td>\n      <td>Akira</td>\n      <td>1988.0</td>\n      <td>Color</td>\n      <td>1.85</td>\n      <td>124.0</td>\n      <td>Japanese</td>\n      <td>Japan</td>\n      <td>124.0</td>\n      <td>Action|Animation|Sci-Fi</td>\n      <td>R</td>\n      <td>based on manga|biker gang|gifted child|post th...</td>\n      <td>Katsuhiro Ôtomo</td>\n      <td>Mitsuo Iwata</td>\n      <td>Takeshi Kusao</td>\n      <td>Tesshô Genda</td>\n      <td>28</td>\n      <td>1.100000e+09</td>\n      <td>8.1</td>\n      <td>439162.0</td>\n    </tr>\n    <tr>\n      <td>3859</td>\n      <td>Lady Vengeance</td>\n      <td>2005.0</td>\n      <td>Color</td>\n      <td>2.35</td>\n      <td>112.0</td>\n      <td>Korean</td>\n      <td>South Korea</td>\n      <td>112.0</td>\n      <td>Crime|Drama</td>\n      <td>R</td>\n      <td>cake|christian|lesbian sex|oral sex|pregnant s...</td>\n      <td>Chan-wook Park</td>\n      <td>Min-sik Choi</td>\n      <td>Yeong-ae Lee</td>\n      <td>Hye-jeong Kang</td>\n      <td>907</td>\n      <td>4.200000e+09</td>\n      <td>7.7</td>\n      <td>211667.0</td>\n    </tr>\n  </tbody>\n</table>\n</div>"
     },
     "metadata": {},
     "execution_count": 12
    }
   ],
   "source": [
    "mask = (movies_num['budget'] > 1e9)\n",
    "movies[mask]"
   ]
  },
  {
   "cell_type": "code",
   "execution_count": 13,
   "metadata": {},
   "outputs": [],
   "source": [
    "financials = pd.read_csv('thenumbers.csv')\n",
    "financials = financials[['movie_title', 'production_budget', 'worldwide_gross']]"
   ]
  },
  {
   "cell_type": "code",
   "execution_count": 14,
   "metadata": {},
   "outputs": [
    {
     "output_type": "stream",
     "name": "stdout",
     "text": "finincials shape: (4341, 3)\nmovies shape: (5043, 19)\n"
    }
   ],
   "source": [
    "print(f'finincials shape: {financials.shape}')\n",
    "print(f'movies shape: {movies.shape}')"
   ]
  },
  {
   "cell_type": "code",
   "execution_count": 15,
   "metadata": {},
   "outputs": [],
   "source": [
    "movies_num = pd.concat([movies_num, movies['movie_title']], axis=1)"
   ]
  },
  {
   "cell_type": "code",
   "execution_count": 16,
   "metadata": {},
   "outputs": [
    {
     "output_type": "execute_result",
     "data": {
      "text/plain": "(4385, 11)"
     },
     "metadata": {},
     "execution_count": 16
    }
   ],
   "source": [
    "movies_v2 = pd.merge(financials, movies_num, on='movie_title', how='left')\n",
    "movies_v2.shape"
   ]
  },
  {
   "cell_type": "code",
   "execution_count": 17,
   "metadata": {},
   "outputs": [
    {
     "output_type": "execute_result",
     "data": {
      "text/plain": "       movie_title  production_budget  worldwide_gross  title_year  \\\nFalse          NaN                NaN              NaN          27   \nTrue        4385.0             4385.0           4385.0        4358   \n\n       aspect_ratio  duration  duration.1  cast_total_facebook_likes  budget  \\\nFalse           274        13          13                        NaN     335   \nTrue           4111      4372        4372                     4385.0    4050   \n\n       imdb_score  gross  \nFalse         NaN    671  \nTrue       4385.0   3714  ",
      "text/html": "<div>\n<style scoped>\n    .dataframe tbody tr th:only-of-type {\n        vertical-align: middle;\n    }\n\n    .dataframe tbody tr th {\n        vertical-align: top;\n    }\n\n    .dataframe thead th {\n        text-align: right;\n    }\n</style>\n<table border=\"1\" class=\"dataframe\">\n  <thead>\n    <tr style=\"text-align: right;\">\n      <th></th>\n      <th>movie_title</th>\n      <th>production_budget</th>\n      <th>worldwide_gross</th>\n      <th>title_year</th>\n      <th>aspect_ratio</th>\n      <th>duration</th>\n      <th>duration.1</th>\n      <th>cast_total_facebook_likes</th>\n      <th>budget</th>\n      <th>imdb_score</th>\n      <th>gross</th>\n    </tr>\n  </thead>\n  <tbody>\n    <tr>\n      <td>False</td>\n      <td>NaN</td>\n      <td>NaN</td>\n      <td>NaN</td>\n      <td>27</td>\n      <td>274</td>\n      <td>13</td>\n      <td>13</td>\n      <td>NaN</td>\n      <td>335</td>\n      <td>NaN</td>\n      <td>671</td>\n    </tr>\n    <tr>\n      <td>True</td>\n      <td>4385.0</td>\n      <td>4385.0</td>\n      <td>4385.0</td>\n      <td>4358</td>\n      <td>4111</td>\n      <td>4372</td>\n      <td>4372</td>\n      <td>4385.0</td>\n      <td>4050</td>\n      <td>4385.0</td>\n      <td>3714</td>\n    </tr>\n  </tbody>\n</table>\n</div>"
     },
     "metadata": {},
     "execution_count": 17
    }
   ],
   "source": [
    "#mostrar valores nulos y no nulos, despues aplicarles una funcion y contar los valores\n",
    "movies_v2.notnull().apply(pd.Series.value_counts)"
   ]
  },
  {
   "cell_type": "code",
   "execution_count": 18,
   "metadata": {},
   "outputs": [
    {
     "output_type": "execute_result",
     "data": {
      "text/plain": "       movie_title  production_budget  worldwide_gross  title_year  \\\nFalse          NaN                NaN              281         NaN   \nTrue        4385.0             4385.0             4104      4385.0   \n\n       aspect_ratio  duration  duration.1  cast_total_facebook_likes  budget  \\\nFalse           NaN       NaN         NaN                         27     NaN   \nTrue         4385.0    4385.0      4385.0                       4358  4385.0   \n\n       imdb_score   gross  \nFalse         NaN     NaN  \nTrue       4385.0  4385.0  ",
      "text/html": "<div>\n<style scoped>\n    .dataframe tbody tr th:only-of-type {\n        vertical-align: middle;\n    }\n\n    .dataframe tbody tr th {\n        vertical-align: top;\n    }\n\n    .dataframe thead th {\n        text-align: right;\n    }\n</style>\n<table border=\"1\" class=\"dataframe\">\n  <thead>\n    <tr style=\"text-align: right;\">\n      <th></th>\n      <th>movie_title</th>\n      <th>production_budget</th>\n      <th>worldwide_gross</th>\n      <th>title_year</th>\n      <th>aspect_ratio</th>\n      <th>duration</th>\n      <th>duration.1</th>\n      <th>cast_total_facebook_likes</th>\n      <th>budget</th>\n      <th>imdb_score</th>\n      <th>gross</th>\n    </tr>\n  </thead>\n  <tbody>\n    <tr>\n      <td>False</td>\n      <td>NaN</td>\n      <td>NaN</td>\n      <td>281</td>\n      <td>NaN</td>\n      <td>NaN</td>\n      <td>NaN</td>\n      <td>NaN</td>\n      <td>27</td>\n      <td>NaN</td>\n      <td>NaN</td>\n      <td>NaN</td>\n    </tr>\n    <tr>\n      <td>True</td>\n      <td>4385.0</td>\n      <td>4385.0</td>\n      <td>4104</td>\n      <td>4385.0</td>\n      <td>4385.0</td>\n      <td>4385.0</td>\n      <td>4385.0</td>\n      <td>4358</td>\n      <td>4385.0</td>\n      <td>4385.0</td>\n      <td>4385.0</td>\n    </tr>\n  </tbody>\n</table>\n</div>"
     },
     "metadata": {},
     "execution_count": 18
    }
   ],
   "source": [
    "#mostrar valores 0 y aplicarles la funcion de contar\n",
    "(movies_v2 != 0).apply(pd.Series.value_counts)"
   ]
  },
  {
   "cell_type": "code",
   "execution_count": 19,
   "metadata": {},
   "outputs": [
    {
     "output_type": "execute_result",
     "data": {
      "text/plain": "True     3408\nFalse     977\ndtype: int64"
     },
     "metadata": {},
     "execution_count": 19
    }
   ],
   "source": [
    "available = ((movies_v2 != 0) & (movies_v2.notnull()))\n",
    "available.all(axis=1).value_counts()"
   ]
  },
  {
   "cell_type": "code",
   "execution_count": 20,
   "metadata": {},
   "outputs": [],
   "source": [
    "mask = available['worldwide_gross']\n",
    "movies_v2 = movies_v2[mask]\n",
    "imputer = SimpleImputer(missing_values=np.nan, strategy='mean')"
   ]
  },
  {
   "cell_type": "code",
   "execution_count": 21,
   "metadata": {},
   "outputs": [
    {
     "output_type": "execute_result",
     "data": {
      "text/plain": "   production_budget  worldwide_gross  title_year  aspect_ratio  duration.1  \\\n0          425000000       2783918982      2009.0          1.78       178.0   \n1          306000000       2058662225         NaN           NaN         NaN   \n2          300000000        963420425      2007.0          2.35       169.0   \n3          300000000        879620923      2015.0          2.35       148.0   \n4          275000000       1084439099      2012.0          2.35       164.0   \n\n   cast_total_facebook_likes       budget  imdb_score        gross  \n0                       4834  237000000.0         7.9  760505847.0  \n1                        143          NaN         7.1          NaN  \n2                      48350  300000000.0         7.1  309404152.0  \n3                      11700  245000000.0         6.8  200074175.0  \n4                     106759  250000000.0         8.5  448130642.0  ",
      "text/html": "<div>\n<style scoped>\n    .dataframe tbody tr th:only-of-type {\n        vertical-align: middle;\n    }\n\n    .dataframe tbody tr th {\n        vertical-align: top;\n    }\n\n    .dataframe thead th {\n        text-align: right;\n    }\n</style>\n<table border=\"1\" class=\"dataframe\">\n  <thead>\n    <tr style=\"text-align: right;\">\n      <th></th>\n      <th>production_budget</th>\n      <th>worldwide_gross</th>\n      <th>title_year</th>\n      <th>aspect_ratio</th>\n      <th>duration.1</th>\n      <th>cast_total_facebook_likes</th>\n      <th>budget</th>\n      <th>imdb_score</th>\n      <th>gross</th>\n    </tr>\n  </thead>\n  <tbody>\n    <tr>\n      <td>0</td>\n      <td>425000000</td>\n      <td>2783918982</td>\n      <td>2009.0</td>\n      <td>1.78</td>\n      <td>178.0</td>\n      <td>4834</td>\n      <td>237000000.0</td>\n      <td>7.9</td>\n      <td>760505847.0</td>\n    </tr>\n    <tr>\n      <td>1</td>\n      <td>306000000</td>\n      <td>2058662225</td>\n      <td>NaN</td>\n      <td>NaN</td>\n      <td>NaN</td>\n      <td>143</td>\n      <td>NaN</td>\n      <td>7.1</td>\n      <td>NaN</td>\n    </tr>\n    <tr>\n      <td>2</td>\n      <td>300000000</td>\n      <td>963420425</td>\n      <td>2007.0</td>\n      <td>2.35</td>\n      <td>169.0</td>\n      <td>48350</td>\n      <td>300000000.0</td>\n      <td>7.1</td>\n      <td>309404152.0</td>\n    </tr>\n    <tr>\n      <td>3</td>\n      <td>300000000</td>\n      <td>879620923</td>\n      <td>2015.0</td>\n      <td>2.35</td>\n      <td>148.0</td>\n      <td>11700</td>\n      <td>245000000.0</td>\n      <td>6.8</td>\n      <td>200074175.0</td>\n    </tr>\n    <tr>\n      <td>4</td>\n      <td>275000000</td>\n      <td>1084439099</td>\n      <td>2012.0</td>\n      <td>2.35</td>\n      <td>164.0</td>\n      <td>106759</td>\n      <td>250000000.0</td>\n      <td>8.5</td>\n      <td>448130642.0</td>\n    </tr>\n  </tbody>\n</table>\n</div>"
     },
     "metadata": {},
     "execution_count": 21
    }
   ],
   "source": [
    "movies_v2 = movies_v2.drop('movie_title', axis=1)\n",
    "movies_v2 = movies_v2.drop('duration', axis=1)\n",
    "movies_v2.head()"
   ]
  },
  {
   "cell_type": "code",
   "execution_count": 22,
   "metadata": {},
   "outputs": [
    {
     "output_type": "execute_result",
     "data": {
      "text/plain": "array([[4.25000000e+08, 2.78391898e+09, 2.00900000e+03, ...,\n        2.37000000e+08, 7.90000000e+00, 7.60505847e+08],\n       [3.06000000e+08, 2.05866222e+09, 2.00213073e+03, ...,\n        4.04553863e+07, 7.10000000e+00, 4.83193329e+07],\n       [3.00000000e+08, 9.63420425e+08, 2.00700000e+03, ...,\n        3.00000000e+08, 7.10000000e+00, 3.09404152e+08],\n       ...,\n       [7.00000000e+03, 9.00000000e+02, 2.00500000e+03, ...,\n        3.25000000e+03, 7.80000000e+00, 4.83193329e+07],\n       [3.96700000e+03, 1.04430000e+04, 2.01200000e+03, ...,\n        4.04553863e+07, 6.30000000e+00, 1.04430000e+04],\n       [1.10000000e+03, 1.81041000e+05, 2.00400000e+03, ...,\n        1.10000000e+03, 6.60000000e+00, 8.52220000e+04]])"
     },
     "metadata": {},
     "execution_count": 22
    }
   ],
   "source": [
    "values = imputer.fit_transform(movies_v2)\n",
    "values"
   ]
  },
  {
   "cell_type": "code",
   "execution_count": 23,
   "metadata": {},
   "outputs": [
    {
     "output_type": "execute_result",
     "data": {
      "text/plain": "   production_budget  worldwide_gross   title_year  aspect_ratio  duration.1  \\\n0        425000000.0     2.783919e+09  2009.000000      1.780000  178.000000   \n1        306000000.0     2.058662e+09  2002.130733      2.126976  108.577186   \n2        300000000.0     9.634204e+08  2007.000000      2.350000  169.000000   \n3        300000000.0     8.796209e+08  2015.000000      2.350000  148.000000   \n4        275000000.0     1.084439e+09  2012.000000      2.350000  164.000000   \n\n   cast_total_facebook_likes        budget  imdb_score         gross  \n0                     4834.0  2.370000e+08         7.9  7.605058e+08  \n1                      143.0  4.045539e+07         7.1  4.831933e+07  \n2                    48350.0  3.000000e+08         7.1  3.094042e+08  \n3                    11700.0  2.450000e+08         6.8  2.000742e+08  \n4                   106759.0  2.500000e+08         8.5  4.481306e+08  ",
      "text/html": "<div>\n<style scoped>\n    .dataframe tbody tr th:only-of-type {\n        vertical-align: middle;\n    }\n\n    .dataframe tbody tr th {\n        vertical-align: top;\n    }\n\n    .dataframe thead th {\n        text-align: right;\n    }\n</style>\n<table border=\"1\" class=\"dataframe\">\n  <thead>\n    <tr style=\"text-align: right;\">\n      <th></th>\n      <th>production_budget</th>\n      <th>worldwide_gross</th>\n      <th>title_year</th>\n      <th>aspect_ratio</th>\n      <th>duration.1</th>\n      <th>cast_total_facebook_likes</th>\n      <th>budget</th>\n      <th>imdb_score</th>\n      <th>gross</th>\n    </tr>\n  </thead>\n  <tbody>\n    <tr>\n      <td>0</td>\n      <td>425000000.0</td>\n      <td>2.783919e+09</td>\n      <td>2009.000000</td>\n      <td>1.780000</td>\n      <td>178.000000</td>\n      <td>4834.0</td>\n      <td>2.370000e+08</td>\n      <td>7.9</td>\n      <td>7.605058e+08</td>\n    </tr>\n    <tr>\n      <td>1</td>\n      <td>306000000.0</td>\n      <td>2.058662e+09</td>\n      <td>2002.130733</td>\n      <td>2.126976</td>\n      <td>108.577186</td>\n      <td>143.0</td>\n      <td>4.045539e+07</td>\n      <td>7.1</td>\n      <td>4.831933e+07</td>\n    </tr>\n    <tr>\n      <td>2</td>\n      <td>300000000.0</td>\n      <td>9.634204e+08</td>\n      <td>2007.000000</td>\n      <td>2.350000</td>\n      <td>169.000000</td>\n      <td>48350.0</td>\n      <td>3.000000e+08</td>\n      <td>7.1</td>\n      <td>3.094042e+08</td>\n    </tr>\n    <tr>\n      <td>3</td>\n      <td>300000000.0</td>\n      <td>8.796209e+08</td>\n      <td>2015.000000</td>\n      <td>2.350000</td>\n      <td>148.000000</td>\n      <td>11700.0</td>\n      <td>2.450000e+08</td>\n      <td>6.8</td>\n      <td>2.000742e+08</td>\n    </tr>\n    <tr>\n      <td>4</td>\n      <td>275000000.0</td>\n      <td>1.084439e+09</td>\n      <td>2012.000000</td>\n      <td>2.350000</td>\n      <td>164.000000</td>\n      <td>106759.0</td>\n      <td>2.500000e+08</td>\n      <td>8.5</td>\n      <td>4.481306e+08</td>\n    </tr>\n  </tbody>\n</table>\n</div>"
     },
     "metadata": {},
     "execution_count": 23
    }
   ],
   "source": [
    "x = pd.DataFrame(values)\n",
    "x.columns = movies_v2.columns\n",
    "x.index = movies_v2.index\n",
    "x.head()"
   ]
  },
  {
   "cell_type": "code",
   "execution_count": 24,
   "metadata": {},
   "outputs": [],
   "source": [
    "x.to_csv('x.csv', index=False)"
   ]
  }
 ]
}