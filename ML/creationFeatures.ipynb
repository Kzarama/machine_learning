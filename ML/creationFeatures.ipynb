{
 "nbformat": 4,
 "nbformat_minor": 2,
 "metadata": {
  "language_info": {
   "name": "python",
   "codemirror_mode": {
    "name": "ipython",
    "version": 3
   },
   "version": "3.7.4-final"
  },
  "orig_nbformat": 2,
  "file_extension": ".py",
  "mimetype": "text/x-python",
  "name": "python",
  "npconvert_exporter": "python",
  "pygments_lexer": "ipython3",
  "version": 3,
  "kernelspec": {
   "name": "python37464bitbaseconda382dd9c8a6244264a9107353e8a52713",
   "display_name": "Python 3.7.4 64-bit ('base': conda)"
  }
 },
 "cells": [
  {
   "cell_type": "code",
   "execution_count": 6,
   "metadata": {},
   "outputs": [
    {
     "output_type": "stream",
     "name": "stdout",
     "text": "Collecting category_encoders\n  Downloading https://files.pythonhosted.org/packages/a0/52/c54191ad3782de633ea3d6ee3bb2837bda0cf3bc97644bb6375cf14150a0/category_encoders-2.1.0-py2.py3-none-any.whl (100kB)\nRequirement already satisfied: statsmodels>=0.6.1 in c:\\users\\kz\\anaconda3\\lib\\site-packages (from category_encoders) (0.10.1)\nRequirement already satisfied: numpy>=1.11.3 in c:\\users\\kz\\anaconda3\\lib\\site-packages (from category_encoders) (1.16.5)\nRequirement already satisfied: pandas>=0.21.1 in c:\\users\\kz\\anaconda3\\lib\\site-packages (from category_encoders) (0.25.1)\nRequirement already satisfied: patsy>=0.4.1 in c:\\users\\kz\\anaconda3\\lib\\site-packages (from category_encoders) (0.5.1)\nRequirement already satisfied: scipy>=0.19.0 in c:\\users\\kz\\anaconda3\\lib\\site-packages (from category_encoders) (1.3.1)\nRequirement already satisfied: scikit-learn>=0.20.0 in c:\\users\\kz\\anaconda3\\lib\\site-packages (from category_encoders) (0.21.3)\nRequirement already satisfied: pytz>=2017.2 in c:\\users\\kz\\anaconda3\\lib\\site-packages (from pandas>=0.21.1->category_encoders) (2019.3)\nRequirement already satisfied: python-dateutil>=2.6.1 in c:\\users\\kz\\anaconda3\\lib\\site-packages (from pandas>=0.21.1->category_encoders) (2.8.0)\nRequirement already satisfied: six in c:\\users\\kz\\anaconda3\\lib\\site-packages (from patsy>=0.4.1->category_encoders) (1.12.0)\nRequirement already satisfied: joblib>=0.11 in c:\\users\\kz\\anaconda3\\lib\\site-packages (from scikit-learn>=0.20.0->category_encoders) (0.13.2)\nInstalling collected packages: category-encoders\nSuccessfully installed category-encoders-2.1.0\n"
    }
   ],
   "source": [
    "!pip install category_encoders"
   ]
  },
  {
   "cell_type": "code",
   "execution_count": 1,
   "metadata": {},
   "outputs": [],
   "source": [
    "import pandas as pd"
   ]
  },
  {
   "cell_type": "code",
   "execution_count": 5,
   "metadata": {},
   "outputs": [
    {
     "output_type": "execute_result",
     "data": {
      "text/plain": "color                2\ncontent_rating      18\nlanguage            47\ncountry             65\ngenres             914\nactor_1_name      2097\ndirector_name     2398\nactor_2_name      3032\nactor_3_name      3521\nplot_keywords     4760\nmovie_title       4917\ndtype: int64"
     },
     "metadata": {},
     "execution_count": 5
    }
   ],
   "source": [
    "movies_obj = pd.read_csv('movies_obj.csv')\n",
    "movies_obj.apply(pd.Series.nunique).sort_values()"
   ]
  },
  {
   "cell_type": "code",
   "execution_count": 8,
   "metadata": {},
   "outputs": [
    {
     "output_type": "execute_result",
     "data": {
      "text/plain": "               actor_1_name      director_name\nUnnamed: 0                                    \n0               CCH Pounder      James Cameron\n1               Doug Walker        Doug Walker\n2               Johnny Depp     Gore Verbinski\n3           Christoph Waltz         Sam Mendes\n4                 Tom Hardy  Christopher Nolan",
      "text/html": "<div>\n<style scoped>\n    .dataframe tbody tr th:only-of-type {\n        vertical-align: middle;\n    }\n\n    .dataframe tbody tr th {\n        vertical-align: top;\n    }\n\n    .dataframe thead th {\n        text-align: right;\n    }\n</style>\n<table border=\"1\" class=\"dataframe\">\n  <thead>\n    <tr style=\"text-align: right;\">\n      <th></th>\n      <th>actor_1_name</th>\n      <th>director_name</th>\n    </tr>\n    <tr>\n      <th>Unnamed: 0</th>\n      <th></th>\n      <th></th>\n    </tr>\n  </thead>\n  <tbody>\n    <tr>\n      <td>0</td>\n      <td>CCH Pounder</td>\n      <td>James Cameron</td>\n    </tr>\n    <tr>\n      <td>1</td>\n      <td>Doug Walker</td>\n      <td>Doug Walker</td>\n    </tr>\n    <tr>\n      <td>2</td>\n      <td>Johnny Depp</td>\n      <td>Gore Verbinski</td>\n    </tr>\n    <tr>\n      <td>3</td>\n      <td>Christoph Waltz</td>\n      <td>Sam Mendes</td>\n    </tr>\n    <tr>\n      <td>4</td>\n      <td>Tom Hardy</td>\n      <td>Christopher Nolan</td>\n    </tr>\n  </tbody>\n</table>\n</div>"
     },
     "metadata": {},
     "execution_count": 8
    }
   ],
   "source": [
    "categoricals = pd.read_csv('categoricals.csv').set_index('Unnamed: 0')\n",
    "categoricals.head()"
   ]
  },
  {
   "cell_type": "code",
   "execution_count": 10,
   "metadata": {},
   "outputs": [
    {
     "output_type": "error",
     "ename": "NameError",
     "evalue": "name 'x' is not defined",
     "traceback": [
      "\u001b[1;31m---------------------------------------------------------------------------\u001b[0m",
      "\u001b[1;31mNameError\u001b[0m                                 Traceback (most recent call last)",
      "\u001b[1;32m<ipython-input-10-6decf4a7a566>\u001b[0m in \u001b[0;36m<module>\u001b[1;34m\u001b[0m\n\u001b[0;32m      1\u001b[0m \u001b[0mcategoricals\u001b[0m \u001b[1;33m=\u001b[0m \u001b[0mcategoricals\u001b[0m\u001b[1;33m.\u001b[0m\u001b[0mreset_index\u001b[0m\u001b[1;33m(\u001b[0m\u001b[0mdrop\u001b[0m\u001b[1;33m=\u001b[0m\u001b[1;32mTrue\u001b[0m\u001b[1;33m)\u001b[0m\u001b[1;33m.\u001b[0m\u001b[0mfillna\u001b[0m\u001b[1;33m(\u001b[0m\u001b[1;36m0\u001b[0m\u001b[1;33m)\u001b[0m\u001b[1;33m\u001b[0m\u001b[1;33m\u001b[0m\u001b[0m\n\u001b[1;32m----> 2\u001b[1;33m \u001b[0mx_binenc\u001b[0m \u001b[1;33m=\u001b[0m \u001b[0mpd\u001b[0m\u001b[1;33m.\u001b[0m\u001b[0mconcat\u001b[0m\u001b[1;33m(\u001b[0m\u001b[1;33m[\u001b[0m\u001b[0mx\u001b[0m\u001b[1;33m,\u001b[0m \u001b[0mcategoricals\u001b[0m\u001b[1;33m]\u001b[0m\u001b[1;33m,\u001b[0m \u001b[0maxis\u001b[0m\u001b[1;33m=\u001b[0m\u001b[1;36m1\u001b[0m\u001b[1;33m)\u001b[0m\u001b[1;33m\u001b[0m\u001b[1;33m\u001b[0m\u001b[0m\n\u001b[0m",
      "\u001b[1;31mNameError\u001b[0m: name 'x' is not defined"
     ]
    }
   ],
   "source": [
    "categoricals = categoricals.reset_index(drop=True).fillna(0)\n",
    "x_binenc = pd.concat([x, categoricals], axis=1)"
   ]
  }
 ]
}