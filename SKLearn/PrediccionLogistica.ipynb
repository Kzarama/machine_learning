{
  "nbformat": 4,
  "nbformat_minor": 0,
  "metadata": {
    "colab": {
      "name": "PrediccionLogistica.ipynb",
      "provenance": []
    },
    "kernelspec": {
      "name": "python3",
      "display_name": "Python 3"
    }
  },
  "cells": [
    {
      "cell_type": "code",
      "metadata": {
        "id": "X5w4AWiHZ_qQ",
        "colab_type": "code",
        "colab": {}
      },
      "source": [
        "import numpy as np\n",
        "from sklearn.linear_model import LogisticRegression\n",
        "import matplotlib.pyplot as plt\n",
        "from sklearn import svm\n",
        "from sklearn.datasets import make_blobs"
      ],
      "execution_count": 0,
      "outputs": []
    },
    {
      "cell_type": "markdown",
      "metadata": {
        "id": "I-8fQv-ta3yI",
        "colab_type": "text"
      },
      "source": [
        "#Prediccion logistica\n",
        "---"
      ]
    },
    {
      "cell_type": "code",
      "metadata": {
        "id": "sxfJ1BP6ajc-",
        "colab_type": "code",
        "colab": {}
      },
      "source": [
        "x=np.array([0.5, 0.75, 1, 1.25, 1.5, 1.75, 1.75, 2, 2.25, 2.5, 2.75, 3, 3.25, 3.5, 4, 4.25, 4.5,\n",
        "4.75, 5, 5.5]).reshape(-1,1)\n",
        "y=np.array([0, 0, 0, 0, 0, 0, 1, 0, 1, 0, 1, 0, 1, 0, 1, 1, 1, 1, 1, 1])"
      ],
      "execution_count": 0,
      "outputs": []
    },
    {
      "cell_type": "code",
      "metadata": {
        "id": "2rRnDGfianMR",
        "colab_type": "code",
        "outputId": "9a4b02c5-9ec2-41f6-acb4-838c00ec2c03",
        "colab": {
          "base_uri": "https://localhost:8080/"
        }
      },
      "source": [
        "regresion_logistica=LogisticRegression()\n",
        "regresion_logistica.fit(x,y)"
      ],
      "execution_count": 0,
      "outputs": [
        {
          "output_type": "execute_result",
          "data": {
            "text/plain": [
              "LogisticRegression(C=1.0, class_weight=None, dual=False, fit_intercept=True,\n",
              "                   intercept_scaling=1, l1_ratio=None, max_iter=100,\n",
              "                   multi_class='auto', n_jobs=None, penalty='l2',\n",
              "                   random_state=None, solver='lbfgs', tol=0.0001, verbose=0,\n",
              "                   warm_start=False)"
            ]
          },
          "metadata": {
            "tags": []
          },
          "execution_count": 19
        }
      ]
    },
    {
      "cell_type": "code",
      "metadata": {
        "id": "L--7V5wSapwK",
        "colab_type": "code",
        "outputId": "c9a77832-7574-4bdb-f8ba-b216498e7247",
        "colab": {
          "base_uri": "https://localhost:8080/"
        }
      },
      "source": [
        "x_nuevo = np.array([1,2,3,4,5,6]).reshape(-1,1)\n",
        "prediccion = regresion_logistica.predict(x_nuevo)\n",
        "probabilidades_prediccion = regresion_logistica.predict_proba(x_nuevo)\n",
        "print(probabilidades_prediccion)\n",
        "print(probabilidades_prediccion[:,1])\n",
        "probabilidades_prediccion = regresion_logistica.predict_proba(x_nuevo)"
      ],
      "execution_count": 0,
      "outputs": [
        {
          "output_type": "stream",
          "text": [
            "[[0.87984046 0.12015954]\n",
            " [0.69895285 0.30104715]\n",
            " [0.42402118 0.57597882]\n",
            " [0.18924992 0.81075008]\n",
            " [0.06891381 0.93108619]\n",
            " [0.02293029 0.97706971]]\n",
            "[0.12015954 0.30104715 0.57597882 0.81075008 0.93108619 0.97706971]\n"
          ],
          "name": "stdout"
        }
      ]
    },
    {
      "cell_type": "markdown",
      "metadata": {
        "id": "HEeSXsR-a9fV",
        "colab_type": "text"
      },
      "source": [
        "#Algoritmo Support Vector Machine\n",
        "---"
      ]
    },
    {
      "cell_type": "code",
      "metadata": {
        "id": "_DxwiafsbE5I",
        "colab_type": "code",
        "colab": {}
      },
      "source": [
        "#dividir en hiperplanos los datos\n",
        "X, y = make_blobs(n_samples=100, centers=2, random_state=6)"
      ],
      "execution_count": 0,
      "outputs": []
    },
    {
      "cell_type": "code",
      "metadata": {
        "id": "z6ZCsh9ybkzX",
        "colab_type": "code",
        "outputId": "187a7254-ec6c-4afc-b2ec-023524787a66",
        "colab": {
          "base_uri": "https://localhost:8080/",
          "height": 84
        }
      },
      "source": [
        "clf = svm.SVC(kernel='linear', C=1000)\n",
        "clf.fit(X, y)"
      ],
      "execution_count": 0,
      "outputs": [
        {
          "output_type": "execute_result",
          "data": {
            "text/plain": [
              "SVC(C=1000, break_ties=False, cache_size=200, class_weight=None, coef0=0.0,\n",
              "    decision_function_shape='ovr', degree=3, gamma='scale', kernel='linear',\n",
              "    max_iter=-1, probability=False, random_state=None, shrinking=True,\n",
              "    tol=0.001, verbose=False)"
            ]
          },
          "metadata": {
            "tags": []
          },
          "execution_count": 22
        }
      ]
    },
    {
      "cell_type": "code",
      "metadata": {
        "id": "cg9P6_9qbqaQ",
        "colab_type": "code",
        "outputId": "f7f5d46c-4cb7-4b3e-ee4a-b663a8df7333",
        "colab": {
          "base_uri": "https://localhost:8080/",
          "height": 265
        }
      },
      "source": [
        "plt.scatter(X[:, 0], X[:, 1], c=y, s=30, cmap=plt.cm.Paired)\n",
        "#establecer ejes\n",
        "ax = plt.gca()\n",
        "xlim = ax.get_xlim()\n",
        "ylim = ax.get_ylim()\n",
        "#limites y escalas\n",
        "xx = np.linspace(xlim[0], xlim[1], 30)\n",
        "yy = np.linspace(ylim[0], ylim[1], 30)\n",
        "YY, XX = np.meshgrid(yy, xx)\n",
        "#distribuir datos\n",
        "xy = np.vstack([XX.ravel(), YY.ravel()]).T\n",
        "#ajuste de desicion\n",
        "Z = clf.decision_function(xy).reshape(XX.shape)\n",
        "#caracteristicas\n",
        "ax.contour(XX, YY, Z, colors='g', levels=[-1, 0, 1], alpha=0.5, linestyles=['-.', '-', '-.'])\n",
        "ax.scatter(clf.support_vectors_[:,0], clf.support_vectors_[:, 1], s=100, linewidth=1, facecolors='none')\n",
        "plt.show()"
      ],
      "execution_count": 0,
      "outputs": [
        {
          "output_type": "display_data",
          "data": {
            "image/png": "[encoded data removed]",
            "text/plain": [
              "<Figure size 432x288 with 1 Axes>"
            ]
          },
          "metadata": {
            "tags": []
          }
        }
      ]
    }
  ]
}