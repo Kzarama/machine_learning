{
  "nbformat": 4,
  "nbformat_minor": 0,
  "metadata": {
    "colab": {
      "name": "temp-Clase5.ipynb",
      "provenance": [],
      "collapsed_sections": [
        "e5L9silu7aHy",
        "oUlTk2TO7lls",
        "IDiAeAm-7ohZ"
      ],
      "include_colab_link": true
    },
    "kernelspec": {
      "name": "python3",
      "display_name": "Python 3"
    },
    "widgets": {
      "application/vnd.jupyter.widget-state+json": {
        "6a7dd9d94b6444cebdb1040ac4d3a764": {
          "model_module": "@jupyter-widgets/controls",
          "model_name": "HBoxModel",
          "state": {
            "_view_name": "HBoxView",
            "_dom_classes": [],
            "_model_name": "HBoxModel",
            "_view_module": "@jupyter-widgets/controls",
            "_model_module_version": "1.5.0",
            "_view_count": null,
            "_view_module_version": "1.5.0",
            "box_style": "",
            "layout": "IPY_MODEL_278e4a50c8524ba59d230edfcf735990",
            "_model_module": "@jupyter-widgets/controls",
            "children": [
              "IPY_MODEL_870bebd304ba419bb52c9b3b876343d0",
              "IPY_MODEL_d8e79c7ea6a14a14a56627f35a56bad2"
            ]
          }
        },
        "278e4a50c8524ba59d230edfcf735990": {
          "model_module": "@jupyter-widgets/base",
          "model_name": "LayoutModel",
          "state": {
            "_view_name": "LayoutView",
            "grid_template_rows": null,
            "right": null,
            "justify_content": null,
            "_view_module": "@jupyter-widgets/base",
            "overflow": null,
            "_model_module_version": "1.2.0",
            "_view_count": null,
            "flex_flow": null,
            "width": null,
            "min_width": null,
            "border": null,
            "align_items": null,
            "bottom": null,
            "_model_module": "@jupyter-widgets/base",
            "top": null,
            "grid_column": null,
            "overflow_y": null,
            "overflow_x": null,
            "grid_auto_flow": null,
            "grid_area": null,
            "grid_template_columns": null,
            "flex": null,
            "_model_name": "LayoutModel",
            "justify_items": null,
            "grid_row": null,
            "max_height": null,
            "align_content": null,
            "visibility": null,
            "align_self": null,
            "height": null,
            "min_height": null,
            "padding": null,
            "grid_auto_rows": null,
            "grid_gap": null,
            "max_width": null,
            "order": null,
            "_view_module_version": "1.2.0",
            "grid_template_areas": null,
            "object_position": null,
            "object_fit": null,
            "grid_auto_columns": null,
            "margin": null,
            "display": null,
            "left": null
          }
        },
        "870bebd304ba419bb52c9b3b876343d0": {
          "model_module": "@jupyter-widgets/controls",
          "model_name": "IntProgressModel",
          "state": {
            "_view_name": "ProgressView",
            "style": "IPY_MODEL_d21dc513d8d9424c95d65581a1aa0446",
            "_dom_classes": [],
            "description": "",
            "_model_name": "IntProgressModel",
            "bar_style": "success",
            "max": 1,
            "_view_module": "@jupyter-widgets/controls",
            "_model_module_version": "1.5.0",
            "value": 1,
            "_view_count": null,
            "_view_module_version": "1.5.0",
            "orientation": "horizontal",
            "min": 0,
            "description_tooltip": null,
            "_model_module": "@jupyter-widgets/controls",
            "layout": "IPY_MODEL_6f926df4828b4546a8fbc3506c2cf2aa"
          }
        },
        "d8e79c7ea6a14a14a56627f35a56bad2": {
          "model_module": "@jupyter-widgets/controls",
          "model_name": "HTMLModel",
          "state": {
            "_view_name": "HTMLView",
            "style": "IPY_MODEL_2a30616cf7564b6f8a13c0d428f6913a",
            "_dom_classes": [],
            "description": "",
            "_model_name": "HTMLModel",
            "placeholder": "​",
            "_view_module": "@jupyter-widgets/controls",
            "_model_module_version": "1.5.0",
            "value": " 170500096/? [00:06&lt;00:00, 25529036.86it/s]",
            "_view_count": null,
            "_view_module_version": "1.5.0",
            "description_tooltip": null,
            "_model_module": "@jupyter-widgets/controls",
            "layout": "IPY_MODEL_30a2238efb5e43498f0e98d41ba888b3"
          }
        },
        "d21dc513d8d9424c95d65581a1aa0446": {
          "model_module": "@jupyter-widgets/controls",
          "model_name": "ProgressStyleModel",
          "state": {
            "_view_name": "StyleView",
            "_model_name": "ProgressStyleModel",
            "description_width": "initial",
            "_view_module": "@jupyter-widgets/base",
            "_model_module_version": "1.5.0",
            "_view_count": null,
            "_view_module_version": "1.2.0",
            "bar_color": null,
            "_model_module": "@jupyter-widgets/controls"
          }
        },
        "6f926df4828b4546a8fbc3506c2cf2aa": {
          "model_module": "@jupyter-widgets/base",
          "model_name": "LayoutModel",
          "state": {
            "_view_name": "LayoutView",
            "grid_template_rows": null,
            "right": null,
            "justify_content": null,
            "_view_module": "@jupyter-widgets/base",
            "overflow": null,
            "_model_module_version": "1.2.0",
            "_view_count": null,
            "flex_flow": null,
            "width": null,
            "min_width": null,
            "border": null,
            "align_items": null,
            "bottom": null,
            "_model_module": "@jupyter-widgets/base",
            "top": null,
            "grid_column": null,
            "overflow_y": null,
            "overflow_x": null,
            "grid_auto_flow": null,
            "grid_area": null,
            "grid_template_columns": null,
            "flex": null,
            "_model_name": "LayoutModel",
            "justify_items": null,
            "grid_row": null,
            "max_height": null,
            "align_content": null,
            "visibility": null,
            "align_self": null,
            "height": null,
            "min_height": null,
            "padding": null,
            "grid_auto_rows": null,
            "grid_gap": null,
            "max_width": null,
            "order": null,
            "_view_module_version": "1.2.0",
            "grid_template_areas": null,
            "object_position": null,
            "object_fit": null,
            "grid_auto_columns": null,
            "margin": null,
            "display": null,
            "left": null
          }
        },
        "2a30616cf7564b6f8a13c0d428f6913a": {
          "model_module": "@jupyter-widgets/controls",
          "model_name": "DescriptionStyleModel",
          "state": {
            "_view_name": "StyleView",
            "_model_name": "DescriptionStyleModel",
            "description_width": "",
            "_view_module": "@jupyter-widgets/base",
            "_model_module_version": "1.5.0",
            "_view_count": null,
            "_view_module_version": "1.2.0",
            "_model_module": "@jupyter-widgets/controls"
          }
        },
        "30a2238efb5e43498f0e98d41ba888b3": {
          "model_module": "@jupyter-widgets/base",
          "model_name": "LayoutModel",
          "state": {
            "_view_name": "LayoutView",
            "grid_template_rows": null,
            "right": null,
            "justify_content": null,
            "_view_module": "@jupyter-widgets/base",
            "overflow": null,
            "_model_module_version": "1.2.0",
            "_view_count": null,
            "flex_flow": null,
            "width": null,
            "min_width": null,
            "border": null,
            "align_items": null,
            "bottom": null,
            "_model_module": "@jupyter-widgets/base",
            "top": null,
            "grid_column": null,
            "overflow_y": null,
            "overflow_x": null,
            "grid_auto_flow": null,
            "grid_area": null,
            "grid_template_columns": null,
            "flex": null,
            "_model_name": "LayoutModel",
            "justify_items": null,
            "grid_row": null,
            "max_height": null,
            "align_content": null,
            "visibility": null,
            "align_self": null,
            "height": null,
            "min_height": null,
            "padding": null,
            "grid_auto_rows": null,
            "grid_gap": null,
            "max_width": null,
            "order": null,
            "_view_module_version": "1.2.0",
            "grid_template_areas": null,
            "object_position": null,
            "object_fit": null,
            "grid_auto_columns": null,
            "margin": null,
            "display": null,
            "left": null
          }
        }
      }
    }
  },
  "cells": [
    {
      "cell_type": "markdown",
      "metadata": {
        "id": "view-in-github",
        "colab_type": "text"
      },
      "source": [
        "<a href=\"https://colab.research.google.com/github/Kzarama/machine_learning/blob/master/modeloCreado/model.ipynb\" target=\"_parent\"><img src=\"https://colab.research.google.com/assets/colab-badge.svg\" alt=\"Open In Colab\"/></a>"
      ]
    },
    {
      "cell_type": "code",
      "metadata": {
        "id": "9RXasZc96azR",
        "colab_type": "code",
        "colab": {}
      },
      "source": [
        "import torch\n",
        "import torch.nn as nn\n",
        "import torch.optim as optim\n",
        "\n",
        "from torchvision import utils\n",
        "from torchvision import datasets\n",
        "from torchvision import transforms\n",
        "\n",
        "from PIL import Image\n",
        "import urllib.request as request\n",
        "from matplotlib import pyplot as plt\n",
        "#torch.set_printoptions(edgeitems=2) #default 3\n",
        "#torch.manual_seed(123)"
      ],
      "execution_count": 0,
      "outputs": []
    },
    {
      "cell_type": "markdown",
      "metadata": {
        "id": "e5L9silu7aHy",
        "colab_type": "text"
      },
      "source": [
        "# Construyendo modelo\n",
        "---\n",
        "\n"
      ]
    },
    {
      "cell_type": "code",
      "metadata": {
        "id": "ACu8_bbC6bOx",
        "colab_type": "code",
        "outputId": "7e06f8a9-42ae-48d4-d6ae-68d6af3d1466",
        "colab": {
          "base_uri": "https://localhost:8080/",
          "height": 0,
          "referenced_widgets": [
            "6a7dd9d94b6444cebdb1040ac4d3a764",
            "278e4a50c8524ba59d230edfcf735990",
            "870bebd304ba419bb52c9b3b876343d0",
            "d8e79c7ea6a14a14a56627f35a56bad2",
            "d21dc513d8d9424c95d65581a1aa0446",
            "6f926df4828b4546a8fbc3506c2cf2aa",
            "2a30616cf7564b6f8a13c0d428f6913a",
            "30a2238efb5e43498f0e98d41ba888b3"
          ]
        }
      },
      "source": [
        "data_path = 'data/'\n",
        "full_data_set = datasets.CIFAR10(data_path, train=True, download=True,\n",
        "                          transform=transforms.Compose([\n",
        "                              transforms.ToTensor(),\n",
        "                              transforms.Normalize((0.4915, 0.4823, 0.4468),\n",
        "                                                   (0.2470, 0.2435, 0.2616))\n",
        "                          ]))\n",
        "\n",
        "full_validation_set = datasets.CIFAR10(data_path, train=False, download=True,\n",
        "                          transform=transforms.Compose([\n",
        "                              transforms.ToTensor(),\n",
        "                              transforms.Normalize((0.4915, 0.4823, 0.4468),\n",
        "                                                   (0.2470, 0.2435, 0.2616))\n",
        "                          ]))"
      ],
      "execution_count": 2,
      "outputs": [
        {
          "output_type": "stream",
          "text": [
            "Downloading https://www.cs.toronto.edu/~kriz/cifar-10-python.tar.gz to data/cifar-10-python.tar.gz\n"
          ],
          "name": "stdout"
        },
        {
          "output_type": "display_data",
          "data": {
            "application/vnd.jupyter.widget-view+json": {
              "model_id": "6a7dd9d94b6444cebdb1040ac4d3a764",
              "version_minor": 0,
              "version_major": 2
            },
            "text/plain": [
              "HBox(children=(IntProgress(value=1, bar_style='info', max=1), HTML(value='')))"
            ]
          },
          "metadata": {
            "tags": []
          }
        },
        {
          "output_type": "stream",
          "text": [
            "Extracting data/cifar-10-python.tar.gz to data/\n",
            "Files already downloaded and verified\n"
          ],
          "name": "stdout"
        }
      ]
    },
    {
      "cell_type": "code",
      "metadata": {
        "id": "1K1-bRi_w0aN",
        "colab_type": "code",
        "colab": {}
      },
      "source": [
        "size = 4\n",
        "dataloader = torch.utils.data.DataLoader(full_data_set, batch_size=size, shuffle=True, num_workers=2)"
      ],
      "execution_count": 0,
      "outputs": []
    },
    {
      "cell_type": "code",
      "metadata": {
        "id": "66BQ9Aisw3TK",
        "colab_type": "code",
        "outputId": "e895d170-310e-4ec1-a90e-30e55f826e24",
        "colab": {
          "base_uri": "https://localhost:8080/",
          "height": 0
        }
      },
      "source": [
        "data_iterator = iter(dataloader)\n",
        "imgs, labels = data_iterator.next()\n",
        "\n",
        "classes = ['plane','car','bird','cat','deer','dog','frog','horse','ship','truck']\n",
        "\n",
        "plt.imshow(utils.make_grid(imgs).permute(1, 2, 0))\n",
        "\n",
        "for i in range(size):\n",
        "  print(classes[labels[i]])"
      ],
      "execution_count": 4,
      "outputs": [
        {
          "output_type": "stream",
          "text": [
            "Clipping input data to the valid range for imshow with RGB data ([0..1] for floats or [0..255] for integers).\n"
          ],
          "name": "stderr"
        },
        {
          "output_type": "stream",
          "text": [
            "dog\n",
            "cat\n",
            "cat\n",
            "bird\n",
            "\n"
          ],
          "name": "stdout"
        },
        {
          "output_type": "display_data",
          "data": {
            "image/png": "[encoded data removed]",
            "text/plain": [
              "<Figure size 432x288 with 1 Axes>"
            ]
          },
          "metadata": {
            "tags": []
          }
        }
      ]
    },
    {
      "cell_type": "code",
      "metadata": {
        "id": "DEuSK3lg72y9",
        "colab_type": "code",
        "colab": {}
      },
      "source": [
        "#classes = ['plane','car','bird','cat','deer','dog','frog','horse','ship','truck']\n",
        "class_names = ['car', 'cat']\n",
        "\n",
        "label_map = {1: 0, 3: 1}\n",
        "\n",
        "data_set = [(img, label_map[label]) for img, label in full_data_set if label in [1, 3]]\n",
        "validation_set = [(img, label_map[label]) for img, label in full_validation_set if label in [1, 3]]"
      ],
      "execution_count": 0,
      "outputs": []
    },
    {
      "cell_type": "code",
      "metadata": {
        "id": "u-D5FUhxmMVm",
        "colab_type": "code",
        "outputId": "d985bc35-bf20-4ca8-9fe3-ec5f0c3fb294",
        "colab": {
          "base_uri": "https://localhost:8080/",
          "height": 0
        }
      },
      "source": [
        "img, label = data_set[20]\n",
        "img.shape"
      ],
      "execution_count": 6,
      "outputs": [
        {
          "output_type": "execute_result",
          "data": {
            "text/plain": [
              "torch.Size([3, 32, 32])"
            ]
          },
          "metadata": {
            "tags": []
          },
          "execution_count": 6
        }
      ]
    },
    {
      "cell_type": "code",
      "metadata": {
        "id": "MmPgfaa28H26",
        "colab_type": "code",
        "colab": {}
      },
      "source": [
        "model = nn.Sequential(\n",
        "            nn.Linear(3 * 32 * 32, 512),\n",
        "            nn.Tanh(),\n",
        "            nn.Linear(512, 2))"
      ],
      "execution_count": 0,
      "outputs": []
    },
    {
      "cell_type": "code",
      "metadata": {
        "id": "K52tlaQ2nT8b",
        "colab_type": "code",
        "colab": {}
      },
      "source": [
        "def sigmoid(x):\n",
        "  return 1 / (1 + torch.exp(-x))"
      ],
      "execution_count": 0,
      "outputs": []
    },
    {
      "cell_type": "code",
      "metadata": {
        "id": "Pj37Q6TGosd9",
        "colab_type": "code",
        "outputId": "88f009ca-efdd-41f3-8e72-979003322203",
        "colab": {
          "base_uri": "https://localhost:8080/",
          "height": 0
        }
      },
      "source": [
        "x = torch.tensor([1.0, 2.0, 3.0])\n",
        "\n",
        "sigmoid(x)"
      ],
      "execution_count": 9,
      "outputs": [
        {
          "output_type": "execute_result",
          "data": {
            "text/plain": [
              "tensor([0.7311, 0.8808, 0.9526])"
            ]
          },
          "metadata": {
            "tags": []
          },
          "execution_count": 9
        }
      ]
    },
    {
      "cell_type": "code",
      "metadata": {
        "id": "FGjO0js4g1G5",
        "colab_type": "code",
        "outputId": "d690f257-1977-48f6-d8df-6654b0953db2",
        "colab": {
          "base_uri": "https://localhost:8080/",
          "height": 0
        }
      },
      "source": [
        "sigmoid(x).sum()"
      ],
      "execution_count": 10,
      "outputs": [
        {
          "output_type": "execute_result",
          "data": {
            "text/plain": [
              "tensor(2.5644)"
            ]
          },
          "metadata": {
            "tags": []
          },
          "execution_count": 10
        }
      ]
    },
    {
      "cell_type": "code",
      "metadata": {
        "id": "C99THaK18LiJ",
        "colab_type": "code",
        "colab": {}
      },
      "source": [
        "def softmax(x):\n",
        "    return torch.exp(x) / torch.exp(x).sum()"
      ],
      "execution_count": 0,
      "outputs": []
    },
    {
      "cell_type": "code",
      "metadata": {
        "id": "YlTU2MC_8L1M",
        "colab_type": "code",
        "outputId": "d57379ee-78cb-4369-cd9d-342acbed0f10",
        "colab": {
          "base_uri": "https://localhost:8080/",
          "height": 0
        }
      },
      "source": [
        "softmax(x)"
      ],
      "execution_count": 12,
      "outputs": [
        {
          "output_type": "execute_result",
          "data": {
            "text/plain": [
              "tensor([0.0900, 0.2447, 0.6652])"
            ]
          },
          "metadata": {
            "tags": []
          },
          "execution_count": 12
        }
      ]
    },
    {
      "cell_type": "code",
      "metadata": {
        "id": "UwV2i3Mb8Uee",
        "colab_type": "code",
        "outputId": "ee7433b8-6bab-4e53-f640-6ba340c29715",
        "colab": {
          "base_uri": "https://localhost:8080/",
          "height": 0
        }
      },
      "source": [
        "softmax(x).sum()"
      ],
      "execution_count": 13,
      "outputs": [
        {
          "output_type": "execute_result",
          "data": {
            "text/plain": [
              "tensor(1.)"
            ]
          },
          "metadata": {
            "tags": []
          },
          "execution_count": 13
        }
      ]
    },
    {
      "cell_type": "code",
      "metadata": {
        "id": "rM60o77E8liv",
        "colab_type": "code",
        "outputId": "60ee8e30-4417-4bdb-9dd4-4432c61b8ad3",
        "colab": {
          "base_uri": "https://localhost:8080/",
          "height": 0
        }
      },
      "source": [
        "softmax = nn.Softmax(dim=1)\n",
        "\n",
        "x = torch.tensor([[1.0, 2.0, 3.0],\n",
        "                  [1.0, 2.0, 3.0]])\n",
        "\n",
        "softmax(x)"
      ],
      "execution_count": 14,
      "outputs": [
        {
          "output_type": "execute_result",
          "data": {
            "text/plain": [
              "tensor([[0.0900, 0.2447, 0.6652],\n",
              "        [0.0900, 0.2447, 0.6652]])"
            ]
          },
          "metadata": {
            "tags": []
          },
          "execution_count": 14
        }
      ]
    },
    {
      "cell_type": "code",
      "metadata": {
        "id": "mGEXnFeA78at",
        "colab_type": "code",
        "colab": {}
      },
      "source": [
        "model = nn.Sequential(\n",
        "            nn.Linear(3072, 512),\n",
        "            nn.Tanh(),\n",
        "            nn.Linear(512, 2),\n",
        "            nn.Softmax(dim=1))"
      ],
      "execution_count": 0,
      "outputs": []
    },
    {
      "cell_type": "code",
      "metadata": {
        "id": "3UuJi29S8aRI",
        "colab_type": "code",
        "outputId": "89b10aa1-4d9f-4714-bf0d-d5db55538599",
        "colab": {
          "base_uri": "https://localhost:8080/",
          "height": 0
        }
      },
      "source": [
        "img, label = data_set[20]\n",
        "\n",
        "plt.imshow(img.permute(1, 2, 0))\n",
        "class_names[label]"
      ],
      "execution_count": 16,
      "outputs": [
        {
          "output_type": "stream",
          "text": [
            "Clipping input data to the valid range for imshow with RGB data ([0..1] for floats or [0..255] for integers).\n"
          ],
          "name": "stderr"
        },
        {
          "output_type": "execute_result",
          "data": {
            "text/plain": [
              "'car'"
            ]
          },
          "metadata": {
            "tags": []
          },
          "execution_count": 16
        },
        {
          "output_type": "display_data",
          "data": {
            "image/png": "[encoded data removed]",
            "text/plain": [
              "<Figure size 432x288 with 1 Axes>"
            ]
          },
          "metadata": {
            "tags": []
          }
        }
      ]
    },
    {
      "cell_type": "code",
      "metadata": {
        "id": "-JIQi_2J9Lq0",
        "colab_type": "code",
        "outputId": "a75a57dd-e213-4669-ea2d-3b5041714835",
        "colab": {
          "base_uri": "https://localhost:8080/",
          "height": 0
        }
      },
      "source": [
        "out = model(img.view(-1).unsqueeze(0))\n",
        "out"
      ],
      "execution_count": 17,
      "outputs": [
        {
          "output_type": "execute_result",
          "data": {
            "text/plain": [
              "tensor([[0.5115, 0.4885]], grad_fn=<SoftmaxBackward>)"
            ]
          },
          "metadata": {
            "tags": []
          },
          "execution_count": 17
        }
      ]
    },
    {
      "cell_type": "code",
      "metadata": {
        "id": "1SChUAvF9Mln",
        "colab_type": "code",
        "outputId": "93f8ddf5-9970-400a-917e-c1983e9682a1",
        "colab": {
          "base_uri": "https://localhost:8080/",
          "height": 0
        }
      },
      "source": [
        "_, index = torch.max(out, dim=1)\n",
        "\n",
        "print('->',class_names[label],' model:',class_names[index])"
      ],
      "execution_count": 18,
      "outputs": [
        {
          "output_type": "stream",
          "text": [
            "-> car  model: car\n"
          ],
          "name": "stdout"
        }
      ]
    },
    {
      "cell_type": "code",
      "metadata": {
        "id": "E3TUnt7X-Diy",
        "colab_type": "code",
        "outputId": "c54fa8ae-1060-431c-ddf0-0abe4e57bb77",
        "colab": {
          "base_uri": "https://localhost:8080/",
          "height": 0
        }
      },
      "source": [
        "softmax = nn.Softmax(dim=1)\n",
        "\n",
        "log_softmax = nn.LogSoftmax(dim=1)\n",
        "\n",
        "x = torch.tensor([[0.0, 110.0]])\n",
        "\n",
        "softmax(x)"
      ],
      "execution_count": 19,
      "outputs": [
        {
          "output_type": "execute_result",
          "data": {
            "text/plain": [
              "tensor([[0., 1.]])"
            ]
          },
          "metadata": {
            "tags": []
          },
          "execution_count": 19
        }
      ]
    },
    {
      "cell_type": "code",
      "metadata": {
        "id": "cCT2ej7C-O0t",
        "colab_type": "code",
        "outputId": "3e6322ab-710f-4312-d1d6-66b857582696",
        "colab": {
          "base_uri": "https://localhost:8080/",
          "height": 0
        }
      },
      "source": [
        "torch.log(softmax(x))"
      ],
      "execution_count": 20,
      "outputs": [
        {
          "output_type": "execute_result",
          "data": {
            "text/plain": [
              "tensor([[-inf, 0.]])"
            ]
          },
          "metadata": {
            "tags": []
          },
          "execution_count": 20
        }
      ]
    },
    {
      "cell_type": "code",
      "metadata": {
        "id": "xT_gJXB7-QmA",
        "colab_type": "code",
        "outputId": "6a27a906-799f-4836-fe86-b87c96d3ca3a",
        "colab": {
          "base_uri": "https://localhost:8080/",
          "height": 0
        }
      },
      "source": [
        "log_softmax(x)"
      ],
      "execution_count": 21,
      "outputs": [
        {
          "output_type": "execute_result",
          "data": {
            "text/plain": [
              "tensor([[-110.,    0.]])"
            ]
          },
          "metadata": {
            "tags": []
          },
          "execution_count": 21
        }
      ]
    },
    {
      "cell_type": "code",
      "metadata": {
        "id": "bVbhRXzd-UdJ",
        "colab_type": "code",
        "outputId": "845fe00a-8928-4a32-823d-a6d6d05c9387",
        "colab": {
          "base_uri": "https://localhost:8080/",
          "height": 0
        }
      },
      "source": [
        "torch.exp(log_softmax(x))"
      ],
      "execution_count": 22,
      "outputs": [
        {
          "output_type": "execute_result",
          "data": {
            "text/plain": [
              "tensor([[0., 1.]])"
            ]
          },
          "metadata": {
            "tags": []
          },
          "execution_count": 22
        }
      ]
    },
    {
      "cell_type": "markdown",
      "metadata": {
        "id": "oUlTk2TO7lls",
        "colab_type": "text"
      },
      "source": [
        "# Implementando un clasificador totalmente conectado\n",
        "---\n"
      ]
    },
    {
      "cell_type": "code",
      "metadata": {
        "id": "3zj7lX9O-Utb",
        "colab_type": "code",
        "colab": {}
      },
      "source": [
        "model = nn.Sequential(\n",
        "            nn.Linear(3072, 512),\n",
        "            nn.Tanh(),\n",
        "            nn.Linear(512, 2),\n",
        "            nn.LogSoftmax(dim=1))\n",
        "\n",
        "loss = nn.NLLLoss()"
      ],
      "execution_count": 0,
      "outputs": []
    },
    {
      "cell_type": "code",
      "metadata": {
        "id": "SSzGOg8v-cnj",
        "colab_type": "code",
        "colab": {
          "base_uri": "https://localhost:8080/",
          "height": 0
        },
        "outputId": "5043b16e-e8e3-4033-9f5f-eafbc594355d"
      },
      "source": [
        "img, label = data_set[20]\n",
        "\n",
        "out = model(img.view(-1).unsqueeze(0))\n",
        "\n",
        "_, index = torch.max(out, dim=1)\n",
        "\n",
        "print('->',class_names[label],' model:',class_names[index])\n",
        "\n",
        "loss(out, torch.tensor([label]))"
      ],
      "execution_count": 24,
      "outputs": [
        {
          "output_type": "stream",
          "text": [
            "-> car  model: car\n"
          ],
          "name": "stdout"
        },
        {
          "output_type": "execute_result",
          "data": {
            "text/plain": [
              "tensor(0.6056, grad_fn=<NllLossBackward>)"
            ]
          },
          "metadata": {
            "tags": []
          },
          "execution_count": 24
        }
      ]
    },
    {
      "cell_type": "code",
      "metadata": {
        "id": "gtv3hWxFAZI6",
        "colab_type": "code",
        "colab": {}
      },
      "source": [
        "model = nn.Sequential(\n",
        "            nn.Linear(3072, 512),\n",
        "            nn.Tanh(),\n",
        "            nn.Linear(512, 2),\n",
        "            nn.LogSoftmax(dim=1))"
      ],
      "execution_count": 0,
      "outputs": []
    },
    {
      "cell_type": "code",
      "metadata": {
        "id": "S2PMb_NcAh22",
        "colab_type": "code",
        "colab": {
          "base_uri": "https://localhost:8080/",
          "height": 0
        },
        "outputId": "5e47afb0-5bbc-4d57-c034-afbc02c7a67f"
      },
      "source": [
        "learning_rate = 0.01\n",
        "\n",
        "optimizer = optim.SGD(model.parameters(), lr=learning_rate)\n",
        "\n",
        "lossFunction = nn.NLLLoss()\n",
        "\n",
        "n_epochs = 5 #100\n",
        "\n",
        "for epoch in range(n_epochs):\n",
        "    for img, label in data_set:\n",
        "        out = model(img.view(-1).unsqueeze(0))\n",
        "        loss = lossFunction(out, torch.tensor([label]))\n",
        "                \n",
        "        optimizer.zero_grad()\n",
        "        loss.backward()\n",
        "        optimizer.step()\n",
        "\n",
        "    print(\"Epoch: %d, Loss: %f\" % (epoch, float(loss)))"
      ],
      "execution_count": 26,
      "outputs": [
        {
          "output_type": "stream",
          "text": [
            "Epoch: 0, Loss: 0.002138\n",
            "Epoch: 1, Loss: 0.256190\n",
            "Epoch: 2, Loss: 0.008423\n",
            "Epoch: 3, Loss: 0.682789\n",
            "Epoch: 4, Loss: 0.046222\n"
          ],
          "name": "stdout"
        }
      ]
    },
    {
      "cell_type": "code",
      "metadata": {
        "id": "y3zHnrHx-Sur",
        "colab_type": "code",
        "colab": {
          "base_uri": "https://localhost:8080/",
          "height": 0
        },
        "outputId": "e8704fd3-4196-4e50-a865-c05d2a9c07dc"
      },
      "source": [
        "train_loader = torch.utils.data.DataLoader(data_set, batch_size=64, shuffle=True)\n",
        "\n",
        "model = nn.Sequential(\n",
        "            nn.Linear(3072, 512),\n",
        "            nn.Tanh(),\n",
        "            nn.Linear(512, 2),\n",
        "            nn.LogSoftmax(dim=1))\n",
        "\n",
        "\n",
        "optimizer = optim.SGD(model.parameters(), lr=0.02)\n",
        "\n",
        "loss_function = nn.NLLLoss()\n",
        "\n",
        "n_epochs = 100\n",
        "\n",
        "for epoch in range(n_epochs):\n",
        "    for imgs, labels in train_loader:\n",
        "        outputs = model(imgs.view(imgs.shape[0], -1))\n",
        "        loss = loss_function(outputs, labels)\n",
        "\n",
        "        optimizer.zero_grad()\n",
        "        loss.backward()\n",
        "        optimizer.step()\n",
        "\n",
        "    print(\"Epoch: %d, Loss: %f\" % (epoch, float(loss)))"
      ],
      "execution_count": 27,
      "outputs": [
        {
          "output_type": "stream",
          "text": [
            "Epoch: 0, Loss: 0.576956\n",
            "Epoch: 1, Loss: 0.612004\n",
            "Epoch: 2, Loss: 0.261986\n",
            "Epoch: 3, Loss: 0.367171\n",
            "Epoch: 4, Loss: 0.206471\n",
            "Epoch: 5, Loss: 0.407691\n",
            "Epoch: 6, Loss: 0.255130\n",
            "Epoch: 7, Loss: 0.136577\n",
            "Epoch: 8, Loss: 0.266645\n",
            "Epoch: 9, Loss: 0.361360\n",
            "Epoch: 10, Loss: 0.150611\n",
            "Epoch: 11, Loss: 0.245121\n",
            "Epoch: 12, Loss: 0.145958\n",
            "Epoch: 13, Loss: 0.291419\n",
            "Epoch: 14, Loss: 0.448863\n",
            "Epoch: 15, Loss: 0.063963\n",
            "Epoch: 16, Loss: 0.098690\n",
            "Epoch: 17, Loss: 0.075172\n",
            "Epoch: 18, Loss: 0.315863\n",
            "Epoch: 19, Loss: 0.301868\n",
            "Epoch: 20, Loss: 0.391469\n",
            "Epoch: 21, Loss: 0.068019\n",
            "Epoch: 22, Loss: 0.046235\n",
            "Epoch: 23, Loss: 0.103248\n",
            "Epoch: 24, Loss: 0.033197\n",
            "Epoch: 25, Loss: 0.014572\n",
            "Epoch: 26, Loss: 0.060069\n",
            "Epoch: 27, Loss: 0.020750\n",
            "Epoch: 28, Loss: 0.050289\n",
            "Epoch: 29, Loss: 0.029528\n",
            "Epoch: 30, Loss: 0.023137\n",
            "Epoch: 31, Loss: 0.007781\n",
            "Epoch: 32, Loss: 0.028957\n",
            "Epoch: 33, Loss: 0.019604\n",
            "Epoch: 34, Loss: 0.013505\n",
            "Epoch: 35, Loss: 0.016960\n",
            "Epoch: 36, Loss: 0.009897\n",
            "Epoch: 37, Loss: 0.009650\n",
            "Epoch: 38, Loss: 0.026637\n",
            "Epoch: 39, Loss: 0.014041\n",
            "Epoch: 40, Loss: 0.002694\n",
            "Epoch: 41, Loss: 0.011554\n",
            "Epoch: 42, Loss: 0.011568\n",
            "Epoch: 43, Loss: 0.008757\n",
            "Epoch: 44, Loss: 0.007179\n",
            "Epoch: 45, Loss: 0.006825\n",
            "Epoch: 46, Loss: 0.008466\n",
            "Epoch: 47, Loss: 0.004435\n",
            "Epoch: 48, Loss: 0.007532\n",
            "Epoch: 49, Loss: 0.006701\n",
            "Epoch: 50, Loss: 0.012920\n",
            "Epoch: 51, Loss: 0.006665\n",
            "Epoch: 52, Loss: 0.010266\n",
            "Epoch: 53, Loss: 0.009923\n",
            "Epoch: 54, Loss: 0.004887\n",
            "Epoch: 55, Loss: 0.011097\n",
            "Epoch: 56, Loss: 0.002864\n",
            "Epoch: 57, Loss: 0.008655\n",
            "Epoch: 58, Loss: 0.002978\n",
            "Epoch: 59, Loss: 0.006440\n",
            "Epoch: 60, Loss: 0.005183\n",
            "Epoch: 61, Loss: 0.006546\n",
            "Epoch: 62, Loss: 0.004436\n",
            "Epoch: 63, Loss: 0.006134\n",
            "Epoch: 64, Loss: 0.005549\n",
            "Epoch: 65, Loss: 0.002133\n",
            "Epoch: 66, Loss: 0.001575\n",
            "Epoch: 67, Loss: 0.006834\n",
            "Epoch: 68, Loss: 0.004398\n",
            "Epoch: 69, Loss: 0.002675\n",
            "Epoch: 70, Loss: 0.004340\n",
            "Epoch: 71, Loss: 0.007049\n",
            "Epoch: 72, Loss: 0.002069\n",
            "Epoch: 73, Loss: 0.006328\n",
            "Epoch: 74, Loss: 0.003628\n",
            "Epoch: 75, Loss: 0.003199\n",
            "Epoch: 76, Loss: 0.004591\n",
            "Epoch: 77, Loss: 0.005144\n",
            "Epoch: 78, Loss: 0.003125\n",
            "Epoch: 79, Loss: 0.006924\n",
            "Epoch: 80, Loss: 0.003928\n",
            "Epoch: 81, Loss: 0.003416\n",
            "Epoch: 82, Loss: 0.001119\n",
            "Epoch: 83, Loss: 0.001824\n",
            "Epoch: 84, Loss: 0.001399\n",
            "Epoch: 85, Loss: 0.004903\n",
            "Epoch: 86, Loss: 0.001897\n",
            "Epoch: 87, Loss: 0.002045\n",
            "Epoch: 88, Loss: 0.002272\n",
            "Epoch: 89, Loss: 0.004004\n",
            "Epoch: 90, Loss: 0.004829\n",
            "Epoch: 91, Loss: 0.003130\n",
            "Epoch: 92, Loss: 0.004830\n",
            "Epoch: 93, Loss: 0.004862\n",
            "Epoch: 94, Loss: 0.004510\n",
            "Epoch: 95, Loss: 0.002601\n",
            "Epoch: 96, Loss: 0.001458\n",
            "Epoch: 97, Loss: 0.003938\n",
            "Epoch: 98, Loss: 0.001633\n",
            "Epoch: 99, Loss: 0.001283\n"
          ],
          "name": "stdout"
        }
      ]
    },
    {
      "cell_type": "code",
      "metadata": {
        "id": "6qg_szFgiMfx",
        "colab_type": "code",
        "outputId": "f18d694d-d668-4b53-cbcf-e375cb2bc84c",
        "colab": {
          "base_uri": "https://localhost:8080/",
          "height": 0
        }
      },
      "source": [
        "val_loader = torch.utils.data.DataLoader(validation_set, batch_size=64, shuffle=False)\n",
        "\n",
        "correct = 0\n",
        "total = 0\n",
        "\n",
        "with torch.no_grad():\n",
        "    for imgs, labels in val_loader:\n",
        "        outputs = model(imgs.view(imgs.shape[0], -1))\n",
        "        _, predicted = torch.max(outputs, dim=1)\n",
        "        total += labels.shape[0]\n",
        "\n",
        "        correct += int((predicted == labels).sum())\n",
        "      \n",
        "print(\"Accuracy: %f\" % (correct / total))"
      ],
      "execution_count": 28,
      "outputs": [
        {
          "output_type": "stream",
          "text": [
            "Accuracy: 0.865500\n"
          ],
          "name": "stdout"
        }
      ]
    },
    {
      "cell_type": "code",
      "metadata": {
        "colab_type": "code",
        "id": "4TSI72ISj150",
        "colab": {
          "base_uri": "https://localhost:8080/",
          "height": 0
        },
        "outputId": "fc709c49-024f-4e4c-fd5b-d299cb7c6f77"
      },
      "source": [
        "img, label = validation_set[20]\n",
        "out = model(img.view(-1).unsqueeze(0))\n",
        "_, index = torch.max(out, dim=1)\n",
        "\n",
        "print('->: ',class_names[label],' model:',class_names[index])\n",
        "plt.imshow(img.permute(1, 2, 0))\n",
        "plt.show()"
      ],
      "execution_count": 29,
      "outputs": [
        {
          "output_type": "stream",
          "text": [
            "Clipping input data to the valid range for imshow with RGB data ([0..1] for floats or [0..255] for integers).\n"
          ],
          "name": "stderr"
        },
        {
          "output_type": "stream",
          "text": [
            "->:  car  model: car\n"
          ],
          "name": "stdout"
        },
        {
          "output_type": "display_data",
          "data": {
            "image/png": "[encoded data removed]",
            "text/plain": [
              "<Figure size 432x288 with 1 Axes>"
            ]
          },
          "metadata": {
            "tags": []
          }
        }
      ]
    },
    {
      "cell_type": "markdown",
      "metadata": {
        "id": "IDiAeAm-7ohZ",
        "colab_type": "text"
      },
      "source": [
        "# Mejoras, limitaciones y conclusiones\n",
        "---\n"
      ]
    },
    {
      "cell_type": "code",
      "metadata": {
        "id": "oAKXMbBwiMf_",
        "colab_type": "code",
        "colab": {
          "base_uri": "https://localhost:8080/",
          "height": 1000
        },
        "outputId": "32e7f53c-c5e9-4c5c-f248-3ba33f20260d"
      },
      "source": [
        "train_loader = torch.utils.data.DataLoader(data_set, batch_size=64, shuffle=True)\n",
        "\n",
        "model = nn.Sequential(\n",
        "            nn.Linear(3072, 1024),\n",
        "            nn.Tanh(),\n",
        "            nn.Linear(1024, 512),\n",
        "            nn.Tanh(),\n",
        "            nn.Linear(512, 128),\n",
        "            nn.Tanh(),\n",
        "            nn.Linear(128, 2))\n",
        "\n",
        "learning_rate = 0.01\n",
        "\n",
        "optimizer = optim.SGD(model.parameters(), lr=learning_rate)\n",
        "\n",
        "loss_fn = nn.CrossEntropyLoss()\n",
        "\n",
        "n_epochs = 100\n",
        "\n",
        "for epoch in range(n_epochs):\n",
        "    for imgs, labels in train_loader:\n",
        "        outputs = model(imgs.view(imgs.shape[0], -1))\n",
        "        loss = loss_fn(outputs, labels)\n",
        "\n",
        "        optimizer.zero_grad()\n",
        "        loss.backward()\n",
        "        optimizer.step()\n",
        "\n",
        "    print(\"Epoch: %d, Loss: %f\" % (epoch, float(loss)))"
      ],
      "execution_count": 30,
      "outputs": [
        {
          "output_type": "stream",
          "text": [
            "Epoch: 0, Loss: 0.595271\n",
            "Epoch: 1, Loss: 0.474214\n",
            "Epoch: 2, Loss: 0.525903\n",
            "Epoch: 3, Loss: 0.357956\n",
            "Epoch: 4, Loss: 0.677603\n",
            "Epoch: 5, Loss: 0.548679\n",
            "Epoch: 6, Loss: 0.391763\n",
            "Epoch: 7, Loss: 0.284643\n",
            "Epoch: 8, Loss: 0.202123\n",
            "Epoch: 9, Loss: 0.770677\n",
            "Epoch: 10, Loss: 0.194848\n",
            "Epoch: 11, Loss: 0.429625\n",
            "Epoch: 12, Loss: 0.118693\n",
            "Epoch: 13, Loss: 0.125025\n",
            "Epoch: 14, Loss: 0.348557\n",
            "Epoch: 15, Loss: 0.183710\n",
            "Epoch: 16, Loss: 0.365823\n",
            "Epoch: 17, Loss: 0.215267\n",
            "Epoch: 18, Loss: 0.033766\n",
            "Epoch: 19, Loss: 0.046956\n",
            "Epoch: 20, Loss: 0.199748\n",
            "Epoch: 21, Loss: 0.124112\n",
            "Epoch: 22, Loss: 0.243005\n",
            "Epoch: 23, Loss: 0.068524\n",
            "Epoch: 24, Loss: 0.091703\n",
            "Epoch: 25, Loss: 0.058474\n",
            "Epoch: 26, Loss: 0.160388\n",
            "Epoch: 27, Loss: 0.071102\n",
            "Epoch: 28, Loss: 0.062766\n",
            "Epoch: 29, Loss: 0.081495\n",
            "Epoch: 30, Loss: 0.009248\n",
            "Epoch: 31, Loss: 0.084793\n",
            "Epoch: 32, Loss: 0.013639\n",
            "Epoch: 33, Loss: 0.062979\n",
            "Epoch: 34, Loss: 0.011706\n",
            "Epoch: 35, Loss: 0.024482\n",
            "Epoch: 36, Loss: 0.012918\n",
            "Epoch: 37, Loss: 0.002108\n",
            "Epoch: 38, Loss: 1.142767\n",
            "Epoch: 39, Loss: 0.012726\n",
            "Epoch: 40, Loss: 0.039998\n",
            "Epoch: 41, Loss: 0.035697\n",
            "Epoch: 42, Loss: 0.002842\n",
            "Epoch: 43, Loss: 0.002312\n",
            "Epoch: 44, Loss: 0.003196\n",
            "Epoch: 45, Loss: 0.000586\n",
            "Epoch: 46, Loss: 0.005664\n",
            "Epoch: 47, Loss: 0.001391\n",
            "Epoch: 48, Loss: 0.003236\n",
            "Epoch: 49, Loss: 0.002085\n",
            "Epoch: 50, Loss: 0.001616\n",
            "Epoch: 51, Loss: 0.001311\n",
            "Epoch: 52, Loss: 0.002669\n",
            "Epoch: 53, Loss: 0.001686\n",
            "Epoch: 54, Loss: 0.000754\n",
            "Epoch: 55, Loss: 0.000976\n",
            "Epoch: 56, Loss: 0.001565\n",
            "Epoch: 57, Loss: 0.000232\n",
            "Epoch: 58, Loss: 0.000738\n",
            "Epoch: 59, Loss: 0.002544\n",
            "Epoch: 60, Loss: 0.001914\n",
            "Epoch: 61, Loss: 0.000919\n",
            "Epoch: 62, Loss: 0.000895\n",
            "Epoch: 63, Loss: 0.001860\n",
            "Epoch: 64, Loss: 0.000418\n",
            "Epoch: 65, Loss: 0.000810\n",
            "Epoch: 66, Loss: 0.000728\n",
            "Epoch: 67, Loss: 0.000802\n",
            "Epoch: 68, Loss: 0.000880\n",
            "Epoch: 69, Loss: 0.000370\n",
            "Epoch: 70, Loss: 0.000610\n",
            "Epoch: 71, Loss: 0.000750\n",
            "Epoch: 72, Loss: 0.000523\n",
            "Epoch: 73, Loss: 0.000996\n",
            "Epoch: 74, Loss: 0.000122\n",
            "Epoch: 75, Loss: 0.000493\n",
            "Epoch: 76, Loss: 0.000923\n",
            "Epoch: 77, Loss: 0.000636\n",
            "Epoch: 78, Loss: 0.000994\n",
            "Epoch: 79, Loss: 0.001067\n",
            "Epoch: 80, Loss: 0.000358\n",
            "Epoch: 81, Loss: 0.000383\n",
            "Epoch: 82, Loss: 0.000809\n",
            "Epoch: 83, Loss: 0.000226\n",
            "Epoch: 84, Loss: 0.000566\n",
            "Epoch: 85, Loss: 0.000749\n",
            "Epoch: 86, Loss: 0.000291\n",
            "Epoch: 87, Loss: 0.000423\n",
            "Epoch: 88, Loss: 0.000168\n",
            "Epoch: 89, Loss: 0.000449\n",
            "Epoch: 90, Loss: 0.000151\n",
            "Epoch: 91, Loss: 0.000221\n",
            "Epoch: 92, Loss: 0.000778\n",
            "Epoch: 93, Loss: 0.000359\n",
            "Epoch: 94, Loss: 0.000424\n",
            "Epoch: 95, Loss: 0.000206\n",
            "Epoch: 96, Loss: 0.000403\n",
            "Epoch: 97, Loss: 0.000337\n",
            "Epoch: 98, Loss: 0.000313\n",
            "Epoch: 99, Loss: 0.000294\n"
          ],
          "name": "stdout"
        }
      ]
    },
    {
      "cell_type": "code",
      "metadata": {
        "colab_type": "code",
        "id": "I9srYlFi1z0_",
        "outputId": "e15b0b24-692c-4ffc-aec8-c6b4bc00682c",
        "colab": {
          "base_uri": "https://localhost:8080/",
          "height": 34
        }
      },
      "source": [
        "val_loader = torch.utils.data.DataLoader(validation_set, batch_size=64, shuffle=False)\n",
        "\n",
        "correct = 0\n",
        "total = 0\n",
        "\n",
        "with torch.no_grad():\n",
        "    for imgs, labels in val_loader:\n",
        "        outputs = model(imgs.view(imgs.shape[0], -1))\n",
        "        _, predicted = torch.max(outputs, dim=1)\n",
        "        total += labels.shape[0]\n",
        "        correct += int((predicted == labels).sum())\n",
        "        \n",
        "print(\"Accuracy: %f\" % (correct / total))"
      ],
      "execution_count": 31,
      "outputs": [
        {
          "output_type": "stream",
          "text": [
            "Accuracy: 0.862000\n"
          ],
          "name": "stdout"
        }
      ]
    },
    {
      "cell_type": "code",
      "metadata": {
        "colab_type": "code",
        "id": "oBhA5nFT1z0z",
        "outputId": "55c934d8-8fb8-4a43-ecf8-16b9e5969110",
        "colab": {
          "base_uri": "https://localhost:8080/",
          "height": 34
        }
      },
      "source": [
        "train_loader = torch.utils.data.DataLoader(data_set, batch_size=64, shuffle=False)\n",
        "\n",
        "correct = 0\n",
        "total = 0\n",
        "\n",
        "with torch.no_grad():\n",
        "    for imgs, labels in train_loader:\n",
        "        outputs = model(imgs.view(imgs.shape[0], -1))\n",
        "        _, predicted = torch.max(outputs, dim=1)\n",
        "        total += labels.shape[0]\n",
        "        correct += int((predicted == labels).sum())\n",
        "        \n",
        "print(\"Accuracy: %f\" % (correct / total))"
      ],
      "execution_count": 32,
      "outputs": [
        {
          "output_type": "stream",
          "text": [
            "Accuracy: 1.000000\n"
          ],
          "name": "stdout"
        }
      ]
    },
    {
      "cell_type": "code",
      "metadata": {
        "colab_type": "code",
        "id": "Muq7nPSTkgll",
        "outputId": "aa8d0e2d-741b-4a75-d26d-5567eb54e300",
        "colab": {
          "base_uri": "https://localhost:8080/",
          "height": 317
        }
      },
      "source": [
        "img, label = validation_set[1]\n",
        "out = model(img.view(-1).unsqueeze(0))\n",
        "_, index = torch.max(out, dim=1)\n",
        "\n",
        "print('correct: ',class_names[label],' model:',class_names[index])\n",
        "plt.imshow(img.permute(1, 2, 0))"
      ],
      "execution_count": 33,
      "outputs": [
        {
          "output_type": "stream",
          "text": [
            "Clipping input data to the valid range for imshow with RGB data ([0..1] for floats or [0..255] for integers).\n"
          ],
          "name": "stderr"
        },
        {
          "output_type": "stream",
          "text": [
            "correct:  car  model: cat\n"
          ],
          "name": "stdout"
        },
        {
          "output_type": "execute_result",
          "data": {
            "text/plain": [
              "<matplotlib.image.AxesImage at 0x7fa9c1ab56a0>"
            ]
          },
          "metadata": {
            "tags": []
          },
          "execution_count": 33
        },
        {
          "output_type": "display_data",
          "data": {
            "image/png": "[encoded data removed]",
            "text/plain": [
              "<Figure size 432x288 with 1 Axes>"
            ]
          },
          "metadata": {
            "tags": []
          }
        }
      ]
    },
    {
      "cell_type": "code",
      "metadata": {
        "colab_type": "code",
        "id": "JRAM8DUM1z1D",
        "outputId": "bdafa7a9-0db7-4b65-d2da-24785e372315",
        "colab": {
          "base_uri": "https://localhost:8080/",
          "height": 34
        }
      },
      "source": [
        "sum([p.numel() for p in model.parameters() if p.requires_grad == True])"
      ],
      "execution_count": 34,
      "outputs": [
        {
          "output_type": "execute_result",
          "data": {
            "text/plain": [
              "3737474"
            ]
          },
          "metadata": {
            "tags": []
          },
          "execution_count": 34
        }
      ]
    },
    {
      "cell_type": "code",
      "metadata": {
        "colab_type": "code",
        "id": "ZSumBU8P1z1L",
        "outputId": "0d6698a9-5ccb-4c74-a638-90bb786e82fe",
        "colab": {
          "base_uri": "https://localhost:8080/",
          "height": 34
        }
      },
      "source": [
        "first_model = nn.Sequential(\n",
        "                nn.Linear(3072, 512),\n",
        "                nn.Tanh(),\n",
        "                nn.Linear(512, 2),\n",
        "                nn.LogSoftmax(dim=1))\n",
        "\n",
        "sum([p.numel() for p in first_model.parameters()])"
      ],
      "execution_count": 35,
      "outputs": [
        {
          "output_type": "execute_result",
          "data": {
            "text/plain": [
              "1574402"
            ]
          },
          "metadata": {
            "tags": []
          },
          "execution_count": 35
        }
      ]
    },
    {
      "cell_type": "code",
      "metadata": {
        "colab_type": "code",
        "id": "fh-i5zrX1z1P",
        "outputId": "1772665f-7bbd-4a52-abf4-813fb316606a",
        "colab": {
          "base_uri": "https://localhost:8080/",
          "height": 34
        }
      },
      "source": [
        "sum([p.numel() for p in nn.Linear(3072, 512).parameters()])"
      ],
      "execution_count": 36,
      "outputs": [
        {
          "output_type": "execute_result",
          "data": {
            "text/plain": [
              "1573376"
            ]
          },
          "metadata": {
            "tags": []
          },
          "execution_count": 36
        }
      ]
    },
    {
      "cell_type": "code",
      "metadata": {
        "colab_type": "code",
        "id": "-syvxiOP1z1U",
        "outputId": "a3d7a2c7-fed0-4761-a891-a306da80d7cf",
        "colab": {
          "base_uri": "https://localhost:8080/",
          "height": 34
        }
      },
      "source": [
        "sum([p.numel() for p in nn.Linear(3072, 1024).parameters()])"
      ],
      "execution_count": 37,
      "outputs": [
        {
          "output_type": "execute_result",
          "data": {
            "text/plain": [
              "3146752"
            ]
          },
          "metadata": {
            "tags": []
          },
          "execution_count": 37
        }
      ]
    },
    {
      "cell_type": "code",
      "metadata": {
        "id": "pHiRLOC1l7P2",
        "colab_type": "code",
        "colab": {
          "base_uri": "https://localhost:8080/",
          "height": 317
        },
        "outputId": "4d9b6cde-a945-43d5-bd31-7de92dd792f1"
      },
      "source": [
        "image = request.urlretrieve('https://i.pinimg.com/originals/43/bc/47/43bc47066bb8b2fa4fe7cc8e82cc3714.jpg','test,jpg')\n",
        "                            \n",
        "img = Image.open(image[0])\n",
        "\n",
        "preprocess = transforms.Compose([\n",
        "        transforms.Resize(48),\n",
        "        transforms.CenterCrop(32),\n",
        "        transforms.ToTensor(),\n",
        "        transforms.Normalize(\n",
        "            mean=[0.4915, 0.4823, 0.4468],\n",
        "            std=[0.2470, 0.2435, 0.2616]\n",
        "        )])\n",
        "\n",
        "img_t = preprocess(img)\n",
        "out = model(img_t.view(-1).unsqueeze(0))\n",
        "_, index = torch.max(out, dim=1)\n",
        "print('correct: car ',' model:',class_names[index])\n",
        "plt.imshow(img_t.permute(1, 2, 0))"
      ],
      "execution_count": 38,
      "outputs": [
        {
          "output_type": "stream",
          "text": [
            "Clipping input data to the valid range for imshow with RGB data ([0..1] for floats or [0..255] for integers).\n"
          ],
          "name": "stderr"
        },
        {
          "output_type": "stream",
          "text": [
            "correct: car   model: cat\n"
          ],
          "name": "stdout"
        },
        {
          "output_type": "execute_result",
          "data": {
            "text/plain": [
              "<matplotlib.image.AxesImage at 0x7fa9c1996668>"
            ]
          },
          "metadata": {
            "tags": []
          },
          "execution_count": 38
        },
        {
          "output_type": "display_data",
          "data": {
            "image/png": "[encoded data removed]",
            "text/plain": [
              "<Figure size 432x288 with 1 Axes>"
            ]
          },
          "metadata": {
            "tags": []
          }
        }
      ]
    },
    {
      "cell_type": "code",
      "metadata": {
        "id": "XqFsv3cfEhEI",
        "colab_type": "code",
        "colab": {}
      },
      "source": [
        ""
      ],
      "execution_count": 0,
      "outputs": []
    }
  ]
}