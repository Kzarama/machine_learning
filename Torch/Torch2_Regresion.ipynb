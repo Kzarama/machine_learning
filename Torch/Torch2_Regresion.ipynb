{
  "nbformat": 4,
  "nbformat_minor": 0,
  "metadata": {
    "colab": {
      "name": "Clase2_Regresion.ipynb",
      "provenance": []
    },
    "kernelspec": {
      "name": "python3",
      "display_name": "Python 3"
    }
  },
  "cells": [
    {
      "cell_type": "code",
      "metadata": {
        "id": "iPCDanuxRxfq",
        "colab_type": "code",
        "colab": {}
      },
      "source": [
        "import torch\n",
        "import numpy as np\n",
        "#redes neuronales\n",
        "import torch.nn as nn\n",
        "#optimizaciones para calcular gradientes y hacer backward\n",
        "import torch.optim as optim\n",
        "#graficar\n",
        "import matplotlib.pyplot as plt"
      ],
      "execution_count": 0,
      "outputs": []
    },
    {
      "cell_type": "markdown",
      "metadata": {
        "id": "_rDDw06GShsg",
        "colab_type": "text"
      },
      "source": [
        "\n",
        "#Regresion lineal\n",
        "---"
      ]
    },
    {
      "cell_type": "markdown",
      "metadata": {
        "id": "tM1I3qZcTOYd",
        "colab_type": "text"
      },
      "source": [
        "graficar"
      ]
    },
    {
      "cell_type": "code",
      "metadata": {
        "id": "Qt51OQ64SgqG",
        "colab_type": "code",
        "outputId": "e825868b-9e5c-4793-bca4-be0ce89793f2",
        "colab": {
          "base_uri": "https://localhost:8080/",
          "height": 282
        }
      },
      "source": [
        "car_prices = [5, 6, 7, 8, 9, 10]\n",
        "units_sold = [8.5, 8.0, 7.5, 7.0, 6.5, 6.0]\n",
        "\n",
        "plt.scatter(car_prices, units_sold)"
      ],
      "execution_count": 0,
      "outputs": [
        {
          "output_type": "execute_result",
          "data": {
            "text/plain": [
              "<matplotlib.collections.PathCollection at 0x7fc80cb6d630>"
            ]
          },
          "metadata": {
            "tags": []
          },
          "execution_count": 30
        },
        {
          "output_type": "display_data",
          "data": {
            "image/png": "[encoded data removed]",
            "text/plain": [
              "<Figure size 432x288 with 1 Axes>"
            ]
          },
          "metadata": {
            "tags": []
          }
        }
      ]
    },
    {
      "cell_type": "markdown",
      "metadata": {
        "id": "aC2tm-naTseu",
        "colab_type": "text"
      },
      "source": [
        "pasar de arreglos a numpy"
      ]
    },
    {
      "cell_type": "code",
      "metadata": {
        "id": "RN3RBROyTLET",
        "colab_type": "code",
        "colab": {}
      },
      "source": [
        "prices_array = np.array(car_prices).reshape(-1, 1)\n",
        "units_array = np.array(units_sold).reshape(-1, 1)"
      ],
      "execution_count": 0,
      "outputs": []
    },
    {
      "cell_type": "markdown",
      "metadata": {
        "id": "dQFT_Z93Wh5C",
        "colab_type": "text"
      },
      "source": [
        "numpy a tensor"
      ]
    },
    {
      "cell_type": "code",
      "metadata": {
        "id": "Oqub503KWVle",
        "colab_type": "code",
        "colab": {}
      },
      "source": [
        "prices = torch.from_numpy(prices_array).float().requires_grad_(True) #gradientes que sirven para la construccion del modelo\n",
        "units = torch.from_numpy(units_array).float()\n",
        "\n",
        "#prices, prices.shape, units, units.shape"
      ],
      "execution_count": 0,
      "outputs": []
    },
    {
      "cell_type": "markdown",
      "metadata": {
        "id": "bQmg4gq8ZUoE",
        "colab_type": "text"
      },
      "source": [
        "crear modelo"
      ]
    },
    {
      "cell_type": "code",
      "metadata": {
        "id": "GUuswAPpXwB-",
        "colab_type": "code",
        "outputId": "ef6444c9-4e12-4606-cd1f-15af1e875567",
        "colab": {
          "base_uri": "https://localhost:8080/",
          "height": 298
        }
      },
      "source": [
        "model = nn.Linear(1, 1) #entrenamiento de modelo de prediccion, tamaño de entrada y salida\n",
        "loss_function = nn.MSELoss() #funcion de perdida, media del cuadrado de los errores\n",
        "optimizer = optim.SGD(model.parameters(), lr=0.015) #calcular el gradiente, lr pasos para minimizar el gradiente\n",
        "losses = []\n",
        "iterations = 2000\n",
        "#trainning loop\n",
        "for i in range(iterations):\n",
        "  #forware\n",
        "  pred = model(prices) #prediccion\n",
        "  loss = loss_function(pred, units) #perdida, prediccion y valor real\n",
        "  losses.append(loss.data) #colocar perdida en el arreglo para graficarlo\n",
        "  #backware\n",
        "  optimizer.zero_grad() #reiniciar gradientes\n",
        "  loss.backward()\n",
        "  optimizer.step() #moverse\n",
        "\n",
        "print(float(loss))\n",
        "plt.plot(range(iterations), losses) #graficar iteraciones y losses"
      ],
      "execution_count": 0,
      "outputs": [
        {
          "output_type": "stream",
          "text": [
            "0.015371471643447876\n"
          ],
          "name": "stdout"
        },
        {
          "output_type": "execute_result",
          "data": {
            "text/plain": [
              "[<matplotlib.lines.Line2D at 0x7fc80cae6278>]"
            ]
          },
          "metadata": {
            "tags": []
          },
          "execution_count": 33
        },
        {
          "output_type": "display_data",
          "data": {
            "image/png": "[encoded data removed]",
            "text/plain": [
              "<Figure size 432x288 with 1 Axes>"
            ]
          },
          "metadata": {
            "tags": []
          }
        }
      ]
    },
    {
      "cell_type": "code",
      "metadata": {
        "id": "vTajNPnnqiRl",
        "colab_type": "code",
        "outputId": "c4d99c36-c6f2-4ba6-ad5b-22e867c1d329",
        "colab": {
          "base_uri": "https://localhost:8080/",
          "height": 34
        }
      },
      "source": [
        "x = torch.Tensor([[4.0]])\n",
        "p = model(x)\n",
        "p"
      ],
      "execution_count": 0,
      "outputs": [
        {
          "output_type": "execute_result",
          "data": {
            "text/plain": [
              "tensor([[8.7254]], grad_fn=<AddmmBackward>)"
            ]
          },
          "metadata": {
            "tags": []
          },
          "execution_count": 34
        }
      ]
    },
    {
      "cell_type": "markdown",
      "metadata": {
        "id": "O2YxIWhiu2eB",
        "colab_type": "text"
      },
      "source": [
        "#Regresion logistica\n",
        "---\n",
        "\n"
      ]
    },
    {
      "cell_type": "markdown",
      "metadata": {
        "id": "bHBItdW9xduH",
        "colab_type": "text"
      },
      "source": [
        "hacer conjunto de numeros aleatorios"
      ]
    },
    {
      "cell_type": "code",
      "metadata": {
        "id": "Zppoqa0kvEwo",
        "colab_type": "code",
        "colab": {}
      },
      "source": [
        "n = 100\n",
        "h = n//2\n",
        "dimen = 2\n",
        "\n",
        "data = np.random.randn(n, dimen)*3"
      ],
      "execution_count": 0,
      "outputs": []
    },
    {
      "cell_type": "markdown",
      "metadata": {
        "id": "ewXofH71xhKb",
        "colab_type": "text"
      },
      "source": [
        "graficar los puntos aleatorios"
      ]
    },
    {
      "cell_type": "code",
      "metadata": {
        "id": "N80AQ2wDvtd6",
        "colab_type": "code",
        "outputId": "0e4e576f-2816-4775-b3d8-5526d850c370",
        "colab": {
          "base_uri": "https://localhost:8080/",
          "height": 282
        }
      },
      "source": [
        "plt.scatter(data[:,0], data[:,1])"
      ],
      "execution_count": 0,
      "outputs": [
        {
          "output_type": "execute_result",
          "data": {
            "text/plain": [
              "<matplotlib.collections.PathCollection at 0x7fc80cac67b8>"
            ]
          },
          "metadata": {
            "tags": []
          },
          "execution_count": 36
        },
        {
          "output_type": "display_data",
          "data": {
            "image/png": "[encoded data removed]",
            "text/plain": [
              "<Figure size 432x288 with 1 Axes>"
            ]
          },
          "metadata": {
            "tags": []
          }
        }
      ]
    },
    {
      "cell_type": "code",
      "metadata": {
        "id": "-RPCBb29xV_e",
        "colab_type": "code",
        "colab": {}
      },
      "source": [
        "data[:h, :] = data[:h, :] - 3*np.ones((h, dimen))\n",
        "data[h:, :] = data[h:, :] + 3*np.ones((h, dimen))"
      ],
      "execution_count": 0,
      "outputs": []
    },
    {
      "cell_type": "code",
      "metadata": {
        "id": "yubSxBgVypDe",
        "colab_type": "code",
        "outputId": "fd51acc6-a48f-4bdd-b4ba-07b0310565d1",
        "colab": {
          "base_uri": "https://localhost:8080/",
          "height": 282
        }
      },
      "source": [
        "colors = ['blue', 'red']\n",
        "\n",
        "color = np.array([colors[0]] * h + [colors[1]] * h).reshape(n)\n",
        "plt.scatter(data[:,0], data[:,1], c=color, s=75, alpha=0.6)"
      ],
      "execution_count": 0,
      "outputs": [
        {
          "output_type": "execute_result",
          "data": {
            "text/plain": [
              "<matplotlib.collections.PathCollection at 0x7fc80ca32a58>"
            ]
          },
          "metadata": {
            "tags": []
          },
          "execution_count": 38
        },
        {
          "output_type": "display_data",
          "data": {
            "image/png": "[encoded data removed]",
            "text/plain": [
              "<Figure size 432x288 with 1 Axes>"
            ]
          },
          "metadata": {
            "tags": []
          }
        }
      ]
    },
    {
      "cell_type": "code",
      "metadata": {
        "id": "FGb_nSF70JCc",
        "colab_type": "code",
        "outputId": "06ea504c-dee0-442c-cf24-ccfeb204ea87",
        "colab": {
          "base_uri": "https://localhost:8080/",
          "height": 34
        }
      },
      "source": [
        "target = np.array([0] * h + [1] * h).reshape(n, 1)\n",
        "\n",
        "x = torch.from_numpy(data).float().requires_grad_(True)\n",
        "\n",
        "y = torch.from_numpy(target).float()\n",
        "\n",
        "x.shape, y.shape"
      ],
      "execution_count": 0,
      "outputs": [
        {
          "output_type": "execute_result",
          "data": {
            "text/plain": [
              "(torch.Size([100, 2]), torch.Size([100, 1]))"
            ]
          },
          "metadata": {
            "tags": []
          },
          "execution_count": 39
        }
      ]
    },
    {
      "cell_type": "code",
      "metadata": {
        "id": "RqHBcbqd7QCO",
        "colab_type": "code",
        "outputId": "676c80b2-eca1-4844-be21-33808c46bf3f",
        "colab": {
          "base_uri": "https://localhost:8080/",
          "height": 282
        }
      },
      "source": [
        "model = nn.Sequential( #combina funciones del modulo\n",
        "    nn.Linear(2, 1), #modelo lineal\n",
        "    nn.Sigmoid()) #funcion que ocila entre 0 y 1\n",
        "\n",
        "loss_function = nn.BCELoss() #\n",
        "optimizer = optim.SGD(model.parameters(), lr=0.01) #\n",
        "losses = [] #\n",
        "iterations = 1000 #\n",
        "#learning rate\n",
        "for i in range(iterations):\n",
        "  #forward\n",
        "  result = model(x) #modelo\n",
        "  loss = loss_function(result, y) #\n",
        "  losses.append(loss.data) #\n",
        "  #backward\n",
        "  optimizer.zero_grad() #\n",
        "  loss.backward() #\n",
        "  optimizer.step() #\n",
        "\n",
        "plt.plot(range(iterations), losses)\n",
        "loss"
      ],
      "execution_count": 0,
      "outputs": [
        {
          "output_type": "execute_result",
          "data": {
            "text/plain": [
              "tensor(0.2218, grad_fn=<BinaryCrossEntropyBackward>)"
            ]
          },
          "metadata": {
            "tags": []
          },
          "execution_count": 46
        },
        {
          "output_type": "display_data",
          "data": {
            "image/png": "[encoded data removed]",
            "text/plain": [
              "<Figure size 432x288 with 1 Axes>"
            ]
          },
          "metadata": {
            "tags": []
          }
        }
      ]
    },
    {
      "cell_type": "code",
      "metadata": {
        "id": "1uagLJIp9vxs",
        "colab_type": "code",
        "outputId": "6b47c0ff-ea0e-4046-a457-788e9289f88d",
        "colab": {
          "base_uri": "https://localhost:8080/",
          "height": 50
        }
      },
      "source": [
        "blue = torch.Tensor([[-5, -6]])\n",
        "prediction = model(blue).data[0][0] > 0.5\n",
        "print(colors[prediction])\n",
        "\n",
        "red = torch.Tensor([[5, 6]])\n",
        "prediction = model(red).data[0][0] > 0.5\n",
        "print(colors[prediction])"
      ],
      "execution_count": 0,
      "outputs": [
        {
          "output_type": "stream",
          "text": [
            "blue\n",
            "red\n"
          ],
          "name": "stdout"
        }
      ]
    },
    {
      "cell_type": "code",
      "metadata": {
        "id": "E1N4tv12-e-J",
        "colab_type": "code",
        "outputId": "f84967d1-afdb-4f81-a0c0-ef93d887a186",
        "colab": {
          "base_uri": "https://localhost:8080/",
          "height": 282
        }
      },
      "source": [
        "w = list(model.parameters())\n",
        "w0 = w[0].data.numpy()\n",
        "w1 = w[1].data.numpy()\n",
        "\n",
        "plt.scatter(data[:,0], data[:,1], c=color, s=75, alpha=0.6)\n",
        "\n",
        "x_axis = np.linspace(-10, 10, n)\n",
        "y_axis = -(w1[0] + x_axis*w0[0][0]) / w0[0][1]\n",
        "plt.plot(x_axis, y_axis, 'g--')"
      ],
      "execution_count": 0,
      "outputs": [
        {
          "output_type": "execute_result",
          "data": {
            "text/plain": [
              "[<matplotlib.lines.Line2D at 0x7fc80c8cfa90>]"
            ]
          },
          "metadata": {
            "tags": []
          },
          "execution_count": 48
        },
        {
          "output_type": "display_data",
          "data": {
            "image/png": "[encoded data removed]",
            "text/plain": [
              "<Figure size 432x288 with 1 Axes>"
            ]
          },
          "metadata": {
            "tags": []
          }
        }
      ]
    }
  ]
}