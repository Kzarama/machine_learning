{
  "nbformat": 4,
  "nbformat_minor": 0,
  "metadata": {
    "colab": {
      "name": "Tensores.ipynb",
      "provenance": []
    },
    "kernelspec": {
      "name": "python3",
      "display_name": "Python 3"
    }
  },
  "cells": [
    {
      "cell_type": "code",
      "metadata": {
        "id": "eJZs43E1nr9q",
        "colab_type": "code",
        "colab": {}
      },
      "source": [
        "import torch\n",
        "import numpy as np\n",
        "\n",
        "import pandas as pd"
      ],
      "execution_count": 0,
      "outputs": []
    },
    {
      "cell_type": "markdown",
      "metadata": {
        "id": "t86TIbYhn6be",
        "colab_type": "text"
      },
      "source": [
        "#Trabajando con tensores"
      ]
    },
    {
      "cell_type": "markdown",
      "metadata": {
        "id": "7cYmu3CmvsnI",
        "colab_type": "text"
      },
      "source": [
        "version de torch"
      ]
    },
    {
      "cell_type": "code",
      "metadata": {
        "id": "yxu6nTeGoHrn",
        "colab_type": "code",
        "outputId": "e5816ff2-071e-4c68-9a10-6e086e67e4d5",
        "colab": {
          "base_uri": "https://localhost:8080/",
          "height": 34
        }
      },
      "source": [
        "torch.__version__"
      ],
      "execution_count": 0,
      "outputs": [
        {
          "output_type": "execute_result",
          "data": {
            "text/plain": [
              "'1.4.0'"
            ]
          },
          "metadata": {
            "tags": []
          },
          "execution_count": 2
        }
      ]
    },
    {
      "cell_type": "markdown",
      "metadata": {
        "id": "y6VtaeDRvxXp",
        "colab_type": "text"
      },
      "source": [
        "crear tensor con datos 1"
      ]
    },
    {
      "cell_type": "code",
      "metadata": {
        "id": "LSVnjS8ooP8P",
        "colab_type": "code",
        "outputId": "06ea60a2-92a3-4e47-b6c9-c66417ce4f5a",
        "colab": {
          "base_uri": "https://localhost:8080/",
          "height": 51
        }
      },
      "source": [
        "tensor_a = torch.ones(2, 2)\n",
        "tensor_a"
      ],
      "execution_count": 0,
      "outputs": [
        {
          "output_type": "execute_result",
          "data": {
            "text/plain": [
              "tensor([[1., 1.],\n",
              "        [1., 1.]])"
            ]
          },
          "metadata": {
            "tags": []
          },
          "execution_count": 3
        }
      ]
    },
    {
      "cell_type": "markdown",
      "metadata": {
        "id": "gqb_VUPMv5nh",
        "colab_type": "text"
      },
      "source": [
        "crear tensor con datos aleatorios<br>\n",
        "crear tensor con datos aleatorios entre dos numeros"
      ]
    },
    {
      "cell_type": "code",
      "metadata": {
        "id": "Va7jNxrXoclh",
        "colab_type": "code",
        "outputId": "c4bcce8a-dcb5-45df-9cbd-77671d73ca4d",
        "colab": {
          "base_uri": "https://localhost:8080/",
          "height": 85
        }
      },
      "source": [
        "tensor_b = torch.Tensor(2, 2)\n",
        "print(tensor_b)\n",
        "tensor_b.uniform_(0, 1)"
      ],
      "execution_count": 0,
      "outputs": [
        {
          "output_type": "stream",
          "text": [
            "tensor([[2.4651e-35, 0.0000e+00],\n",
            "        [3.7835e-44, 0.0000e+00]])\n"
          ],
          "name": "stdout"
        },
        {
          "output_type": "execute_result",
          "data": {
            "text/plain": [
              "tensor([[0.9334, 0.8200],\n",
              "        [0.3107, 0.9563]])"
            ]
          },
          "metadata": {
            "tags": []
          },
          "execution_count": 4
        }
      ]
    },
    {
      "cell_type": "markdown",
      "metadata": {
        "id": "Sy6_cUi3wNhd",
        "colab_type": "text"
      },
      "source": [
        "tensor con numeros random"
      ]
    },
    {
      "cell_type": "code",
      "metadata": {
        "id": "On1sjawbo0tR",
        "colab_type": "code",
        "outputId": "a3d2bbff-b457-49ef-a241-fb5493bcd65c",
        "colab": {
          "base_uri": "https://localhost:8080/",
          "height": 51
        }
      },
      "source": [
        "tensor_c = torch.rand(2, 2)\n",
        "tensor_c"
      ],
      "execution_count": 0,
      "outputs": [
        {
          "output_type": "execute_result",
          "data": {
            "text/plain": [
              "tensor([[0.9286, 0.7836],\n",
              "        [0.8580, 0.8641]])"
            ]
          },
          "metadata": {
            "tags": []
          },
          "execution_count": 5
        }
      ]
    },
    {
      "cell_type": "markdown",
      "metadata": {
        "id": "AwjoMDs3wiHo",
        "colab_type": "text"
      },
      "source": [
        "suma de tensores"
      ]
    },
    {
      "cell_type": "code",
      "metadata": {
        "id": "QpThwcRRpJ9n",
        "colab_type": "code",
        "outputId": "47d30e5e-4b30-4540-d53f-15d6efde09a4",
        "colab": {
          "base_uri": "https://localhost:8080/",
          "height": 51
        }
      },
      "source": [
        "result = tensor_b + tensor_c\n",
        "result"
      ],
      "execution_count": 0,
      "outputs": [
        {
          "output_type": "execute_result",
          "data": {
            "text/plain": [
              "tensor([[1.8620, 1.6036],\n",
              "        [1.1686, 1.8205]])"
            ]
          },
          "metadata": {
            "tags": []
          },
          "execution_count": 6
        }
      ]
    },
    {
      "cell_type": "markdown",
      "metadata": {
        "id": "es4pLDa2wlv5",
        "colab_type": "text"
      },
      "source": [
        "shape => forma del tensor\n",
        "view => cambiar tamaño tensor"
      ]
    },
    {
      "cell_type": "code",
      "metadata": {
        "id": "-ybvUGbopR1L",
        "colab_type": "code",
        "outputId": "478b9b85-3a87-48e0-dda1-b23e0321366a",
        "colab": {
          "base_uri": "https://localhost:8080/",
          "height": 51
        }
      },
      "source": [
        "print(tensor_a.shape)\n",
        "reshaped = result.view(1, 4)\n",
        "reshaped"
      ],
      "execution_count": 0,
      "outputs": [
        {
          "output_type": "stream",
          "text": [
            "torch.Size([2, 2])\n"
          ],
          "name": "stdout"
        },
        {
          "output_type": "execute_result",
          "data": {
            "text/plain": [
              "tensor([[1.8620, 1.6036, 1.1686, 1.8205]])"
            ]
          },
          "metadata": {
            "tags": []
          },
          "execution_count": 7
        }
      ]
    },
    {
      "cell_type": "markdown",
      "metadata": {
        "id": "QXCHt3LKyGub",
        "colab_type": "text"
      },
      "source": [
        "crear tensor<br>\n",
        "cambiar elemento de tensor<br>\n",
        "array unidimensional"
      ]
    },
    {
      "cell_type": "code",
      "metadata": {
        "id": "Nc48Saf_p1IH",
        "colab_type": "code",
        "outputId": "e0eacf13-332c-4007-91d7-b075aefd3b63",
        "colab": {
          "base_uri": "https://localhost:8080/",
          "height": 153
        }
      },
      "source": [
        "points = torch.tensor([[1.0, 2.0], [3.0,4.0]])\n",
        "print(points)\n",
        "points[0][1] = 2.5\n",
        "print(points[0][1])\n",
        "points.storage()"
      ],
      "execution_count": 0,
      "outputs": [
        {
          "output_type": "stream",
          "text": [
            "tensor([[1., 2.],\n",
            "        [3., 4.]])\n",
            "tensor(2.5000)\n"
          ],
          "name": "stdout"
        },
        {
          "output_type": "execute_result",
          "data": {
            "text/plain": [
              " 1.0\n",
              " 2.5\n",
              " 3.0\n",
              " 4.0\n",
              "[torch.FloatStorage of size 4]"
            ]
          },
          "metadata": {
            "tags": []
          },
          "execution_count": 8
        }
      ]
    },
    {
      "cell_type": "markdown",
      "metadata": {
        "id": "nA9C3EqMyuB9",
        "colab_type": "text"
      },
      "source": [
        "salto necesario para llegar al otro elemento en una dimension especifica"
      ]
    },
    {
      "cell_type": "code",
      "metadata": {
        "id": "W8OEdunzqwe4",
        "colab_type": "code",
        "outputId": "65d07158-cb10-4c2b-efff-6a6954e5e9f1",
        "colab": {
          "base_uri": "https://localhost:8080/",
          "height": 34
        }
      },
      "source": [
        "print(points.stride())"
      ],
      "execution_count": 0,
      "outputs": [
        {
          "output_type": "stream",
          "text": [
            "(2, 1)\n"
          ],
          "name": "stdout"
        }
      ]
    },
    {
      "cell_type": "markdown",
      "metadata": {
        "id": "xpJzY7rrm6VV",
        "colab_type": "text"
      },
      "source": [
        "transpuesta"
      ]
    },
    {
      "cell_type": "code",
      "metadata": {
        "id": "T4p4DgB7q274",
        "colab_type": "code",
        "outputId": "dac796c2-5588-4833-d9d2-3d28416dcec7",
        "colab": {
          "base_uri": "https://localhost:8080/",
          "height": 51
        }
      },
      "source": [
        "p_t = points.t()\n",
        "p_t"
      ],
      "execution_count": 0,
      "outputs": [
        {
          "output_type": "execute_result",
          "data": {
            "text/plain": [
              "tensor([[1.0000, 3.0000],\n",
              "        [2.5000, 4.0000]])"
            ]
          },
          "metadata": {
            "tags": []
          },
          "execution_count": 10
        }
      ]
    },
    {
      "cell_type": "markdown",
      "metadata": {
        "id": "dSg8Sw-2m86z",
        "colab_type": "text"
      },
      "source": [
        "hacer un tensor con los elementos dados<br>\n",
        "colocar todos los elementos en la misma dimension horizontal o vertical"
      ]
    },
    {
      "cell_type": "code",
      "metadata": {
        "id": "B4U2eHaQrGVR",
        "colab_type": "code",
        "outputId": "59158d3b-a7c5-4f17-935d-d907448ecf43",
        "colab": {
          "base_uri": "https://localhost:8080/",
          "height": 102
        }
      },
      "source": [
        "tensor_x = torch.tensor([1,2,3,4])\n",
        "print(torch.unsqueeze(tensor_x, 0))#horizontal\n",
        "print(torch.unsqueeze(tensor_x, 1))#vertical"
      ],
      "execution_count": 0,
      "outputs": [
        {
          "output_type": "stream",
          "text": [
            "tensor([[1, 2, 3, 4]])\n",
            "tensor([[1],\n",
            "        [2],\n",
            "        [3],\n",
            "        [4]])\n"
          ],
          "name": "stdout"
        }
      ]
    },
    {
      "cell_type": "markdown",
      "metadata": {
        "id": "9TvpNmz6nQHR",
        "colab_type": "text"
      },
      "source": [
        "tensor con numpy y numeros random"
      ]
    },
    {
      "cell_type": "code",
      "metadata": {
        "id": "ZzTcJVY6ss_t",
        "colab_type": "code",
        "outputId": "2c7aa21a-371b-493b-b3dd-4ef2aeb8158b",
        "colab": {
          "base_uri": "https://localhost:8080/",
          "height": 51
        }
      },
      "source": [
        "numpyArray = np.random.rand(2, 2)\n",
        "from_numpy = torch.from_numpy(numpyArray)\n",
        "from_numpy"
      ],
      "execution_count": 0,
      "outputs": [
        {
          "output_type": "execute_result",
          "data": {
            "text/plain": [
              "tensor([[0.5102, 0.0513],\n",
              "        [0.7309, 0.4505]], dtype=torch.float64)"
            ]
          },
          "metadata": {
            "tags": []
          },
          "execution_count": 12
        }
      ]
    },
    {
      "cell_type": "markdown",
      "metadata": {
        "id": "EQWcEq52BlKP",
        "colab_type": "text"
      },
      "source": [
        "#Representar datos con tensores\n",
        "\n",
        "---"
      ]
    },
    {
      "cell_type": "markdown",
      "metadata": {
        "id": "HxhTiWlMCjQL",
        "colab_type": "text"
      },
      "source": [
        "media del tensor"
      ]
    },
    {
      "cell_type": "code",
      "metadata": {
        "id": "-mWo7QawBq5k",
        "colab_type": "code",
        "outputId": "3e81ea12-2abf-4da8-e594-ad06be7bea16",
        "colab": {
          "base_uri": "https://localhost:8080/",
          "height": 102
        }
      },
      "source": [
        "print(from_numpy)\n",
        "print(torch.mean(from_numpy))\n",
        "print(torch.mean(from_numpy, dim=0))\n",
        "print(torch.mean(from_numpy, dim=1))"
      ],
      "execution_count": 0,
      "outputs": [
        {
          "output_type": "stream",
          "text": [
            "tensor([[0.5102, 0.0513],\n",
            "        [0.7309, 0.4505]], dtype=torch.float64)\n",
            "tensor(0.4357, dtype=torch.float64)\n",
            "tensor([0.6205, 0.2509], dtype=torch.float64)\n",
            "tensor([0.2808, 0.5907], dtype=torch.float64)\n"
          ],
          "name": "stdout"
        }
      ]
    },
    {
      "cell_type": "markdown",
      "metadata": {
        "id": "oNtTpbGECoZx",
        "colab_type": "text"
      },
      "source": [
        "desviacion estandar"
      ]
    },
    {
      "cell_type": "code",
      "metadata": {
        "id": "pY-vRo0sCqse",
        "colab_type": "code",
        "outputId": "4e846ee7-4b2d-4d6d-cdb8-217849ef53e2",
        "colab": {
          "base_uri": "https://localhost:8080/",
          "height": 34
        }
      },
      "source": [
        "torch.std(from_numpy, dim=1)"
      ],
      "execution_count": 0,
      "outputs": [
        {
          "output_type": "execute_result",
          "data": {
            "text/plain": [
              "tensor([0.3245, 0.1982], dtype=torch.float64)"
            ]
          },
          "metadata": {
            "tags": []
          },
          "execution_count": 14
        }
      ]
    },
    {
      "cell_type": "markdown",
      "metadata": {
        "id": "9YHX5XgB_L_c",
        "colab_type": "text"
      },
      "source": [
        "guardar tensor"
      ]
    },
    {
      "cell_type": "code",
      "metadata": {
        "id": "con7B5lKC57N",
        "colab_type": "code",
        "colab": {}
      },
      "source": [
        "torch.save(from_numpy, 'tensor.t')"
      ],
      "execution_count": 0,
      "outputs": []
    },
    {
      "cell_type": "markdown",
      "metadata": {
        "id": "pJ8YSKWK_PTL",
        "colab_type": "text"
      },
      "source": [
        "cargar tensor"
      ]
    },
    {
      "cell_type": "code",
      "metadata": {
        "id": "yV5AuPpnDX-4",
        "colab_type": "code",
        "outputId": "62fa7173-6b54-4c6e-ef5a-7d6fccee2a10",
        "colab": {
          "base_uri": "https://localhost:8080/",
          "height": 51
        }
      },
      "source": [
        "load = torch.load('tensor.t')\n",
        "load"
      ],
      "execution_count": 0,
      "outputs": [
        {
          "output_type": "execute_result",
          "data": {
            "text/plain": [
              "tensor([[0.5102, 0.0513],\n",
              "        [0.7309, 0.4505]], dtype=torch.float64)"
            ]
          },
          "metadata": {
            "tags": []
          },
          "execution_count": 16
        }
      ]
    },
    {
      "cell_type": "markdown",
      "metadata": {
        "id": "9l9DiCUgAarq",
        "colab_type": "text"
      },
      "source": [
        "cargar dataset desde url"
      ]
    },
    {
      "cell_type": "code",
      "metadata": {
        "id": "nDxBv-0PDuqq",
        "colab_type": "code",
        "colab": {}
      },
      "source": [
        "url = \"https://raw.githubusercontent.com/amanthedorkknight/fifa18-all-player-statistics/master/2019/data.csv\"\n",
        "dataframe = pd.read_csv(url)\n",
        "dataframe"
      ],
      "execution_count": 0,
      "outputs": []
    },
    {
      "cell_type": "markdown",
      "metadata": {
        "id": "qoT6Rn5GAhPB",
        "colab_type": "text"
      },
      "source": [
        "mostrar columnas del dataset"
      ]
    },
    {
      "cell_type": "code",
      "metadata": {
        "id": "1eULbI4eF6yL",
        "colab_type": "code",
        "colab": {}
      },
      "source": [
        "dataframe.columns"
      ],
      "execution_count": 0,
      "outputs": []
    },
    {
      "cell_type": "markdown",
      "metadata": {
        "id": "CBPPmWU_AkPD",
        "colab_type": "text"
      },
      "source": [
        "hacer subconjunto del dataset- eliminar datos nulos"
      ]
    },
    {
      "cell_type": "code",
      "metadata": {
        "id": "40bhmCZOF_FL",
        "colab_type": "code",
        "outputId": "ce4a7833-d2c8-4eea-c065-045e4746ecdd",
        "colab": {
          "base_uri": "https://localhost:8080/",
          "height": 34
        }
      },
      "source": [
        "subset = dataframe[['Overall', 'Age', 'International Reputation', 'Weak Foot',\n",
        "       'Skill Moves',]].dropna(axis=0, how='any')\n",
        "columns = subset.columns[1:]\n",
        "players = torch.tensor(subset.values).float()\n",
        "players.shape, players.type()"
      ],
      "execution_count": 0,
      "outputs": [
        {
          "output_type": "execute_result",
          "data": {
            "text/plain": [
              "(torch.Size([18159, 5]), 'torch.FloatTensor')"
            ]
          },
          "metadata": {
            "tags": []
          },
          "execution_count": 19
        }
      ]
    },
    {
      "cell_type": "markdown",
      "metadata": {
        "id": "UoZTCCQuA9IQ",
        "colab_type": "text"
      },
      "source": [
        "tomar datos del subset"
      ]
    },
    {
      "cell_type": "code",
      "metadata": {
        "id": "e4gHZ8C2HYD8",
        "colab_type": "code",
        "outputId": "2a932e22-e873-466a-b551-d85062c8951c",
        "colab": {
          "base_uri": "https://localhost:8080/",
          "height": 136
        }
      },
      "source": [
        "data = players[:, 1:]\n",
        "data, data.shape"
      ],
      "execution_count": 0,
      "outputs": [
        {
          "output_type": "execute_result",
          "data": {
            "text/plain": [
              "(tensor([[31.,  5.,  4.,  4.],\n",
              "         [33.,  5.,  4.,  5.],\n",
              "         [26.,  5.,  5.,  5.],\n",
              "         ...,\n",
              "         [16.,  1.,  3.,  2.],\n",
              "         [17.,  1.,  3.,  2.],\n",
              "         [16.,  1.,  3.,  2.]]), torch.Size([18159, 4]))"
            ]
          },
          "metadata": {
            "tags": []
          },
          "execution_count": 26
        }
      ]
    },
    {
      "cell_type": "markdown",
      "metadata": {
        "id": "Ap71QJs8BPan",
        "colab_type": "text"
      },
      "source": [
        "obtener primera columna (overall)"
      ]
    },
    {
      "cell_type": "code",
      "metadata": {
        "id": "ffvz4H0zHibN",
        "colab_type": "code",
        "outputId": "3e2cfe60-48aa-421e-c7a8-4f6056b1e682",
        "colab": {
          "base_uri": "https://localhost:8080/",
          "height": 34
        }
      },
      "source": [
        "target = players[:, 0]\n",
        "target, target.shape"
      ],
      "execution_count": 0,
      "outputs": [
        {
          "output_type": "execute_result",
          "data": {
            "text/plain": [
              "(tensor([94., 94., 92.,  ..., 47., 47., 46.]), torch.Size([18159]))"
            ]
          },
          "metadata": {
            "tags": []
          },
          "execution_count": 21
        }
      ]
    },
    {
      "cell_type": "markdown",
      "metadata": {
        "id": "qkdr92haBX5c",
        "colab_type": "text"
      },
      "source": [
        "promedio datos"
      ]
    },
    {
      "cell_type": "code",
      "metadata": {
        "id": "MZVnh4noHp8r",
        "colab_type": "code",
        "outputId": "839bee26-b094-4f36-c7a3-ac9eef1ad43a",
        "colab": {
          "base_uri": "https://localhost:8080/",
          "height": 34
        }
      },
      "source": [
        "mean = torch.mean(data, dim=0)\n",
        "mean"
      ],
      "execution_count": 0,
      "outputs": [
        {
          "output_type": "execute_result",
          "data": {
            "text/plain": [
              "tensor([25.1225,  1.1132,  2.9473,  2.3613])"
            ]
          },
          "metadata": {
            "tags": []
          },
          "execution_count": 22
        }
      ]
    },
    {
      "cell_type": "markdown",
      "metadata": {
        "id": "HJrfj8KDBuQB",
        "colab_type": "text"
      },
      "source": [
        "desviacion estandar de los datos"
      ]
    },
    {
      "cell_type": "code",
      "metadata": {
        "id": "vRibRw8tBo3h",
        "colab_type": "code",
        "outputId": "812feb93-0424-49bf-a932-8b8e3fdc80d3",
        "colab": {
          "base_uri": "https://localhost:8080/",
          "height": 34
        }
      },
      "source": [
        "std = torch.std(data, dim=0)\n",
        "std"
      ],
      "execution_count": 0,
      "outputs": [
        {
          "output_type": "execute_result",
          "data": {
            "text/plain": [
              "tensor([4.6706, 0.3940, 0.6605, 0.7562])"
            ]
          },
          "metadata": {
            "tags": []
          },
          "execution_count": 24
        }
      ]
    },
    {
      "cell_type": "markdown",
      "metadata": {
        "id": "5cGG4DlaB0_I",
        "colab_type": "text"
      },
      "source": [
        "normalizar datos"
      ]
    },
    {
      "cell_type": "code",
      "metadata": {
        "id": "z5YxJwY3Bxf1",
        "colab_type": "code",
        "outputId": "9816b924-c87a-49db-e2f2-45a5a43fc11d",
        "colab": {
          "base_uri": "https://localhost:8080/",
          "height": 136
        }
      },
      "source": [
        "norm = (data - mean)/torch.sqrt(std)\n",
        "norm"
      ],
      "execution_count": 0,
      "outputs": [
        {
          "output_type": "execute_result",
          "data": {
            "text/plain": [
              "tensor([[ 2.7196,  6.1919,  1.2953,  1.8845],\n",
              "        [ 3.6450,  6.1919,  1.2953,  3.0345],\n",
              "        [ 0.4060,  6.1919,  2.5258,  3.0345],\n",
              "        ...,\n",
              "        [-4.2211, -0.1804,  0.0648, -0.4155],\n",
              "        [-3.7584, -0.1804,  0.0648, -0.4155],\n",
              "        [-4.2211, -0.1804,  0.0648, -0.4155]])"
            ]
          },
          "metadata": {
            "tags": []
          },
          "execution_count": 25
        }
      ]
    },
    {
      "cell_type": "markdown",
      "metadata": {
        "id": "U3t3fRHwQbQt",
        "colab_type": "text"
      },
      "source": [
        "separar por edad<br>\n",
        "torch.ge() valores mayores o iguales<br>\n",
        "torch.gt() valores mayores<br>\n",
        "torch.lt() valores menores<br>\n",
        "torch.le() valores menores o iguales<br>"
      ]
    },
    {
      "cell_type": "code",
      "metadata": {
        "id": "S1u8QzeuLf1q",
        "colab_type": "code",
        "outputId": "0a454af7-b258-404f-d020-d33cdef258fd",
        "colab": {
          "base_uri": "https://localhost:8080/",
          "height": 85
        }
      },
      "source": [
        "good = data[torch.ge(target, 85)]\n",
        "average = data[torch.gt(target, 70) & torch.lt(target, 85)]\n",
        "not_good = data[torch.le(target, 70)]\n",
        "\n",
        "goodMean = torch.mean(good, dim=0)\n",
        "averageMean = torch.mean(average, dim=0)\n",
        "not_goodMean = torch.mean(not_good, dim=0)\n",
        "\n",
        "for i, args in enumerate(zip(columns, goodMean, averageMean, not_goodMean)):\n",
        "  print('{:25} {:6.2f} {:6.2f} {:6.2f}'.format(*args))"
      ],
      "execution_count": 0,
      "outputs": [
        {
          "output_type": "stream",
          "text": [
            "Age                        28.35  27.23  24.37\n",
            "International Reputation    3.38   1.36   1.01\n",
            "Weak Foot                   3.45   3.11   2.89\n",
            "Skill Moves                 3.04   2.75   2.22\n"
          ],
          "name": "stdout"
        }
      ]
    }
  ]
}