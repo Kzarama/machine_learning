{
  "nbformat": 4,
  "nbformat_minor": 0,
  "metadata": {
    "colab": {
      "name": "Clase2_Regresion.ipynb",
      "provenance": []
    },
    "kernelspec": {
      "name": "python3",
      "display_name": "Python 3"
    }
  },
  "cells": [
    {
      "cell_type": "code",
      "metadata": {
        "id": "iPCDanuxRxfq",
        "colab_type": "code",
        "colab": {}
      },
      "source": [
        "import torch\n",
        "import numpy as np\n",
        "# Neural networks\n",
        "import torch.nn as nn\n",
        "# Optimization for calculating gradients and backpropagation\n",
        "import torch.optim as optim\n",
        "import matplotlib.pyplot as plt"
      ],
      "execution_count": 1,
      "outputs": []
    },
    {
      "cell_type": "markdown",
      "metadata": {
        "id": "_rDDw06GShsg",
        "colab_type": "text"
      },
      "source": [
        "\n",
        "# Linear regression\n",
        "---"
      ]
    },
    {
      "cell_type": "code",
      "metadata": {
        "id": "Qt51OQ64SgqG",
        "colab_type": "code",
        "colab": {
          "base_uri": "https://localhost:8080/",
          "height": 282
        },
        "outputId": "8fca2f92-1dfa-458f-b793-f8f4b7418249"
      },
      "source": [
        "car_prices = [5, 6, 7, 8, 9, 10]\n",
        "units_sold = [8.5, 8.0, 7.5, 7.0, 6.5, 6.0]\n",
        "\n",
        "plt.scatter(car_prices, units_sold)"
      ],
      "execution_count": 2,
      "outputs": [
        {
          "output_type": "execute_result",
          "data": {
            "text/plain": [
              "<matplotlib.collections.PathCollection at 0x7f8797a03ba8>"
            ]
          },
          "metadata": {
            "tags": []
          },
          "execution_count": 2
        },
        {
          "output_type": "display_data",
          "data": {
            "image/png": "[encoded data removed]",
            "text/plain": [
              "<Figure size 432x288 with 1 Axes>"
            ]
          },
          "metadata": {
            "tags": [],
            "needs_background": "light"
          }
        }
      ]
    },
    {
      "cell_type": "code",
      "metadata": {
        "id": "RN3RBROyTLET",
        "colab_type": "code",
        "colab": {}
      },
      "source": [
        "# Convert python arrays to numpy arrays\n",
        "prices_array = np.array(car_prices).reshape(-1, 1)\n",
        "units_array = np.array(units_sold).reshape(-1, 1)"
      ],
      "execution_count": 3,
      "outputs": []
    },
    {
      "cell_type": "code",
      "metadata": {
        "id": "Oqub503KWVle",
        "colab_type": "code",
        "colab": {}
      },
      "source": [
        "# Convert numpy array to tensor\n",
        "# Gradients are required for the construction of the tensor\n",
        "prices = torch.from_numpy(prices_array).float().requires_grad_(True) \n",
        "# Gradients are not required because units are the target\n",
        "units = torch.from_numpy(units_array).float()\n",
        "\n",
        "#prices, prices.shape, units, units.shape"
      ],
      "execution_count": 4,
      "outputs": []
    },
    {
      "cell_type": "markdown",
      "metadata": {
        "id": "bQmg4gq8ZUoE",
        "colab_type": "text"
      },
      "source": [
        "Creating model"
      ]
    },
    {
      "cell_type": "code",
      "metadata": {
        "id": "GUuswAPpXwB-",
        "colab_type": "code",
        "colab": {
          "base_uri": "https://localhost:8080/",
          "height": 298
        },
        "outputId": "17102cf1-d9d2-4799-85f6-8531a4368418"
      },
      "source": [
        "# Training model (input and output dimension size)\n",
        "model = nn.Linear(1, 1)\n",
        "# Loss function, mean square of errors\n",
        "loss_function = nn.MSELoss()\n",
        "# Define the optimizer, for calculate the gradient (SGD = stochastic gradient descent, lr = learing rate)\n",
        "optimizer = optim.SGD(model.parameters(), lr=0.015)\n",
        "losses = []\n",
        "iterations = 2000\n",
        "# Trainning loop\n",
        "for i in range(iterations):\n",
        "  # Forward pass\n",
        "  # Prediction\n",
        "  pred = model(prices)\n",
        "  # Loss, prediction y real value\n",
        "  loss = loss_function(pred, units)\n",
        "  losses.append(loss.data)\n",
        "  # Backware pass\n",
        "  # Restart gradients\n",
        "  optimizer.zero_grad()\n",
        "  loss.backward()\n",
        "  # Move at the minimum\n",
        "  optimizer.step()\n",
        "\n",
        "print(float(loss))\n",
        "plt.plot(range(iterations), losses)"
      ],
      "execution_count": 5,
      "outputs": [
        {
          "output_type": "stream",
          "text": [
            "0.015474889427423477\n"
          ],
          "name": "stdout"
        },
        {
          "output_type": "execute_result",
          "data": {
            "text/plain": [
              "[<matplotlib.lines.Line2D at 0x7f8796d06ef0>]"
            ]
          },
          "metadata": {
            "tags": []
          },
          "execution_count": 5
        },
        {
          "output_type": "display_data",
          "data": {
            "image/png": "[encoded data removed]",
            "text/plain": [
              "<Figure size 432x288 with 1 Axes>"
            ]
          },
          "metadata": {
            "tags": [],
            "needs_background": "light"
          }
        }
      ]
    },
    {
      "cell_type": "code",
      "metadata": {
        "id": "vTajNPnnqiRl",
        "colab_type": "code",
        "colab": {
          "base_uri": "https://localhost:8080/",
          "height": 34
        },
        "outputId": "65868238-3c46-4acc-a8ae-8ce97166c851"
      },
      "source": [
        "# Prediction\n",
        "x = torch.Tensor([[4.0]])\n",
        "# Send prediction\n",
        "p = model(x)\n",
        "p"
      ],
      "execution_count": 6,
      "outputs": [
        {
          "output_type": "execute_result",
          "data": {
            "text/plain": [
              "tensor([[8.7244]], grad_fn=<AddmmBackward>)"
            ]
          },
          "metadata": {
            "tags": []
          },
          "execution_count": 6
        }
      ]
    },
    {
      "cell_type": "markdown",
      "metadata": {
        "id": "O2YxIWhiu2eB",
        "colab_type": "text"
      },
      "source": [
        "# Logistic regression\n",
        "---\n",
        "\n"
      ]
    },
    {
      "cell_type": "code",
      "metadata": {
        "id": "Zppoqa0kvEwo",
        "colab_type": "code",
        "colab": {}
      },
      "source": [
        "n = 100\n",
        "h = n//2\n",
        "dimen = 2\n",
        "# Create data with random points\n",
        "data = np.random.randn(n, dimen)*3"
      ],
      "execution_count": 7,
      "outputs": []
    },
    {
      "cell_type": "code",
      "metadata": {
        "id": "N80AQ2wDvtd6",
        "colab_type": "code",
        "colab": {
          "base_uri": "https://localhost:8080/",
          "height": 282
        },
        "outputId": "741bcb63-6720-4f0d-a91d-df8924de37c2"
      },
      "source": [
        "plt.scatter(data[:,0], data[:,1])"
      ],
      "execution_count": 8,
      "outputs": [
        {
          "output_type": "execute_result",
          "data": {
            "text/plain": [
              "<matplotlib.collections.PathCollection at 0x7f8796c7fe48>"
            ]
          },
          "metadata": {
            "tags": []
          },
          "execution_count": 8
        },
        {
          "output_type": "display_data",
          "data": {
            "image/png": "[encoded data removed]",
            "text/plain": [
              "<Figure size 432x288 with 1 Axes>"
            ]
          },
          "metadata": {
            "tags": [],
            "needs_background": "light"
          }
        }
      ]
    },
    {
      "cell_type": "code",
      "metadata": {
        "id": "-RPCBb29xV_e",
        "colab_type": "code",
        "colab": {}
      },
      "source": [
        "data[:h, :] = data[:h, :] - 3*np.ones((h, dimen))\n",
        "data[h:, :] = data[h:, :] + 3*np.ones((h, dimen))"
      ],
      "execution_count": 9,
      "outputs": []
    },
    {
      "cell_type": "code",
      "metadata": {
        "id": "yubSxBgVypDe",
        "colab_type": "code",
        "colab": {
          "base_uri": "https://localhost:8080/",
          "height": 282
        },
        "outputId": "e22f5815-e3a8-41a7-fce8-d591d2df7a85"
      },
      "source": [
        "colors = ['blue', 'red']\n",
        "\n",
        "color = np.array([colors[0]] * h + [colors[1]] * h).reshape(n)\n",
        "plt.scatter(data[:,0], data[:,1], c=color, s=75, alpha=0.6)"
      ],
      "execution_count": 10,
      "outputs": [
        {
          "output_type": "execute_result",
          "data": {
            "text/plain": [
              "<matplotlib.collections.PathCollection at 0x7f8796bf83c8>"
            ]
          },
          "metadata": {
            "tags": []
          },
          "execution_count": 10
        },
        {
          "output_type": "display_data",
          "data": {
            "image/png": "[encoded data removed]",
            "text/plain": [
              "<Figure size 432x288 with 1 Axes>"
            ]
          },
          "metadata": {
            "tags": [],
            "needs_background": "light"
          }
        }
      ]
    },
    {
      "cell_type": "code",
      "metadata": {
        "id": "FGb_nSF70JCc",
        "colab_type": "code",
        "colab": {
          "base_uri": "https://localhost:8080/",
          "height": 34
        },
        "outputId": "f89faf72-dc3e-40bb-9f9b-5ee76deffc45"
      },
      "source": [
        "target = np.array([0] * h + [1] * h).reshape(n, 1)\n",
        "\n",
        "x = torch.from_numpy(data).float().requires_grad_(True)\n",
        "\n",
        "y = torch.from_numpy(target).float()\n",
        "\n",
        "x.shape, y.shape"
      ],
      "execution_count": 11,
      "outputs": [
        {
          "output_type": "execute_result",
          "data": {
            "text/plain": [
              "(torch.Size([100, 2]), torch.Size([100, 1]))"
            ]
          },
          "metadata": {
            "tags": []
          },
          "execution_count": 11
        }
      ]
    },
    {
      "cell_type": "code",
      "metadata": {
        "id": "RqHBcbqd7QCO",
        "colab_type": "code",
        "colab": {
          "base_uri": "https://localhost:8080/",
          "height": 282
        },
        "outputId": "de282dc5-1d71-4b86-9055-b3160d94930c"
      },
      "source": [
        "model = nn.Sequential( # Combine the functios of the model\n",
        "                      nn.Linear(2, 1), # Linear model\n",
        "                      nn.Sigmoid() # Function that oscilates between 0 and 1\n",
        "        )\n",
        "\n",
        "loss_function = nn.BCELoss()\n",
        "optimizer = optim.SGD(model.parameters(), lr=0.01)\n",
        "losses = []\n",
        "iterations = 1000\n",
        "\n",
        "for i in range(iterations):\n",
        "  # Forward\n",
        "  result = model(x) #modelo\n",
        "  loss = loss_function(result, y)\n",
        "  losses.append(loss.data)\n",
        "  # Backward\n",
        "  optimizer.zero_grad()\n",
        "  loss.backward()\n",
        "  \n",
        "  optimizer.step()\n",
        "\n",
        "plt.plot(range(iterations), losses)\n",
        "loss"
      ],
      "execution_count": 12,
      "outputs": [
        {
          "output_type": "execute_result",
          "data": {
            "text/plain": [
              "tensor(0.1842, grad_fn=<BinaryCrossEntropyBackward>)"
            ]
          },
          "metadata": {
            "tags": []
          },
          "execution_count": 12
        },
        {
          "output_type": "display_data",
          "data": {
            "image/png": "[encoded data removed]",
            "text/plain": [
              "<Figure size 432x288 with 1 Axes>"
            ]
          },
          "metadata": {
            "tags": [],
            "needs_background": "light"
          }
        }
      ]
    },
    {
      "cell_type": "code",
      "metadata": {
        "id": "1uagLJIp9vxs",
        "colab_type": "code",
        "colab": {
          "base_uri": "https://localhost:8080/",
          "height": 50
        },
        "outputId": "403aa6da-6304-4018-d518-d8b3b1248167"
      },
      "source": [
        "# Make predictions\n",
        "blue = torch.Tensor([[-5, -6]])\n",
        "prediction = model(blue).data[0][0] > 0.5\n",
        "print('Expected: blue. Predicted:', colors[prediction])\n",
        "\n",
        "red = torch.Tensor([[5, 6]])\n",
        "prediction = model(red).data[0][0] > 0.5\n",
        "print('Expected: red. Predicted:', colors[prediction])"
      ],
      "execution_count": 13,
      "outputs": [
        {
          "output_type": "stream",
          "text": [
            "Expected: blue. Predicted: blue\n",
            "Expected: red. Predicted: red\n"
          ],
          "name": "stdout"
        }
      ]
    },
    {
      "cell_type": "code",
      "metadata": {
        "id": "E1N4tv12-e-J",
        "colab_type": "code",
        "colab": {
          "base_uri": "https://localhost:8080/",
          "height": 282
        },
        "outputId": "ea021dab-293a-485e-a28c-15abc206c61b"
      },
      "source": [
        "w = list(model.parameters())\n",
        "w0 = w[0].data.numpy()\n",
        "w1 = w[1].data.numpy()\n",
        "\n",
        "plt.scatter(data[:,0], data[:,1], c=color, s=75, alpha=0.6)\n",
        "\n",
        "x_axis = np.linspace(-10, 10, n)\n",
        "y_axis = -(w1[0] + x_axis*w0[0][0]) / w0[0][1]\n",
        "plt.plot(x_axis, y_axis, 'g--')"
      ],
      "execution_count": 14,
      "outputs": [
        {
          "output_type": "execute_result",
          "data": {
            "text/plain": [
              "[<matplotlib.lines.Line2D at 0x7f8796b32a58>]"
            ]
          },
          "metadata": {
            "tags": []
          },
          "execution_count": 14
        },
        {
          "output_type": "display_data",
          "data": {
            "image/png": "[encoded data removed]",
            "text/plain": [
              "<Figure size 432x288 with 1 Axes>"
            ]
          },
          "metadata": {
            "tags": [],
            "needs_background": "light"
          }
        }
      ]
    }
  ]
}